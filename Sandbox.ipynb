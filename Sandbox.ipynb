{
 "cells": [
  {
   "cell_type": "code",
   "execution_count": 1,
   "id": "5c0e1de6",
   "metadata": {},
   "outputs": [],
   "source": [
    "import networkx as nx\n",
    "import itertools\n",
    "import numpy as np\n",
    "import random\n",
    "import timeit\n",
    "from matplotlib import pyplot as plt"
   ]
  },
  {
   "cell_type": "markdown",
   "id": "a9c36e4c",
   "metadata": {},
   "source": [
    "$$ D = \\frac{2 |E|}{|V|(|V| -1)}$$"
   ]
  },
  {
   "cell_type": "code",
   "execution_count": 2,
   "id": "32efa52b",
   "metadata": {},
   "outputs": [],
   "source": [
    "def weighten(G):\n",
    "    for (u, v, w) in G.edges(data=True):\n",
    "        w['weight'] = np.random.uniform()\n",
    "    return G"
   ]
  },
  {
   "cell_type": "code",
   "execution_count": 3,
   "id": "ee785f00",
   "metadata": {},
   "outputs": [],
   "source": [
    "def path_to_edge_list(p):\n",
    "    return [(p[i], p[i+1]) for i in range(len(p)-1)]\n",
    "    \n",
    "def all_pairs_shortest_path_subgraph(G):\n",
    "    edgelist = set()\n",
    "    apsp = dict(nx.all_pairs_dijkstra_path(G))\n",
    "    for (i, j) in itertools.combinations(range(G.number_of_nodes()), 2):\n",
    "        edgelist.update(path_to_edge_list(apsp[i][j]))\n",
    "    \n",
    "    return nx.Graph(edgelist)"
   ]
  },
  {
   "cell_type": "code",
   "execution_count": 4,
   "id": "01dcff35",
   "metadata": {},
   "outputs": [],
   "source": [
    "V = 1000\n",
    "D = 0.01\n",
    "E = round(D*V*(V-1)/2)\n",
    "\n",
    "assert round(E / V) == 5\n",
    "\n",
    "G = nx.barabasi_albert_graph(V, round(E/V))\n",
    "G = weighten(G)\n",
    "print(G.number_of_edges())"
   ]
  },
  {
   "cell_type": "code",
   "execution_count": 5,
   "id": "980c98c2",
   "metadata": {},
   "outputs": [],
   "source": [
    "N = 1000"
   ]
  },
  {
   "cell_type": "code",
   "execution_count": 6,
   "id": "31c471df",
   "metadata": {},
   "outputs": [
    {
     "name": "stdout",
     "output_type": "stream",
     "text": [
      "Time: 169 s\n",
      "Time: 343 s\n",
      "Time: 520 s\n",
      "Time: 687 s\n",
      "Time: 857 s\n",
      "Time: 1025 s\n",
      "Time: 1190 s\n",
      "Time: 1370 s\n",
      "Time: 1549 s\n",
      "Time: 1760 s\n"
     ]
    }
   ],
   "source": [
    "start = timeit.default_timer()\n",
    "Distances = []\n",
    "\n",
    "for _ in range(10):\n",
    "    distances = []\n",
    "    g = nx.laplacian_spectrum(G)\n",
    "    distances.append(np.linalg.norm(g-g))\n",
    "    H = G.copy()\n",
    "    for _ in range(N):\n",
    "        H.remove_edge(*random.choice(list(H.edges)))\n",
    "        h = nx.laplacian_spectrum(H)\n",
    "        distances.append(np.linalg.norm(g-h))\n",
    "    Distances.append(distances)\n",
    "    print(f'Time: {timeit.default_timer() - start:.0f} s')"
   ]
  },
  {
   "cell_type": "code",
   "execution_count": 10,
   "id": "6d8508e9",
   "metadata": {},
   "outputs": [
    {
     "data": {
      "image/png": "[encoded data removed]",
      "text/plain": [
       "<Figure size 432x288 with 1 Axes>"
      ]
     },
     "metadata": {
      "needs_background": "light"
     },
     "output_type": "display_data"
    }
   ],
   "source": [
    "x = np.array(range(N+1))\n",
    "m = np.mean(Distances, axis=0)\n",
    "s = np.std(Distances, axis=0)\n",
    "plt.plot(x, m, color='b', linewidth=1, label='mean')\n",
    "plt.plot(x, m + 3*s, color='b', linewidth=1, linestyle='--', label='mean + 3 std')\n",
    "plt.plot(x, m - 3*s, color='b', linewidth=1, linestyle='--', label='mean - 3 std')\n",
    "plt.title('Spectral Laplacian Euclidean distance on original graph')\n",
    "plt.xlabel('# Edge removal')\n",
    "plt.ylabel('Distance')\n",
    "plt.savefig('Spectral Laplacian Euclidean distance on original graph.png', dpi=200)"
   ]
  },
  {
   "cell_type": "code",
   "execution_count": 9,
   "id": "ba283c1b",
   "metadata": {},
   "outputs": [
    {
     "name": "stdout",
     "output_type": "stream",
     "text": [
      "Time: 14 s\n"
     ]
    }
   ],
   "source": [
    "start = timeit.default_timer()\n",
    "G_backbone = all_pairs_shortest_path_subgraph(G)\n",
    "assert G.number_of_nodes() == G_backbone.number_of_nodes()\n",
    "print(f'Time: {timeit.default_timer() - start:.0f} s')"
   ]
  }
 ],
 "metadata": {
  "kernelspec": {
   "display_name": "Python 3 (ipykernel)",
   "language": "python",
   "name": "python3"
  },
  "language_info": {
   "codemirror_mode": {
    "name": "ipython",
    "version": 3
   },
   "file_extension": ".py",
   "mimetype": "text/x-python",
   "name": "python",
   "nbconvert_exporter": "python",
   "pygments_lexer": "ipython3",
   "version": "3.7.3"
  }
 },
 "nbformat": 4,
 "nbformat_minor": 5
}
