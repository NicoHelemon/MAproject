{
 "cells": [
  {
   "cell_type": "code",
   "execution_count": 181,
   "id": "5c0e1de6",
   "metadata": {},
   "outputs": [],
   "source": [
    "import networkx as nx\n",
    "import itertools\n",
    "import numpy as np\n",
    "import scipy as sp\n",
    "import random\n",
    "import timeit\n",
    "from matplotlib import pyplot as plt\n",
    "import distanceclosure as dc"
   ]
  },
  {
   "cell_type": "markdown",
   "id": "a9c36e4c",
   "metadata": {},
   "source": [
    "$$ D = \\frac{2 |E|}{|V|(|V| -1)}$$"
   ]
  },
  {
   "cell_type": "code",
   "execution_count": 2,
   "id": "32efa52b",
   "metadata": {},
   "outputs": [],
   "source": [
    "def weighten(G):\n",
    "    for (u, v, w) in G.edges(data=True):\n",
    "        w['weight'] = np.random.uniform()\n",
    "    return G"
   ]
  },
  {
   "cell_type": "code",
   "execution_count": 121,
   "id": "ee785f00",
   "metadata": {},
   "outputs": [],
   "source": [
    "def path_to_edge_list(p):\n",
    "    return [(p[i], p[i+1]) for i in range(len(p)-1)]\n",
    "    \n",
    "def all_pairs_shortest_path_subgraph(H):\n",
    "    G = H.copy()\n",
    "    edgelist = set()\n",
    "    apsp = dict(nx.all_pairs_dijkstra_path(G))\n",
    "    for (i, j) in itertools.combinations(range(G.number_of_nodes()), 2):\n",
    "        edgelist.update(path_to_edge_list(apsp[i][j]))\n",
    "    \n",
    "    return G.edge_subgraph(edgelist)\n",
    "\n",
    "def all_pairs_shortest_path_subgraph2(H):\n",
    "    G = H.copy()\n",
    "    apsp_len = dict(nx.all_pairs_dijkstra_path_length(G))\n",
    "    non_apsp_edges = []\n",
    "    for (u, v, w) in G.edges(data=True):\n",
    "        if w['weight'] > apsp_len[u][v]:\n",
    "            non_apsp_edges.append((u, v))\n",
    "    G.remove_edges_from( non_apsp_edges)\n",
    "    return G"
   ]
  },
  {
   "cell_type": "code",
   "execution_count": 188,
   "id": "01dcff35",
   "metadata": {},
   "outputs": [
    {
     "name": "stdout",
     "output_type": "stream",
     "text": [
      "4975\n"
     ]
    }
   ],
   "source": [
    "V = 1000\n",
    "D = 0.01\n",
    "E = round(D*V*(V-1)/2)\n",
    "\n",
    "assert round(E / V) == 5\n",
    "\n",
    "G = nx.barabasi_albert_graph(V, round(E/V))\n",
    "G = weighten(G)\n",
    "print(G.number_of_edges())"
   ]
  },
  {
   "cell_type": "code",
   "execution_count": 189,
   "id": "980c98c2",
   "metadata": {},
   "outputs": [],
   "source": [
    "N = 1000"
   ]
  },
  {
   "cell_type": "code",
   "execution_count": 191,
   "id": "c3c5f8fe",
   "metadata": {},
   "outputs": [
    {
     "name": "stdout",
     "output_type": "stream",
     "text": [
      "Time: 6.34 s\n"
     ]
    }
   ],
   "source": [
    "start = timeit.default_timer()\n",
    "for _ in range(30):\n",
    "    g = nx.laplacian_spectrum(G)\n",
    "print(f'Time: {timeit.default_timer() - start:.2f} s')"
   ]
  },
  {
   "cell_type": "code",
   "execution_count": 192,
   "id": "450b53e7",
   "metadata": {},
   "outputs": [
    {
     "name": "stdout",
     "output_type": "stream",
     "text": [
      "Time: 38.14 s\n"
     ]
    }
   ],
   "source": [
    "start = timeit.default_timer()\n",
    "for _ in range(30):\n",
    "    g = sp.sparse.linalg.eigsh(nx.laplacian_matrix(G, \n",
    "                                                      weight='weight'), k = N-1, return_eigenvectors=False)\n",
    "print(f'Time: {timeit.default_timer() - start:.2f} s')"
   ]
  },
  {
   "cell_type": "code",
   "execution_count": 187,
   "id": "31c471df",
   "metadata": {},
   "outputs": [
    {
     "ename": "KeyboardInterrupt",
     "evalue": "",
     "output_type": "error",
     "traceback": [
      "\u001b[1;31m---------------------------------------------------------------------------\u001b[0m",
      "\u001b[1;31mKeyboardInterrupt\u001b[0m                         Traceback (most recent call last)",
      "\u001b[1;32m~\\AppData\\Local\\Temp/ipykernel_14204/3035964531.py\u001b[0m in \u001b[0;36m<module>\u001b[1;34m\u001b[0m\n\u001b[0;32m     13\u001b[0m         \u001b[1;31m#h = nx.laplacian_spectrum(H)\u001b[0m\u001b[1;33m\u001b[0m\u001b[1;33m\u001b[0m\u001b[1;33m\u001b[0m\u001b[0m\n\u001b[0;32m     14\u001b[0m         h = sp.sparse.linalg.eigsh(nx.laplacian_matrix(H, \n\u001b[1;32m---> 15\u001b[1;33m                                                       weight='weight'), k = N-1, return_eigenvectors=False)\n\u001b[0m\u001b[0;32m     16\u001b[0m         \u001b[0mdistances\u001b[0m\u001b[1;33m.\u001b[0m\u001b[0mappend\u001b[0m\u001b[1;33m(\u001b[0m\u001b[0mnp\u001b[0m\u001b[1;33m.\u001b[0m\u001b[0mlinalg\u001b[0m\u001b[1;33m.\u001b[0m\u001b[0mnorm\u001b[0m\u001b[1;33m(\u001b[0m\u001b[0mg\u001b[0m\u001b[1;33m-\u001b[0m\u001b[0mh\u001b[0m\u001b[1;33m)\u001b[0m\u001b[1;33m)\u001b[0m\u001b[1;33m\u001b[0m\u001b[1;33m\u001b[0m\u001b[0m\n\u001b[0;32m     17\u001b[0m     \u001b[0mDistances\u001b[0m\u001b[1;33m.\u001b[0m\u001b[0mappend\u001b[0m\u001b[1;33m(\u001b[0m\u001b[0mdistances\u001b[0m\u001b[1;33m)\u001b[0m\u001b[1;33m\u001b[0m\u001b[1;33m\u001b[0m\u001b[0m\n",
      "\u001b[1;32m~\\Miniconda3\\lib\\site-packages\\scipy\\sparse\\linalg\\eigen\\arpack\\arpack.py\u001b[0m in \u001b[0;36meigsh\u001b[1;34m(A, k, M, sigma, which, v0, ncv, maxiter, tol, return_eigenvectors, Minv, OPinv, mode)\u001b[0m\n\u001b[0;32m   1685\u001b[0m     \u001b[1;32mwith\u001b[0m \u001b[0m_ARPACK_LOCK\u001b[0m\u001b[1;33m:\u001b[0m\u001b[1;33m\u001b[0m\u001b[1;33m\u001b[0m\u001b[0m\n\u001b[0;32m   1686\u001b[0m         \u001b[1;32mwhile\u001b[0m \u001b[1;32mnot\u001b[0m \u001b[0mparams\u001b[0m\u001b[1;33m.\u001b[0m\u001b[0mconverged\u001b[0m\u001b[1;33m:\u001b[0m\u001b[1;33m\u001b[0m\u001b[1;33m\u001b[0m\u001b[0m\n\u001b[1;32m-> 1687\u001b[1;33m             \u001b[0mparams\u001b[0m\u001b[1;33m.\u001b[0m\u001b[0miterate\u001b[0m\u001b[1;33m(\u001b[0m\u001b[1;33m)\u001b[0m\u001b[1;33m\u001b[0m\u001b[1;33m\u001b[0m\u001b[0m\n\u001b[0m\u001b[0;32m   1688\u001b[0m \u001b[1;33m\u001b[0m\u001b[0m\n\u001b[0;32m   1689\u001b[0m         \u001b[1;32mreturn\u001b[0m \u001b[0mparams\u001b[0m\u001b[1;33m.\u001b[0m\u001b[0mextract\u001b[0m\u001b[1;33m(\u001b[0m\u001b[0mreturn_eigenvectors\u001b[0m\u001b[1;33m)\u001b[0m\u001b[1;33m\u001b[0m\u001b[1;33m\u001b[0m\u001b[0m\n",
      "\u001b[1;32m~\\Miniconda3\\lib\\site-packages\\scipy\\sparse\\linalg\\eigen\\arpack\\arpack.py\u001b[0m in \u001b[0;36miterate\u001b[1;34m(self)\u001b[0m\n\u001b[0;32m    537\u001b[0m             self._arpack_solver(self.ido, self.bmat, self.which, self.k,\n\u001b[0;32m    538\u001b[0m                                 \u001b[0mself\u001b[0m\u001b[1;33m.\u001b[0m\u001b[0mtol\u001b[0m\u001b[1;33m,\u001b[0m \u001b[0mself\u001b[0m\u001b[1;33m.\u001b[0m\u001b[0mresid\u001b[0m\u001b[1;33m,\u001b[0m \u001b[0mself\u001b[0m\u001b[1;33m.\u001b[0m\u001b[0mv\u001b[0m\u001b[1;33m,\u001b[0m \u001b[0mself\u001b[0m\u001b[1;33m.\u001b[0m\u001b[0miparam\u001b[0m\u001b[1;33m,\u001b[0m\u001b[1;33m\u001b[0m\u001b[1;33m\u001b[0m\u001b[0m\n\u001b[1;32m--> 539\u001b[1;33m                                 self.ipntr, self.workd, self.workl, self.info)\n\u001b[0m\u001b[0;32m    540\u001b[0m \u001b[1;33m\u001b[0m\u001b[0m\n\u001b[0;32m    541\u001b[0m         \u001b[0mxslice\u001b[0m \u001b[1;33m=\u001b[0m \u001b[0mslice\u001b[0m\u001b[1;33m(\u001b[0m\u001b[0mself\u001b[0m\u001b[1;33m.\u001b[0m\u001b[0mipntr\u001b[0m\u001b[1;33m[\u001b[0m\u001b[1;36m0\u001b[0m\u001b[1;33m]\u001b[0m \u001b[1;33m-\u001b[0m \u001b[1;36m1\u001b[0m\u001b[1;33m,\u001b[0m \u001b[0mself\u001b[0m\u001b[1;33m.\u001b[0m\u001b[0mipntr\u001b[0m\u001b[1;33m[\u001b[0m\u001b[1;36m0\u001b[0m\u001b[1;33m]\u001b[0m \u001b[1;33m-\u001b[0m \u001b[1;36m1\u001b[0m \u001b[1;33m+\u001b[0m \u001b[0mself\u001b[0m\u001b[1;33m.\u001b[0m\u001b[0mn\u001b[0m\u001b[1;33m)\u001b[0m\u001b[1;33m\u001b[0m\u001b[1;33m\u001b[0m\u001b[0m\n",
      "\u001b[1;31mKeyboardInterrupt\u001b[0m: "
     ]
    }
   ],
   "source": [
    "start = timeit.default_timer()\n",
    "Distances = []\n",
    "\n",
    "for _ in range(10):\n",
    "    distances = []\n",
    "    #g = nx.laplacian_spectrum(G)\n",
    "    g = sp.sparse.linalg.eigsh(nx.laplacian_matrix(G, \n",
    "                                                      weight='weight'), k = N-1, return_eigenvectors=False)\n",
    "    distances.append(np.linalg.norm(g-g))\n",
    "    H = G.copy()\n",
    "    for _ in range(N):\n",
    "        H.remove_edge(*random.choice(list(H.edges)))\n",
    "        #h = nx.laplacian_spectrum(H)\n",
    "        h = sp.sparse.linalg.eigsh(nx.laplacian_matrix(H, \n",
    "                                                      weight='weight'), k = N-1, return_eigenvectors=False)\n",
    "        distances.append(np.linalg.norm(g-h))\n",
    "    Distances.append(distances)\n",
    "    print(f'Time: {timeit.default_timer() - start:.0f} s')"
   ]
  },
  {
   "cell_type": "code",
   "execution_count": 10,
   "id": "6d8508e9",
   "metadata": {},
   "outputs": [
    {
     "data": {
      "image/png": "[encoded data removed]",
      "text/plain": [
       "<Figure size 432x288 with 1 Axes>"
      ]
     },
     "metadata": {
      "needs_background": "light"
     },
     "output_type": "display_data"
    }
   ],
   "source": [
    "x = np.array(range(N+1))\n",
    "m = np.mean(Distances, axis=0)\n",
    "s = np.std(Distances, axis=0)\n",
    "plt.plot(x, m, color='b', linewidth=1, label='mean')\n",
    "plt.plot(x, m + 3*s, color='b', linewidth=1, linestyle='--', label='mean + 3 std')\n",
    "plt.plot(x, m - 3*s, color='b', linewidth=1, linestyle='--', label='mean - 3 std')\n",
    "plt.title('Spectral Laplacian Euclidean distance on original graph')\n",
    "plt.xlabel('# Edge removal')\n",
    "plt.ylabel('Distance')\n",
    "plt.savefig('Spectral Laplacian Euclidean distance on original graph.png', dpi=200)"
   ]
  },
  {
   "cell_type": "code",
   "execution_count": 151,
   "id": "ba283c1b",
   "metadata": {},
   "outputs": [
    {
     "name": "stdout",
     "output_type": "stream",
     "text": [
      "Time: 20 s\n",
      "Graph with 1000 nodes and 2659 edges\n"
     ]
    }
   ],
   "source": [
    "start = timeit.default_timer()\n",
    "apsp_G = all_pairs_shortest_path_subgraph(G)\n",
    "print(f'Time: {timeit.default_timer() - start:.0f} s')\n",
    "print(apsp_G)"
   ]
  },
  {
   "cell_type": "code",
   "execution_count": 152,
   "id": "c462e923",
   "metadata": {},
   "outputs": [
    {
     "name": "stdout",
     "output_type": "stream",
     "text": [
      "Time: 16 s\n",
      "Graph with 1000 nodes and 2659 edges\n"
     ]
    }
   ],
   "source": [
    "start = timeit.default_timer()\n",
    "apsp_G2 = all_pairs_shortest_path_subgraph2(G)\n",
    "print(f'Time: {timeit.default_timer() - start:.0f} s')\n",
    "print(apsp_G2)"
   ]
  },
  {
   "cell_type": "code",
   "execution_count": 156,
   "id": "97004a43",
   "metadata": {},
   "outputs": [
    {
     "name": "stdout",
     "output_type": "stream",
     "text": [
      "Time: 12 s\n",
      "Graph with 1000 nodes and 2659 edges\n"
     ]
    }
   ],
   "source": [
    "start = timeit.default_timer()\n",
    "apsp_G3 = dc.metric_backbone(G, weight='weight')\n",
    "print(f'Time: {timeit.default_timer() - start:.0f} s')\n",
    "print(apsp_G3)"
   ]
  },
  {
   "cell_type": "code",
   "execution_count": 155,
   "id": "ae9628c3",
   "metadata": {},
   "outputs": [],
   "source": [
    "assert nx.utils.graphs_equal(apsp_G, apsp_G2)\n",
    "\n",
    "assert nx.utils.graphs_equal(apsp_G, apsp_G3)"
   ]
  },
  {
   "cell_type": "code",
   "execution_count": 130,
   "id": "b66f45ab",
   "metadata": {},
   "outputs": [
    {
     "data": {
      "text/plain": [
       "{(0, 1): Text(0.2983974204340721, 0.5611015940436134, '0.85'),\n",
       " (0, 2): Text(0.36071037750046914, 0.21787482757676566, '0.16'),\n",
       " (0, 3): Text(0.6239088529796306, 0.10165930153596747, '0.44'),\n",
       " (1, 4): Text(-0.4394060014529897, 0.15413257153345244, '0.61'),\n",
       " (1, 5): Text(-0.27517262222045236, -0.24778193917413932, '0.24'),\n",
       " (1, 7): Text(-0.4589934592524621, 0.6070680066438097, '0.8'),\n",
       " (2, 3): Text(0.2268778643906515, -0.29823293732277223, '0.62'),\n",
       " (2, 5): Text(-0.2128596651540553, -0.5910087056409871, '0.71'),\n",
       " (2, 6): Text(0.38871670472496994, -0.11064181888736874, '0.74'),\n",
       " (2, 7): Text(-0.39668050218606504, 0.263841240176962, '0.64'),\n",
       " (3, 4): Text(-0.11389456890743122, -0.30530972097419345, '0.45'),\n",
       " (3, 6): Text(0.6519151802041314, -0.22685734492816692, '0.94')}"
      ]
     },
     "execution_count": 130,
     "metadata": {},
     "output_type": "execute_result"
    },
    {
     "data": {
      "image/png": "[encoded data removed]",
      "text/plain": [
       "<Figure size 432x288 with 1 Axes>"
      ]
     },
     "metadata": {},
     "output_type": "display_data"
    }
   ],
   "source": [
    "#https://networkx.org/documentation/latest/auto_examples/drawing/plot_weighted_graph.html#sphx-glr-auto-examples-drawing-plot-weighted-graph-py\n",
    "    \n",
    "edge_labels = {k : round(v, 2) for (k, v) in nx.get_edge_attributes(G,'weight').items()}\n",
    "pos = nx.spring_layout(G, seed=4)\n",
    "nx.draw(G, pos=pos, with_labels=True, font_weight='bold')\n",
    "nx.draw_networkx_edge_labels(G, pos=pos, edge_labels=edge_labels)"
   ]
  }
 ],
 "metadata": {
  "kernelspec": {
   "display_name": "Python 3 (ipykernel)",
   "language": "python",
   "name": "python3"
  },
  "language_info": {
   "codemirror_mode": {
    "name": "ipython",
    "version": 3
   },
   "file_extension": ".py",
   "mimetype": "text/x-python",
   "name": "python",
   "nbconvert_exporter": "python",
   "pygments_lexer": "ipython3",
   "version": "3.7.3"
  }
 },
 "nbformat": 4,
 "nbformat_minor": 5
}
