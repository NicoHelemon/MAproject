{
 "cells": [
  {
   "cell_type": "code",
   "execution_count": 1,
   "id": "6a5c3da7",
   "metadata": {},
   "outputs": [],
   "source": [
    "from matplotlib import pyplot as plt\n",
    "import pandas as pd\n",
    "import numpy as np"
   ]
  },
  {
   "cell_type": "code",
   "execution_count": 2,
   "id": "76f2f6d8",
   "metadata": {},
   "outputs": [],
   "source": [
    "graphs = [\"BA\", \"ER\", \"ABCD\"]\n",
    "weights = [\"Uniform\", \"Exp\", \"Log normal\"]\n",
    "metrics = list(zip(\n",
    "    [\"lap\", \"nlap\", \"netlsd\", \"portrait\"],\n",
    "    [\"Spectral Laplacian Euclidean distance\",\n",
    "     \"Spectral Normalized Laplacian Euclidean distance\", \n",
    "     \"Network Laplacian Spectral descriptor distance\", \n",
    "     \"Portrait divergence\"],\n",
    "))\n",
    "modes = [\"full\", \"apsp\"]\n",
    "perturbations = [\"Edge removal\", \"Edge addition\", \"Rdm edge switching\", \"Deg preserving edge switching\"]"
   ]
  },
  {
   "cell_type": "code",
   "execution_count": 25,
   "id": "7d3108e3",
   "metadata": {},
   "outputs": [],
   "source": [
    "def Perturbation_plotting(dfs, metric_id, metric_d, perturbation):\n",
    "    for (graph, dfg), c in zip(dfs.items(), ['r', 'b', 'g']):\n",
    "        for (mode, df), ls in zip(dfg.items(), ['--', 'dotted']):\n",
    "            m = df[metric_id]['mean'].to_numpy()\n",
    "            s = 0.3*df[metric_id]['std'].to_numpy()\n",
    "            i = np.arange(len(s))\n",
    "            s[i[i % 5 != 1]] = 0\n",
    "            x = np.concatenate(([0],np.arange(1, 501, 5)))\n",
    "\n",
    "            plt.errorbar(x, m, yerr = s, color = c, linestyle=ls, label = graph + \" \" + mode)\n",
    "            plt.legend(loc='lower right')\n",
    "        \n",
    "    plot_name = perturbation + \" \" + metric_d\n",
    "    plt.title(plot_name)\n",
    "    plt.xlabel('# ' + perturbation)\n",
    "    plt.ylabel('Distance')\n",
    "    plt.savefig(f'plots/perturbation/{plot_name}.png', dpi=200)\n",
    "    plt.clf()"
   ]
  },
  {
   "cell_type": "code",
   "execution_count": 11,
   "id": "ff91f5b8",
   "metadata": {},
   "outputs": [],
   "source": [
    "Dfs_p = {}\n",
    "\n",
    "for perturbation in perturbations:\n",
    "    Dfs_p[perturbation] = {}\n",
    "    for graph in graphs:\n",
    "        Dfs_p[perturbation][graph] = {}\n",
    "        for mode in modes:\n",
    "            Dfs_p[perturbation][graph][mode] = pd.read_csv(\n",
    "                f'results/perturbation/{perturbation} {graph} {mode}.csv', header = [0,1])"
   ]
  },
  {
   "cell_type": "code",
   "execution_count": 26,
   "id": "71431e4f",
   "metadata": {},
   "outputs": [
    {
     "data": {
      "text/plain": [
       "<Figure size 432x288 with 0 Axes>"
      ]
     },
     "metadata": {},
     "output_type": "display_data"
    }
   ],
   "source": [
    "for perturbation in perturbations:\n",
    "    for metric_id, metric_d in metrics:\n",
    "        Perturbation_plotting(Dfs_p[perturbation], metric_id, metric_d, perturbation)"
   ]
  },
  {
   "cell_type": "code",
   "execution_count": 3,
   "id": "68c4e0ea",
   "metadata": {},
   "outputs": [],
   "source": [
    "def Gaussian_plotting(dfs, weight, metric_id, metric_d):\n",
    "    for (graph, dfg), c in zip(dfs.items(), ['r', 'b', 'g']):\n",
    "        for (mode, df), ls in zip(dfg.items(), ['--', 'dotted']):\n",
    "            m = df[metric_id]['mean'].to_numpy()\n",
    "            s = 0.3*df[metric_id]['std'].to_numpy()\n",
    "            x = df.index\n",
    "\n",
    "            plt.errorbar(x, m, yerr = s, color = c, linestyle=ls, label = graph + \" \" + mode)\n",
    "            plt.legend(loc='lower right')\n",
    "        \n",
    "    plot_name = f'Gaussian noise on {weight}-weighted graphs\\n{metric_d}'\n",
    "    file_name = f'Gaussian noise {weight} {metric_d}'\n",
    "    plt.title(plot_name)\n",
    "    plt.xlabel('Sigma')\n",
    "    plt.ylabel('Distance')\n",
    "    plt.savefig(f'plots/gaussian_noise/{file_name}.png', dpi=200)\n",
    "    plt.clf()"
   ]
  },
  {
   "cell_type": "code",
   "execution_count": 4,
   "id": "0088ed91",
   "metadata": {},
   "outputs": [],
   "source": [
    "Dfs_g = {}\n",
    "weight = weights[1]\n",
    "\n",
    "for graph in graphs:\n",
    "    Dfs_g[graph] = {}\n",
    "    for mode in modes:\n",
    "        Dfs_g[graph][mode] = pd.read_csv(\n",
    "                f'results/gaussian_noise/{weight} {graph} {mode}.csv', header = [0,1], index_col=0)"
   ]
  },
  {
   "cell_type": "code",
   "execution_count": 5,
   "id": "9e13c95e",
   "metadata": {},
   "outputs": [
    {
     "data": {
      "text/plain": [
       "<Figure size 432x288 with 0 Axes>"
      ]
     },
     "metadata": {},
     "output_type": "display_data"
    }
   ],
   "source": [
    "for metric_id, metric_d in metrics:\n",
    "        Gaussian_plotting(Dfs_g, weight, metric_id, metric_d)"
   ]
  }
 ],
 "metadata": {
  "kernelspec": {
   "display_name": "Python 3 (ipykernel)",
   "language": "python",
   "name": "python3"
  },
  "language_info": {
   "codemirror_mode": {
    "name": "ipython",
    "version": 3
   },
   "file_extension": ".py",
   "mimetype": "text/x-python",
   "name": "python",
   "nbconvert_exporter": "python",
   "pygments_lexer": "ipython3",
   "version": "3.7.3"
  }
 },
 "nbformat": 4,
 "nbformat_minor": 5
}
