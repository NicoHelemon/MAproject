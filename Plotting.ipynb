{
 "cells": [
  {
   "cell_type": "code",
   "execution_count": 1,
   "id": "6a5c3da7",
   "metadata": {},
   "outputs": [],
   "source": [
    "from matplotlib import pyplot as plt\n",
    "import pandas as pd\n",
    "import numpy as np"
   ]
  },
  {
   "cell_type": "code",
   "execution_count": null,
   "id": "76f2f6d8",
   "metadata": {},
   "outputs": [],
   "source": [
    "graphs = [\"BA\", \"ER\", \"ABCD\"]\n",
    "weights = [\"Uniform\", \"Exp\", \"Log normal\"]\n",
    "metrics = list(zip(\n",
    "    [\"lap\", \"nlap\", \"netlsd\", \"portrait\"],\n",
    "    [\"Spectral Laplacian Euclidean distance\",\n",
    "     \"Spectral Normalized Laplacian Euclidean distance\", \n",
    "     \"Network Laplacian Spectral descriptor distance\", \n",
    "     \"Portrait divergence\"],\n",
    "))\n",
    "modes = [\"full\", \"apsp\"]\n",
    "perturbations = [\"Edge removal\", \"Edge addition\", \"Rdm edge switching\", \"Deg preserving edge switching\"]"
   ]
  },
  {
   "cell_type": "code",
   "execution_count": 25,
   "id": "7d3108e3",
   "metadata": {},
   "outputs": [],
   "source": [
    "def Perturbation_plotting(dfs, metric_id, metric_d, perturbation):\n",
    "    for (graph, dfg), c in zip(dfs.items(), ['r', 'b', 'g']):\n",
    "        for (mode, df), ls in zip(dfg.items(), ['--', 'dotted']):\n",
    "            m = df[metric_id]['mean'].to_numpy()\n",
    "            s = 0.3*df[metric_id]['std'].to_numpy()\n",
    "            i = np.arange(len(s))\n",
    "            s[i[i % 5 != 1]] = 0\n",
    "            x = np.concatenate(([0],np.arange(1, 501, 5)))\n",
    "\n",
    "            plt.errorbar(x, m, yerr = s, color = c, linestyle=ls, label = graph + \" \" + mode)\n",
    "            plt.legend(loc='lower right')\n",
    "        \n",
    "    plot_name = perturbation + \" \" + metric_d\n",
    "    plt.title(plot_name)\n",
    "    plt.xlabel('# ' + perturbation)\n",
    "    plt.ylabel('Distance')\n",
    "    plt.savefig(f'plots/perturbation/{plot_name}.png', dpi=200)\n",
    "    plt.clf()"
   ]
  },
  {
   "cell_type": "code",
   "execution_count": 11,
   "id": "ff91f5b8",
   "metadata": {},
   "outputs": [],
   "source": [
    "Dfs_p = {}\n",
    "\n",
    "for perturbation in perturbations:\n",
    "    Dfs_p[perturbation] = {}\n",
    "    for graph in graphs:\n",
    "        Dfs_p[perturbation][graph] = {}\n",
    "        for mode in modes:\n",
    "            Dfs_p[perturbation][graph][mode] = pd.read_csv(\n",
    "                f'results/perturbation/{perturbation} {graph} {mode}.csv', header = [0,1])"
   ]
  },
  {
   "cell_type": "code",
   "execution_count": 26,
   "id": "71431e4f",
   "metadata": {},
   "outputs": [
    {
     "data": {
      "text/plain": [
       "<Figure size 432x288 with 0 Axes>"
      ]
     },
     "metadata": {},
     "output_type": "display_data"
    }
   ],
   "source": [
    "for perturbation in perturbations:\n",
    "    for metric_id, metric_d in metrics:\n",
    "        Perturbation_plotting(Dfs_p[perturbation], metric_id, metric_d, perturbation)"
   ]
  },
  {
   "cell_type": "code",
   "execution_count": null,
   "metadata": {},
   "outputs": [],
   "source": [
    "def Gaussian_plotting(dfs, metric_id, metric_d):\n",
    "    for (graph, dfg), c in zip(dfs.items(), ['r', 'b', 'g']):\n",
    "        for (mode, df), ls in zip(dfg.items(), ['--', 'dotted']):\n",
    "            m = df[metric_id]['mean'].to_numpy()\n",
    "            s = 0.3*df[metric_id]['std'].to_numpy()\n",
    "            x = df.index\n",
    "\n",
    "            plt.errorbar(x, m, yerr = s, color = c, linestyle=ls, label = graph + \" \" + mode)\n",
    "            plt.legend(loc='lower right')\n",
    "        \n",
    "    plot_name = \"Gaussian noise \" + metric_d\n",
    "    plt.title(plot_name)\n",
    "    plt.xlabel('Sigma')\n",
    "    plt.ylabel('Distance')\n",
    "    plt.savefig(f'plots/gaussian_noise/{plot_name}.png', dpi=200)\n",
    "    plt.clf()"
   ]
  },
  {
   "cell_type": "code",
   "execution_count": 5,
   "id": "0088ed91",
   "metadata": {},
   "outputs": [],
   "source": [
    "Dfs_g = {}\n",
    "\n",
    "for graph in graphs:\n",
    "    Dfs_g[graph] = {}\n",
    "    for mode in modes:\n",
    "        Dfs_g[graph][mode] = pd.read_csv(\n",
    "                f'results/gaussian_noise/{graph} {mode}.csv', header = [0,1], index_col=0)"
   ]
  },
  {
   "cell_type": "code",
   "execution_count": 11,
   "id": "9e13c95e",
   "metadata": {},
   "outputs": [
    {
     "name": "stdout",
     "output_type": "stream",
     "text": [
      "lap full : m = [12.12430471 19.18662131 25.53597879 34.27881438 39.56264604 48.3791761\n",
      " 56.27039817 59.63429623 63.06140969]\n",
      "lap apsp : m = [1.61735724 1.61836156 1.69386739 2.450227   2.57732933 2.66154063\n",
      " 3.20779939 3.70787891 4.74750883]\n",
      "lap full : m = [ 3.72073903  6.19826028  7.64422744 11.52588622 13.74371096 14.19621997\n",
      " 17.28322659 21.19011611 21.23133935]\n",
      "lap apsp : m = [1.87644399 1.41036949 2.03634269 2.50540311 2.67831639 3.12894986\n",
      " 3.31885713 4.37461334 4.74954729]\n",
      "lap full : m = [ 5.21354052  8.0066106  11.97404005 13.87412419 18.6993749  18.36797981\n",
      " 24.20833574 24.9271866  32.63218674]\n",
      "lap apsp : m = [1.7849403  1.54851575 1.93812321 2.21883076 2.986263   2.85737308\n",
      " 3.44671864 4.01392821 4.45620999]\n",
      "nlap full : m = [0.14875453 0.25812454 0.31402359 0.36718526 0.3738207  0.35676167\n",
      " 0.37311322 0.38810341 0.38178483]\n",
      "nlap apsp : m = [2.9972359  3.79974512 4.03512932 4.51315663 4.0588086  3.63249922\n",
      " 3.65148094 3.93136885 4.34925451]\n",
      "nlap full : m = [0.15567169 0.24054838 0.25852888 0.26837296 0.28112623 0.29039896\n",
      " 0.27221396 0.29454059 0.30617009]\n",
      "nlap apsp : m = [3.13869436 4.34309948 4.22603575 4.12016143 3.78765857 3.68605499\n",
      " 3.37635723 3.54339189 3.59853679]\n",
      "nlap full : m = [0.12956301 0.22129898 0.26002657 0.28259658 0.3089117  0.3056153\n",
      " 0.32181213 0.32218505 0.33181478]\n",
      "nlap apsp : m = [2.68160317 4.36996743 4.44857903 3.98884258 4.04465752 4.04712493\n",
      " 4.17698555 3.9186156  4.32020573]\n",
      "netlsd full : m = [0.00449969 0.01140197 0.01880668 0.02589785 0.02825482 0.02953961\n",
      " 0.03412602 0.03512071 0.03598869]\n",
      "netlsd apsp : m = [0.25699472 0.12855819 0.09123094 0.09204441 0.07305935 0.05885134\n",
      " 0.0585945  0.06609933 0.07447495]\n",
      "netlsd full : m = [0.00600624 0.01331454 0.01676807 0.01734832 0.02205506 0.02407984\n",
      " 0.02129053 0.02159154 0.02531391]\n",
      "netlsd apsp : m = [0.265525   0.1075319  0.07545036 0.06585314 0.05401383 0.05003137\n",
      " 0.04261713 0.04629501 0.04879125]\n",
      "netlsd full : m = [0.00452535 0.01264866 0.01807514 0.02330695 0.02559266 0.02623198\n",
      " 0.02967966 0.03438586 0.03504706]\n",
      "netlsd apsp : m = [0.23779614 0.1417549  0.10231493 0.07351123 0.06986312 0.06884726\n",
      " 0.06927215 0.05941248 0.07066772]\n",
      "portrait full : m = [0.84942289 0.96854407 0.92983469 0.97105044 0.95477483 0.89784365\n",
      " 0.89916422 0.91815081 0.99577026]\n",
      "portrait apsp : m = [0.84942289 0.96854407 0.92983469 0.97105044 0.95477483 0.89784365\n",
      " 0.89916422 0.91815081 0.99577026]\n",
      "portrait full : m = [0.87016978 0.96635766 0.91802132 0.93946303 0.95887696 0.95945269\n",
      " 0.9206406  0.88214729 0.92085533]\n",
      "portrait apsp : m = [0.87016978 0.96635766 0.91802132 0.93946303 0.95887696 0.95945269\n",
      " 0.9206406  0.88214729 0.92085533]\n",
      "portrait full : m = [0.86286152 0.97367298 0.93186327 0.8992773  0.93668482 0.95704284\n",
      " 0.97634529 0.9382124  0.91894339]\n",
      "portrait apsp : m = [0.86286152 0.97367298 0.93186327 0.8992773  0.93668482 0.95704284\n",
      " 0.97634529 0.9382124  0.91894339]\n"
     ]
    },
    {
     "data": {
      "text/plain": [
       "<Figure size 432x288 with 0 Axes>"
      ]
     },
     "metadata": {},
     "output_type": "display_data"
    }
   ],
   "source": [
    "for metric_id, metric_d in metrics:\n",
    "        Gaussian_plotting(Dfs_g, metric_id, metric_d)"
   ]
  }
 ],
 "metadata": {
  "kernelspec": {
   "display_name": "Python 3 (ipykernel)",
   "language": "python",
   "name": "python3"
  },
  "language_info": {
   "codemirror_mode": {
    "name": "ipython",
    "version": 3
   },
   "file_extension": ".py",
   "mimetype": "text/x-python",
   "name": "python",
   "nbconvert_exporter": "python",
   "pygments_lexer": "ipython3",
   "version": "3.7.3"
  }
 },
 "nbformat": 4,
 "nbformat_minor": 5
}
