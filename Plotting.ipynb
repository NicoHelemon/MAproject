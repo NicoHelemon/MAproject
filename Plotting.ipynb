{
 "cells": [
  {
   "cell_type": "code",
   "execution_count": 26,
   "id": "6a5c3da7",
   "metadata": {},
   "outputs": [],
   "source": [
    "from matplotlib import pyplot as plt\n",
    "import pandas as pd\n",
    "import numpy as np\n",
    "from pathlib import Path\n",
    "import scipy.cluster.hierarchy as hierarchy"
   ]
  },
  {
   "cell_type": "code",
   "execution_count": 2,
   "id": "76f2f6d8",
   "metadata": {},
   "outputs": [],
   "source": [
    "graphs = [\"BA\", \"ER\", \"ABCD\"]\n",
    "weights = [\"Uni\", \"Exp\", \"Log\"]\n",
    "metrics = list(zip(\n",
    "    [\"lap\", \"nlap\", \"netlsd\", \"portrait\"],\n",
    "    [\"Spectral Laplacian Euclidean distance\",\n",
    "     \"Spectral Normalized Laplacian Euclidean distance\", \n",
    "     \"Network Laplacian Spectral descriptor distance\", \n",
    "     \"Portrait divergence\"],\n",
    "))\n",
    "modes = [\"full\", \"apsp\"]\n",
    "perturbations = [\"Edge removal\", \"Edge addition\", \"Rdm edge switching\", \"Deg preserving edge switching\"]"
   ]
  },
  {
   "cell_type": "code",
   "execution_count": 3,
   "id": "7d3108e3",
   "metadata": {},
   "outputs": [],
   "source": [
    "def Perturbation_plotting(dfs, weight, metric_id, metric_d, perturbation):\n",
    "    for (graph, dfg), c in zip(dfs.items(), ['r', 'b', 'g']):\n",
    "        for (mode, df), ls in zip(dfg.items(), ['--', 'dotted']):\n",
    "            m = df[metric_id]['mean'].to_numpy()\n",
    "            s = 0.3*df[metric_id]['std'].to_numpy()\n",
    "            \n",
    "            i = np.arange(len(s))\n",
    "            s[i[i % 5 != 1]] = 0\n",
    "            x = np.concatenate(([0], np.arange(1, 501, 5)))\n",
    "            \n",
    "            #x = np.concatenate(([0], np.arange(1, 1001)))\n",
    "\n",
    "            plt.errorbar(x, m, yerr = s, color = c, linestyle=ls, label = f'{weight} {graph} {mode}')\n",
    "            plt.legend(loc='upper left')\n",
    "            \n",
    "    out_path = f'plots/perturbation/{metric_d}/'\n",
    "    Path(out_path).mkdir(parents = True, exist_ok = True)\n",
    "        \n",
    "    plt.title(f'{perturbation}\\n{metric_d}')\n",
    "    plt.xlabel(f'#  {perturbation}')\n",
    "    plt.ylabel('Distance')\n",
    "    plt.savefig(f'{out_path}{weight} {perturbation}.png', dpi=200)\n",
    "    plt.clf()"
   ]
  },
  {
   "cell_type": "code",
   "execution_count": 4,
   "id": "ff91f5b8",
   "metadata": {},
   "outputs": [],
   "source": [
    "Dfs_p = {}\n",
    "\n",
    "for weight in weights[0:1]:\n",
    "    Dfs_p[weight] = {}\n",
    "    for perturbation in perturbations[0:1]:\n",
    "        Dfs_p[weight][perturbation] = {}\n",
    "        for graph in graphs:\n",
    "            Dfs_p[weight][perturbation][graph] = {}\n",
    "            for mode in modes:\n",
    "                Dfs_p[weight][perturbation][graph][mode] = pd.read_csv(\n",
    "                    f'results/perturbation/{weight}/{perturbation} {graph} {mode}.csv', header = [0,1])"
   ]
  },
  {
   "cell_type": "code",
   "execution_count": 5,
   "id": "71431e4f",
   "metadata": {},
   "outputs": [
    {
     "data": {
      "text/plain": [
       "<Figure size 432x288 with 0 Axes>"
      ]
     },
     "metadata": {},
     "output_type": "display_data"
    }
   ],
   "source": [
    "for weight in weights[0:1]:\n",
    "    for perturbation in perturbations[0:1]:\n",
    "        for metric_id, metric_d in metrics[0:3]:\n",
    "            Perturbation_plotting(Dfs_p[weight][perturbation], weight, metric_id, metric_d, perturbation)"
   ]
  },
  {
   "cell_type": "code",
   "execution_count": 6,
   "id": "ad0cc723",
   "metadata": {},
   "outputs": [],
   "source": [
    "def Perturbation_nedges_plotting(dfs, weight, perturbation):\n",
    "    for (graph, dfg), c in zip(dfs.items(), ['r', 'b', 'g']):\n",
    "        for (mode, df), ls in zip(dfg.items(), ['--', 'dotted']):\n",
    "            m = df['mean'].to_numpy()\n",
    "            s = df['std'].to_numpy()\n",
    "            \n",
    "            if mode == 'full':\n",
    "                m = np.concatenate((m[0:1], m[1::5]))\n",
    "                s = np.concatenate((s[0:1], s[1::5]))\n",
    "                \n",
    "            i = np.arange(len(s))\n",
    "            s[i[i % 5 != 1]] = 0\n",
    "            x = np.concatenate(([0], np.arange(1, 501, 5)))\n",
    "            \n",
    "            #x = np.concatenate(([0], np.arange(1, 1001)))\n",
    "\n",
    "            plt.errorbar(x, m, yerr = s, color = c, linestyle=ls, label = f'{weight} {graph} {mode}')\n",
    "            plt.legend(loc='upper left')\n",
    "            \n",
    "    out_path = f'plots/perturbation/'\n",
    "    Path(out_path).mkdir(parents = True, exist_ok = True)\n",
    "        \n",
    "    plt.title(f'{perturbation}\\nNumber of edges')\n",
    "    plt.xlabel(f'#  {perturbation}')\n",
    "    plt.ylabel('# Edges')\n",
    "    plt.savefig(f'{out_path}{weight} {perturbation} # Edges.png', dpi=200)\n",
    "    plt.clf()"
   ]
  },
  {
   "cell_type": "code",
   "execution_count": 7,
   "id": "8ec7da5f",
   "metadata": {},
   "outputs": [],
   "source": [
    "Dfs_p_nedges = {}\n",
    "\n",
    "for weight in weights[0:1]:\n",
    "    Dfs_p_nedges[weight] = {}\n",
    "    for perturbation in perturbations[0:1]:\n",
    "        Dfs_p_nedges[weight][perturbation] = {}\n",
    "        for graph in graphs:\n",
    "            Dfs_p_nedges[weight][perturbation][graph] = {}\n",
    "            for mode in modes:\n",
    "                Dfs_p_nedges[weight][perturbation][graph][mode] = pd.read_csv(\n",
    "                    f'results/perturbation/{weight}/{perturbation} {graph} n edges {mode}.csv')"
   ]
  },
  {
   "cell_type": "code",
   "execution_count": 8,
   "id": "39f0fb13",
   "metadata": {},
   "outputs": [
    {
     "data": {
      "text/plain": [
       "<Figure size 432x288 with 0 Axes>"
      ]
     },
     "metadata": {},
     "output_type": "display_data"
    }
   ],
   "source": [
    "for weight in weights[0:1]:\n",
    "    for perturbation in perturbations[0:1]:\n",
    "        Perturbation_nedges_plotting(Dfs_p_nedges[weight][perturbation], weight, perturbation)"
   ]
  },
  {
   "cell_type": "code",
   "execution_count": 9,
   "id": "68c4e0ea",
   "metadata": {},
   "outputs": [],
   "source": [
    "def Gaussian_plotting(dfs, weight, metric_id, metric_d):\n",
    "    for (graph, dfg), c in zip(dfs.items(), ['r', 'b', 'g']):\n",
    "        for (mode, df), ls in zip(dfg.items(), ['--', 'dotted']):\n",
    "            m = df[metric_id]['mean'].to_numpy()\n",
    "            s = 0.3*df[metric_id]['std'].to_numpy()\n",
    "            x = df.index\n",
    "\n",
    "            plt.errorbar(x, m, yerr = s, color = c, linestyle=ls, label = f'{weight} {graph} {mode}')\n",
    "            plt.legend(loc='upper left')\n",
    "        \n",
    "    out_path = f'plots/gaussian_noise/{metric_d}/'\n",
    "    Path(out_path).mkdir(parents = True, exist_ok = True)    \n",
    "        \n",
    "    plt.title(f'Gaussian noise\\n{metric_d}')\n",
    "    plt.xlabel('Sigma')\n",
    "    plt.ylabel('Distance')\n",
    "    plt.savefig(f'{out_path}{weight}.png', dpi=200)\n",
    "    plt.clf()"
   ]
  },
  {
   "cell_type": "code",
   "execution_count": 12,
   "id": "0088ed91",
   "metadata": {},
   "outputs": [],
   "source": [
    "Dfs_g = {}\n",
    "\n",
    "for weight in weights[0:1]:\n",
    "    Dfs_g[weight] = {}\n",
    "    for graph in graphs:\n",
    "        Dfs_g[weight][graph] = {}\n",
    "        for mode in modes:\n",
    "            Dfs_g[weight][graph][mode] = pd.read_csv(\n",
    "                    f'results/gaussian_noise/{weight} {graph} {mode}.csv', header = [0,1], index_col=0)"
   ]
  },
  {
   "cell_type": "code",
   "execution_count": 13,
   "id": "9e13c95e",
   "metadata": {},
   "outputs": [
    {
     "data": {
      "text/plain": [
       "<Figure size 432x288 with 0 Axes>"
      ]
     },
     "metadata": {},
     "output_type": "display_data"
    }
   ],
   "source": [
    "for weight in weights[0:1]:\n",
    "    for metric_id, metric_d in metrics[0:3]:\n",
    "            Gaussian_plotting(Dfs_g[weight], weight, metric_id, metric_d)"
   ]
  },
  {
   "cell_type": "code",
   "execution_count": 14,
   "id": "321382c3",
   "metadata": {},
   "outputs": [],
   "source": [
    "def Gaussian_nedges_plotting(dfs, weight):\n",
    "    for (graph, df), c in zip(dfs.items(), ['r', 'b', 'g']):\n",
    "        m = df['mean'].to_numpy()\n",
    "        s = df['std'].to_numpy()\n",
    "        x = df.index\n",
    "\n",
    "        plt.errorbar(x, m, yerr = s, color = c, linestyle='dotted', label = f'{weight} {graph} apsp')\n",
    "        plt.legend(loc='upper left')\n",
    "        \n",
    "    out_path = f'plots/gaussian_noise/'\n",
    "    Path(out_path).mkdir(parents = True, exist_ok = True)    \n",
    "        \n",
    "    plt.title(f'Gaussian noise\\nNumber of edges')\n",
    "    plt.xlabel('Sigma')\n",
    "    plt.ylabel('# Edges')\n",
    "    plt.savefig(f'{out_path}{weight} # Edges.png', dpi=200)\n",
    "    plt.clf()"
   ]
  },
  {
   "cell_type": "code",
   "execution_count": 16,
   "id": "f9f10ef8",
   "metadata": {},
   "outputs": [],
   "source": [
    "Dfs_g_nedges = {}\n",
    "\n",
    "for weight in weights[0:1]:\n",
    "    Dfs_g_nedges[weight] = {}\n",
    "    for graph in graphs:\n",
    "        Dfs_g_nedges[weight][graph] = pd.read_csv(\n",
    "                    f'results/gaussian_noise/{weight} {graph} n edges apsp.csv', index_col=0)"
   ]
  },
  {
   "cell_type": "code",
   "execution_count": 17,
   "id": "e4842164",
   "metadata": {},
   "outputs": [
    {
     "data": {
      "text/plain": [
       "<Figure size 432x288 with 0 Axes>"
      ]
     },
     "metadata": {},
     "output_type": "display_data"
    }
   ],
   "source": [
    "for weight in weights[0:1]:\n",
    "    for metric_id, metric_d in metrics[0:3]:\n",
    "            Gaussian_nedges_plotting(Dfs_g_nedges[weight], weight)"
   ]
  },
  {
   "cell_type": "code",
   "execution_count": 67,
   "id": "14dcd989",
   "metadata": {},
   "outputs": [],
   "source": [
    "def Clustering_plotting(df, graph, mode, metric_d, label, N = 54):\n",
    "    Z = np.reshape(df.to_numpy(), (N-1, -1))\n",
    "    \n",
    "    plt.figure(figsize=(25, 10))\n",
    "    hierarchy.dendrogram(Z, color_threshold=0, labels=label)\n",
    "    \n",
    "    label_colors = dict(zip(sorted(set(label)), \n",
    "         ['lightcoral', 'red', 'darkred', \n",
    "          'lightblue', 'blue', 'darkblue', \n",
    "          'lightgreen', 'green', 'darkgreen']))\n",
    "    \n",
    "    ax = plt.gca()\n",
    "    for lbl in ax.get_xmajorticklabels():\n",
    "        lbl.set_color(label_colors[lbl.get_text()])\n",
    "        \n",
    "    out_path = f'plots/clustering/gaussian_noise/{graph}/'\n",
    "    Path(out_path).mkdir(parents = True, exist_ok = True)    \n",
    "        \n",
    "    plt.title(f'Clustering {graph} {mode}\\n{metric_d}')\n",
    "    plt.savefig(f'{out_path}{metric_d} {mode}.png', dpi=200)\n",
    "    plt.clf()"
   ]
  },
  {
   "cell_type": "code",
   "execution_count": 68,
   "id": "20866806",
   "metadata": {},
   "outputs": [],
   "source": [
    "Dfs_c = {}\n",
    "Labels = {}\n",
    "\n",
    "for graph in graphs[0:1]:\n",
    "    Dfs_c[graph] = {}\n",
    "    Labels[graph] = pd.read_csv(\n",
    "                f'results/clustering/gaussian_noise/{graph} Uni Exp Log 0.1 labels.csv')['0'].tolist()\n",
    "    for mode in modes:\n",
    "        Dfs_c[graph][mode] = pd.read_csv(\n",
    "                f'results/clustering/gaussian_noise/{graph} Uni Exp Log 0.1 {mode}.csv')"
   ]
  },
  {
   "cell_type": "code",
   "execution_count": 69,
   "id": "e2b3b181",
   "metadata": {},
   "outputs": [
    {
     "data": {
      "text/plain": [
       "<Figure size 1800x720 with 0 Axes>"
      ]
     },
     "metadata": {},
     "output_type": "display_data"
    },
    {
     "data": {
      "text/plain": [
       "<Figure size 1800x720 with 0 Axes>"
      ]
     },
     "metadata": {},
     "output_type": "display_data"
    },
    {
     "data": {
      "text/plain": [
       "<Figure size 1800x720 with 0 Axes>"
      ]
     },
     "metadata": {},
     "output_type": "display_data"
    },
    {
     "data": {
      "text/plain": [
       "<Figure size 1800x720 with 0 Axes>"
      ]
     },
     "metadata": {},
     "output_type": "display_data"
    },
    {
     "data": {
      "text/plain": [
       "<Figure size 1800x720 with 0 Axes>"
      ]
     },
     "metadata": {},
     "output_type": "display_data"
    },
    {
     "data": {
      "text/plain": [
       "<Figure size 1800x720 with 0 Axes>"
      ]
     },
     "metadata": {},
     "output_type": "display_data"
    }
   ],
   "source": [
    "for graph in graphs[0:1]:\n",
    "    for mode in modes:\n",
    "        for metric_id, metric_d in metrics[0:3]:\n",
    "            Clustering_plotting(Dfs_c[graph][mode][metric_id], graph, mode, metric_d, Labels[graph], N = 54)"
   ]
  }
 ],
 "metadata": {
  "kernelspec": {
   "display_name": "Python 3 (ipykernel)",
   "language": "python",
   "name": "python3"
  },
  "language_info": {
   "codemirror_mode": {
    "name": "ipython",
    "version": 3
   },
   "file_extension": ".py",
   "mimetype": "text/x-python",
   "name": "python",
   "nbconvert_exporter": "python",
   "pygments_lexer": "ipython3",
   "version": "3.7.3"
  }
 },
 "nbformat": 4,
 "nbformat_minor": 5
}
