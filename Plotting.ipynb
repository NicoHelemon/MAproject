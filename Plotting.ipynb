{
 "cells": [
  {
   "cell_type": "code",
   "execution_count": 26,
   "id": "6a5c3da7",
   "metadata": {},
   "outputs": [],
   "source": [
    "from matplotlib import pyplot as plt\n",
    "import pandas as pd\n",
    "import numpy as np\n",
    "from pathlib import Path\n",
    "import scipy.cluster.hierarchy as hierarchy\n",
    "from itertools import product\n",
    "\n",
    "from utils.static import PERTURBATIONS, WEIGHTS, MODES, METRICS, E_MES\n",
    "from utils.plotting import *"
   ]
  },
  {
   "cell_type": "code",
   "execution_count": null,
   "id": "811ab193",
   "metadata": {},
   "outputs": [],
   "source": [
    "GRAPHS = [\"BA\", \"ER\", \"ABCD\"]\n",
    "plot = Plot()"
   ]
  },
  {
   "cell_type": "code",
   "execution_count": 4,
   "id": "ff91f5b8",
   "metadata": {},
   "outputs": [],
   "source": [
    "D_p = {}\n",
    "\n",
    "for p in PERTURBATIONS:\n",
    "    D_p[p] = {}\n",
    "    for (g, w) in product(GRAPHS, WEIGHTS):\n",
    "        D_p[p][(g, w)] = {}\n",
    "        for m in MODES:\n",
    "            D_p[p][(g, w)][m] = pd.read_csv(\n",
    "                f'results/perturbation/{w}/{p} {g} {m}.csv', header = [0,1])"
   ]
  },
  {
   "cell_type": "code",
   "execution_count": null,
   "id": "cd8ab106",
   "metadata": {},
   "outputs": [],
   "source": [
    "for w in WEIGHTS:\n",
    "    for p in PERTURBATIONS:\n",
    "        for m in METRICS:\n",
    "            plot.perturbation(D_p[p], [w], GRAPHS, m, p, by = 'weight')\n",
    "\n",
    "for g in GRAPHS:\n",
    "    for p in PERTURBATIONS:\n",
    "        for m in METRICS:\n",
    "            plot.perturbation(D_p[p], WEIGHTS, [g], m, p, by = 'graph')"
   ]
  },
  {
   "cell_type": "code",
   "execution_count": null,
   "id": "a8691639",
   "metadata": {},
   "outputs": [],
   "source": [
    "D_p_edges = {}\n",
    "\n",
    "for p in PERTURBATIONS:\n",
    "    D_p_edges[p] = {}\n",
    "    for (g, w) in product(GRAPHS, WEIGHTS):\n",
    "        D_p_edges[p][(g, w)] = {}\n",
    "        for m in MODES:\n",
    "            D_p_edges[p][(g, w)][m] = pd.read_csv(\n",
    "                f'results/perturbation/{w}/{p} {g} edges {m}.csv', header = [0,1])"
   ]
  },
  {
   "cell_type": "code",
   "execution_count": 8,
   "id": "39f0fb13",
   "metadata": {},
   "outputs": [
    {
     "data": {
      "text/plain": [
       "<Figure size 432x288 with 0 Axes>"
      ]
     },
     "metadata": {},
     "output_type": "display_data"
    }
   ],
   "source": [
    "for w in WEIGHTS:\n",
    "    for p in PERTURBATIONS:\n",
    "        for e_mes in E_MES:\n",
    "            plot.perturbation_edges(D_p_edges[p], [w], GRAPHS, e_mes, p, by = 'weight')\n",
    "\n",
    "for g in GRAPHS:\n",
    "    for p in PERTURBATIONS:\n",
    "        for e_mes in E_MES:\n",
    "            plot.perturbation_edges(D_p_edges[p], WEIGHTS, [g], e_mes, p, by = 'graph')"
   ]
  },
  {
   "cell_type": "code",
   "execution_count": null,
   "metadata": {},
   "outputs": [],
   "source": [
    "D_g = {}\n",
    "\n",
    "for (g, w) in product(GRAPHS, WEIGHTS):\n",
    "    D_g[(g, w)] = {}\n",
    "    for m in MODES:\n",
    "        D_g[(g, w)][m] = pd.read_csv(\n",
    "            f'results/gaussian_noise/{w} {g} {m}.csv', header = [0,1], index_col=0)"
   ]
  },
  {
   "cell_type": "code",
   "execution_count": 13,
   "id": "9e13c95e",
   "metadata": {},
   "outputs": [
    {
     "data": {
      "text/plain": [
       "<Figure size 432x288 with 0 Axes>"
      ]
     },
     "metadata": {},
     "output_type": "display_data"
    }
   ],
   "source": [
    "for w in WEIGHTS:\n",
    "    for m in METRICS:\n",
    "        plot.gaussian_noise(D_g, [w], GRAPHS, m, by = 'weight')\n",
    "\n",
    "for g in GRAPHS:\n",
    "    for m in METRICS:\n",
    "        plot.gaussian_noise(D_g, WEIGHTS, [g], m, by = 'graph')"
   ]
  },
  {
   "cell_type": "code",
   "execution_count": 14,
   "id": "321382c3",
   "metadata": {},
   "outputs": [],
   "source": [
    "D_g_edges = {}\n",
    "\n",
    "for (g, w) in product(GRAPHS, WEIGHTS):\n",
    "    D_g_edges[(g, w)] = {}\n",
    "    for m in MODES:\n",
    "        D_g_edges[(g, w)][m] = pd.read_csv(\n",
    "            f'results/gaussian_noise/{w} {g} edges {m}.csv', header = [0,1])"
   ]
  },
  {
   "cell_type": "code",
   "execution_count": 17,
   "id": "e4842164",
   "metadata": {},
   "outputs": [
    {
     "data": {
      "text/plain": [
       "<Figure size 432x288 with 0 Axes>"
      ]
     },
     "metadata": {},
     "output_type": "display_data"
    }
   ],
   "source": [
    "for w in WEIGHTS:\n",
    "    for e_mes in E_MES:\n",
    "        plot.gaussian_noise_edges(D_g_edges, [w], GRAPHS, e_mes, by = 'weight')\n",
    "\n",
    "for g in GRAPHS:\n",
    "    for e_mes in E_MES:\n",
    "        plot.gaussian_noise_edges(D_g_edges, WEIGHTS, [g], e_mes, by = 'graph')"
   ]
  },
  {
   "cell_type": "code",
   "execution_count": 67,
   "id": "14dcd989",
   "metadata": {},
   "outputs": [],
   "source": [
    "D_gc = {}\n",
    "D_gc_labels = {}\n",
    "\n",
    "for g in GRAPHS:\n",
    "    D_gc_labels[g] = pd.read_csv(\n",
    "        f'results/clustering/gaussian_noise/{g} labels.csv')['0'].tolist()\n",
    "\n",
    "    D_gc[g] = {}\n",
    "    for m in MODES:\n",
    "        D_gc[g][m] = pd.read_csv(\n",
    "            f'results/clustering/gaussian_noise/{g} {m}.csv')"
   ]
  },
  {
   "cell_type": "code",
   "execution_count": 68,
   "id": "20866806",
   "metadata": {},
   "outputs": [],
   "source": [
    "for g in GRAPHS:\n",
    "    for mode in MODES:\n",
    "        for metric in METRICS:\n",
    "            plot.clustering(D_gc[g][mode][metric], g, mode, metric, D_gc_labels[g])"
   ]
  }
 ],
 "metadata": {
  "kernelspec": {
   "display_name": "Python 3 (ipykernel)",
   "language": "python",
   "name": "python3"
  },
  "language_info": {
   "codemirror_mode": {
    "name": "ipython",
    "version": 3
   },
   "file_extension": ".py",
   "mimetype": "text/x-python",
   "name": "python",
   "nbconvert_exporter": "python",
   "pygments_lexer": "ipython3",
   "version": "3.7.3"
  }
 },
 "nbformat": 4,
 "nbformat_minor": 5
}
