{
 "cells": [
  {
   "cell_type": "code",
   "execution_count": 2,
   "id": "5c0e1de6",
   "metadata": {},
   "outputs": [],
   "source": [
    "import networkx as nx\n",
    "import itertools\n",
    "import numpy as np\n",
    "import scipy as sp\n",
    "import random\n",
    "import timeit\n",
    "from matplotlib import pyplot as plt\n",
    "import distanceclosure as dc"
   ]
  },
  {
   "cell_type": "markdown",
   "id": "a9c36e4c",
   "metadata": {},
   "source": [
    "$$ D = \\frac{2 |E|}{|V|(|V| -1)}$$"
   ]
  },
  {
   "cell_type": "code",
   "execution_count": 3,
   "id": "32efa52b",
   "metadata": {},
   "outputs": [],
   "source": [
    "def weighten(G):\n",
    "    for (u, v, w) in G.edges(data=True):\n",
    "        w['weight'] = np.random.uniform()\n",
    "    return G"
   ]
  },
  {
   "cell_type": "code",
   "execution_count": 4,
   "id": "ee785f00",
   "metadata": {},
   "outputs": [],
   "source": [
    "def path_to_edge_list(p):\n",
    "    return [(p[i], p[i+1]) for i in range(len(p)-1)]\n",
    "    \n",
    "def all_pairs_shortest_path_subgraph(H):\n",
    "    G = H.copy()\n",
    "    edgelist = set()\n",
    "    apsp = dict(nx.all_pairs_dijkstra_path(G))\n",
    "    for (i, j) in itertools.combinations(range(G.number_of_nodes()), 2):\n",
    "        edgelist.update(path_to_edge_list(apsp[i][j]))\n",
    "    \n",
    "    return G.edge_subgraph(edgelist)\n",
    "\n",
    "def all_pairs_shortest_path_subgraph2(H):\n",
    "    G = H.copy()\n",
    "    apsp_len = dict(nx.all_pairs_dijkstra_path_length(G))\n",
    "    non_apsp_edges = []\n",
    "    for (u, v, w) in G.edges(data=True):\n",
    "        if w['weight'] > apsp_len[u][v]:\n",
    "            non_apsp_edges.append((u, v))\n",
    "    G.remove_edges_from( non_apsp_edges)\n",
    "    return G"
   ]
  },
  {
   "cell_type": "code",
   "execution_count": 5,
   "id": "01dcff35",
   "metadata": {},
   "outputs": [
    {
     "name": "stdout",
     "output_type": "stream",
     "text": [
      "4975\n"
     ]
    }
   ],
   "source": [
    "V = 1000\n",
    "D = 0.01\n",
    "E = round(D*V*(V-1)/2)\n",
    "\n",
    "assert round(E / V) == 5\n",
    "\n",
    "G = nx.barabasi_albert_graph(V, round(E/V))\n",
    "G = weighten(G)\n",
    "print(G.number_of_edges())"
   ]
  },
  {
   "cell_type": "code",
   "execution_count": 6,
   "id": "980c98c2",
   "metadata": {},
   "outputs": [],
   "source": [
    "N = 1000"
   ]
  },
  {
   "cell_type": "code",
   "execution_count": 7,
   "id": "c3c5f8fe",
   "metadata": {},
   "outputs": [
    {
     "name": "stdout",
     "output_type": "stream",
     "text": [
      "Time: 8.10 s\n"
     ]
    }
   ],
   "source": [
    "start = timeit.default_timer()\n",
    "for _ in range(30):\n",
    "    g = nx.laplacian_spectrum(G)\n",
    "print(f'Time: {timeit.default_timer() - start:.2f} s')"
   ]
  },
  {
   "cell_type": "code",
   "execution_count": 8,
   "id": "450b53e7",
   "metadata": {},
   "outputs": [
    {
     "ename": "AttributeError",
     "evalue": "module 'scipy.sparse' has no attribute 'linalg'",
     "output_type": "error",
     "traceback": [
      "\u001b[1;31m---------------------------------------------------------------------------\u001b[0m",
      "\u001b[1;31mAttributeError\u001b[0m                            Traceback (most recent call last)",
      "\u001b[1;32m~\\AppData\\Local\\Temp/ipykernel_4332/2502594578.py\u001b[0m in \u001b[0;36m<module>\u001b[1;34m\u001b[0m\n\u001b[0;32m      1\u001b[0m \u001b[0mstart\u001b[0m \u001b[1;33m=\u001b[0m \u001b[0mtimeit\u001b[0m\u001b[1;33m.\u001b[0m\u001b[0mdefault_timer\u001b[0m\u001b[1;33m(\u001b[0m\u001b[1;33m)\u001b[0m\u001b[1;33m\u001b[0m\u001b[1;33m\u001b[0m\u001b[0m\n\u001b[0;32m      2\u001b[0m \u001b[1;32mfor\u001b[0m \u001b[0m_\u001b[0m \u001b[1;32min\u001b[0m \u001b[0mrange\u001b[0m\u001b[1;33m(\u001b[0m\u001b[1;36m30\u001b[0m\u001b[1;33m)\u001b[0m\u001b[1;33m:\u001b[0m\u001b[1;33m\u001b[0m\u001b[1;33m\u001b[0m\u001b[0m\n\u001b[1;32m----> 3\u001b[1;33m     g = sp.sparse.linalg.eigsh(nx.laplacian_matrix(G, \n\u001b[0m\u001b[0;32m      4\u001b[0m                                                       weight='weight'), k = N-1, return_eigenvectors=False)\n\u001b[0;32m      5\u001b[0m \u001b[0mprint\u001b[0m\u001b[1;33m(\u001b[0m\u001b[1;34mf'Time: {timeit.default_timer() - start:.2f} s'\u001b[0m\u001b[1;33m)\u001b[0m\u001b[1;33m\u001b[0m\u001b[1;33m\u001b[0m\u001b[0m\n",
      "\u001b[1;31mAttributeError\u001b[0m: module 'scipy.sparse' has no attribute 'linalg'"
     ]
    }
   ],
   "source": [
    "start = timeit.default_timer()\n",
    "for _ in range(30):\n",
    "    g = sp.sparse.linalg.eigsh(nx.laplacian_matrix(G, \n",
    "                                                      weight='weight'), k = N-1, return_eigenvectors=False)\n",
    "print(f'Time: {timeit.default_timer() - start:.2f} s')"
   ]
  },
  {
   "cell_type": "code",
   "execution_count": 16,
   "id": "31c471df",
   "metadata": {},
   "outputs": [
    {
     "name": "stdout",
     "output_type": "stream",
     "text": [
      "Time: 1 s\n",
      "Time: 1 s\n",
      "Time: 1 s\n",
      "Time: 1 s\n",
      "Time: 2 s\n",
      "Time: 2 s\n",
      "Time: 2 s\n",
      "Time: 3 s\n",
      "Time: 3 s\n",
      "Time: 3 s\n"
     ]
    }
   ],
   "source": [
    "start = timeit.default_timer()\n",
    "Distances = []\n",
    "\n",
    "for _ in range(2):\n",
    "    distances = []\n",
    "    g = nx.laplacian_spectrum(G)\n",
    "    distances.append(np.linalg.norm(g-g))\n",
    "    H = G.copy()\n",
    "    for _ in range(5):\n",
    "        H.remove_edge(*random.choice(list(H.edges)))\n",
    "        h = nx.laplacian_spectrum(H)\n",
    "        distances.append(np.linalg.norm(g-h))\n",
    "        print(f'Time: {timeit.default_timer() - start:.0f} s')\n",
    "    Distances.append(distances)"
   ]
  },
  {
   "cell_type": "code",
   "execution_count": 18,
   "id": "6d8508e9",
   "metadata": {},
   "outputs": [
    {
     "name": "stdout",
     "output_type": "stream",
     "text": [
      "[0.         0.01347433 0.15494095 0.25247005 0.27250474 0.2976852 ] [0.         0.01228929 0.00257762 0.09997266 0.08246754 0.08165009] [   0    1    2 ...  998  999 1000]\n"
     ]
    },
    {
     "ename": "ValueError",
     "evalue": "x and y must have same first dimension, but have shapes (1001,) and (6,)",
     "output_type": "error",
     "traceback": [
      "\u001b[1;31m---------------------------------------------------------------------------\u001b[0m",
      "\u001b[1;31mValueError\u001b[0m                                Traceback (most recent call last)",
      "\u001b[1;32m~\\AppData\\Local\\Temp/ipykernel_4332/3471207057.py\u001b[0m in \u001b[0;36m<module>\u001b[1;34m\u001b[0m\n\u001b[0;32m      3\u001b[0m \u001b[0ms\u001b[0m \u001b[1;33m=\u001b[0m \u001b[0mnp\u001b[0m\u001b[1;33m.\u001b[0m\u001b[0mstd\u001b[0m\u001b[1;33m(\u001b[0m\u001b[0mDistances\u001b[0m\u001b[1;33m,\u001b[0m \u001b[0maxis\u001b[0m\u001b[1;33m=\u001b[0m\u001b[1;36m0\u001b[0m\u001b[1;33m)\u001b[0m\u001b[1;33m\u001b[0m\u001b[1;33m\u001b[0m\u001b[0m\n\u001b[0;32m      4\u001b[0m \u001b[0mprint\u001b[0m\u001b[1;33m(\u001b[0m\u001b[0mm\u001b[0m\u001b[1;33m,\u001b[0m \u001b[0ms\u001b[0m \u001b[1;33m,\u001b[0m \u001b[0mx\u001b[0m\u001b[1;33m)\u001b[0m\u001b[1;33m\u001b[0m\u001b[1;33m\u001b[0m\u001b[0m\n\u001b[1;32m----> 5\u001b[1;33m \u001b[0mplt\u001b[0m\u001b[1;33m.\u001b[0m\u001b[0mplot\u001b[0m\u001b[1;33m(\u001b[0m\u001b[0mx\u001b[0m\u001b[1;33m,\u001b[0m \u001b[0mm\u001b[0m\u001b[1;33m,\u001b[0m \u001b[0mcolor\u001b[0m\u001b[1;33m=\u001b[0m\u001b[1;34m'b'\u001b[0m\u001b[1;33m,\u001b[0m \u001b[0mlinewidth\u001b[0m\u001b[1;33m=\u001b[0m\u001b[1;36m1\u001b[0m\u001b[1;33m,\u001b[0m \u001b[0mlabel\u001b[0m\u001b[1;33m=\u001b[0m\u001b[1;34m'mean'\u001b[0m\u001b[1;33m)\u001b[0m\u001b[1;33m\u001b[0m\u001b[1;33m\u001b[0m\u001b[0m\n\u001b[0m\u001b[0;32m      6\u001b[0m \u001b[0mplt\u001b[0m\u001b[1;33m.\u001b[0m\u001b[0mplot\u001b[0m\u001b[1;33m(\u001b[0m\u001b[0mx\u001b[0m\u001b[1;33m,\u001b[0m \u001b[0mm\u001b[0m \u001b[1;33m+\u001b[0m \u001b[1;36m3\u001b[0m\u001b[1;33m*\u001b[0m\u001b[0ms\u001b[0m\u001b[1;33m,\u001b[0m \u001b[0mcolor\u001b[0m\u001b[1;33m=\u001b[0m\u001b[1;34m'b'\u001b[0m\u001b[1;33m,\u001b[0m \u001b[0mlinewidth\u001b[0m\u001b[1;33m=\u001b[0m\u001b[1;36m1\u001b[0m\u001b[1;33m,\u001b[0m \u001b[0mlinestyle\u001b[0m\u001b[1;33m=\u001b[0m\u001b[1;34m'--'\u001b[0m\u001b[1;33m,\u001b[0m \u001b[0mlabel\u001b[0m\u001b[1;33m=\u001b[0m\u001b[1;34m'mean + 3 std'\u001b[0m\u001b[1;33m)\u001b[0m\u001b[1;33m\u001b[0m\u001b[1;33m\u001b[0m\u001b[0m\n\u001b[0;32m      7\u001b[0m \u001b[0mplt\u001b[0m\u001b[1;33m.\u001b[0m\u001b[0mplot\u001b[0m\u001b[1;33m(\u001b[0m\u001b[0mx\u001b[0m\u001b[1;33m,\u001b[0m \u001b[0mm\u001b[0m \u001b[1;33m-\u001b[0m \u001b[1;36m3\u001b[0m\u001b[1;33m*\u001b[0m\u001b[0ms\u001b[0m\u001b[1;33m,\u001b[0m \u001b[0mcolor\u001b[0m\u001b[1;33m=\u001b[0m\u001b[1;34m'b'\u001b[0m\u001b[1;33m,\u001b[0m \u001b[0mlinewidth\u001b[0m\u001b[1;33m=\u001b[0m\u001b[1;36m1\u001b[0m\u001b[1;33m,\u001b[0m \u001b[0mlinestyle\u001b[0m\u001b[1;33m=\u001b[0m\u001b[1;34m'--'\u001b[0m\u001b[1;33m,\u001b[0m \u001b[0mlabel\u001b[0m\u001b[1;33m=\u001b[0m\u001b[1;34m'mean - 3 std'\u001b[0m\u001b[1;33m)\u001b[0m\u001b[1;33m\u001b[0m\u001b[1;33m\u001b[0m\u001b[0m\n",
      "\u001b[1;32m~\\Miniconda3\\lib\\site-packages\\matplotlib\\pyplot.py\u001b[0m in \u001b[0;36mplot\u001b[1;34m(scalex, scaley, data, *args, **kwargs)\u001b[0m\n\u001b[0;32m   2767\u001b[0m     return gca().plot(\n\u001b[0;32m   2768\u001b[0m         \u001b[1;33m*\u001b[0m\u001b[0margs\u001b[0m\u001b[1;33m,\u001b[0m \u001b[0mscalex\u001b[0m\u001b[1;33m=\u001b[0m\u001b[0mscalex\u001b[0m\u001b[1;33m,\u001b[0m \u001b[0mscaley\u001b[0m\u001b[1;33m=\u001b[0m\u001b[0mscaley\u001b[0m\u001b[1;33m,\u001b[0m\u001b[1;33m\u001b[0m\u001b[1;33m\u001b[0m\u001b[0m\n\u001b[1;32m-> 2769\u001b[1;33m         **({\"data\": data} if data is not None else {}), **kwargs)\n\u001b[0m\u001b[0;32m   2770\u001b[0m \u001b[1;33m\u001b[0m\u001b[0m\n\u001b[0;32m   2771\u001b[0m \u001b[1;33m\u001b[0m\u001b[0m\n",
      "\u001b[1;32m~\\Miniconda3\\lib\\site-packages\\matplotlib\\axes\\_axes.py\u001b[0m in \u001b[0;36mplot\u001b[1;34m(self, scalex, scaley, data, *args, **kwargs)\u001b[0m\n\u001b[0;32m   1633\u001b[0m         \"\"\"\n\u001b[0;32m   1634\u001b[0m         \u001b[0mkwargs\u001b[0m \u001b[1;33m=\u001b[0m \u001b[0mcbook\u001b[0m\u001b[1;33m.\u001b[0m\u001b[0mnormalize_kwargs\u001b[0m\u001b[1;33m(\u001b[0m\u001b[0mkwargs\u001b[0m\u001b[1;33m,\u001b[0m \u001b[0mmlines\u001b[0m\u001b[1;33m.\u001b[0m\u001b[0mLine2D\u001b[0m\u001b[1;33m)\u001b[0m\u001b[1;33m\u001b[0m\u001b[1;33m\u001b[0m\u001b[0m\n\u001b[1;32m-> 1635\u001b[1;33m         \u001b[0mlines\u001b[0m \u001b[1;33m=\u001b[0m \u001b[1;33m[\u001b[0m\u001b[1;33m*\u001b[0m\u001b[0mself\u001b[0m\u001b[1;33m.\u001b[0m\u001b[0m_get_lines\u001b[0m\u001b[1;33m(\u001b[0m\u001b[1;33m*\u001b[0m\u001b[0margs\u001b[0m\u001b[1;33m,\u001b[0m \u001b[0mdata\u001b[0m\u001b[1;33m=\u001b[0m\u001b[0mdata\u001b[0m\u001b[1;33m,\u001b[0m \u001b[1;33m**\u001b[0m\u001b[0mkwargs\u001b[0m\u001b[1;33m)\u001b[0m\u001b[1;33m]\u001b[0m\u001b[1;33m\u001b[0m\u001b[1;33m\u001b[0m\u001b[0m\n\u001b[0m\u001b[0;32m   1636\u001b[0m         \u001b[1;32mfor\u001b[0m \u001b[0mline\u001b[0m \u001b[1;32min\u001b[0m \u001b[0mlines\u001b[0m\u001b[1;33m:\u001b[0m\u001b[1;33m\u001b[0m\u001b[1;33m\u001b[0m\u001b[0m\n\u001b[0;32m   1637\u001b[0m             \u001b[0mself\u001b[0m\u001b[1;33m.\u001b[0m\u001b[0madd_line\u001b[0m\u001b[1;33m(\u001b[0m\u001b[0mline\u001b[0m\u001b[1;33m)\u001b[0m\u001b[1;33m\u001b[0m\u001b[1;33m\u001b[0m\u001b[0m\n",
      "\u001b[1;32m~\\Miniconda3\\lib\\site-packages\\matplotlib\\axes\\_base.py\u001b[0m in \u001b[0;36m__call__\u001b[1;34m(self, data, *args, **kwargs)\u001b[0m\n\u001b[0;32m    310\u001b[0m                 \u001b[0mthis\u001b[0m \u001b[1;33m+=\u001b[0m \u001b[0margs\u001b[0m\u001b[1;33m[\u001b[0m\u001b[1;36m0\u001b[0m\u001b[1;33m]\u001b[0m\u001b[1;33m,\u001b[0m\u001b[1;33m\u001b[0m\u001b[1;33m\u001b[0m\u001b[0m\n\u001b[0;32m    311\u001b[0m                 \u001b[0margs\u001b[0m \u001b[1;33m=\u001b[0m \u001b[0margs\u001b[0m\u001b[1;33m[\u001b[0m\u001b[1;36m1\u001b[0m\u001b[1;33m:\u001b[0m\u001b[1;33m]\u001b[0m\u001b[1;33m\u001b[0m\u001b[1;33m\u001b[0m\u001b[0m\n\u001b[1;32m--> 312\u001b[1;33m             \u001b[1;32myield\u001b[0m \u001b[1;32mfrom\u001b[0m \u001b[0mself\u001b[0m\u001b[1;33m.\u001b[0m\u001b[0m_plot_args\u001b[0m\u001b[1;33m(\u001b[0m\u001b[0mthis\u001b[0m\u001b[1;33m,\u001b[0m \u001b[0mkwargs\u001b[0m\u001b[1;33m)\u001b[0m\u001b[1;33m\u001b[0m\u001b[1;33m\u001b[0m\u001b[0m\n\u001b[0m\u001b[0;32m    313\u001b[0m \u001b[1;33m\u001b[0m\u001b[0m\n\u001b[0;32m    314\u001b[0m     \u001b[1;32mdef\u001b[0m \u001b[0mget_next_color\u001b[0m\u001b[1;33m(\u001b[0m\u001b[0mself\u001b[0m\u001b[1;33m)\u001b[0m\u001b[1;33m:\u001b[0m\u001b[1;33m\u001b[0m\u001b[1;33m\u001b[0m\u001b[0m\n",
      "\u001b[1;32m~\\Miniconda3\\lib\\site-packages\\matplotlib\\axes\\_base.py\u001b[0m in \u001b[0;36m_plot_args\u001b[1;34m(self, tup, kwargs, return_kwargs)\u001b[0m\n\u001b[0;32m    496\u001b[0m \u001b[1;33m\u001b[0m\u001b[0m\n\u001b[0;32m    497\u001b[0m         \u001b[1;32mif\u001b[0m \u001b[0mx\u001b[0m\u001b[1;33m.\u001b[0m\u001b[0mshape\u001b[0m\u001b[1;33m[\u001b[0m\u001b[1;36m0\u001b[0m\u001b[1;33m]\u001b[0m \u001b[1;33m!=\u001b[0m \u001b[0my\u001b[0m\u001b[1;33m.\u001b[0m\u001b[0mshape\u001b[0m\u001b[1;33m[\u001b[0m\u001b[1;36m0\u001b[0m\u001b[1;33m]\u001b[0m\u001b[1;33m:\u001b[0m\u001b[1;33m\u001b[0m\u001b[1;33m\u001b[0m\u001b[0m\n\u001b[1;32m--> 498\u001b[1;33m             raise ValueError(f\"x and y must have same first dimension, but \"\n\u001b[0m\u001b[0;32m    499\u001b[0m                              f\"have shapes {x.shape} and {y.shape}\")\n\u001b[0;32m    500\u001b[0m         \u001b[1;32mif\u001b[0m \u001b[0mx\u001b[0m\u001b[1;33m.\u001b[0m\u001b[0mndim\u001b[0m \u001b[1;33m>\u001b[0m \u001b[1;36m2\u001b[0m \u001b[1;32mor\u001b[0m \u001b[0my\u001b[0m\u001b[1;33m.\u001b[0m\u001b[0mndim\u001b[0m \u001b[1;33m>\u001b[0m \u001b[1;36m2\u001b[0m\u001b[1;33m:\u001b[0m\u001b[1;33m\u001b[0m\u001b[1;33m\u001b[0m\u001b[0m\n",
      "\u001b[1;31mValueError\u001b[0m: x and y must have same first dimension, but have shapes (1001,) and (6,)"
     ]
    },
    {
     "data": {
      "image/png": "[encoded data removed]",
      "text/plain": [
       "<Figure size 432x288 with 1 Axes>"
      ]
     },
     "metadata": {
      "needs_background": "light"
     },
     "output_type": "display_data"
    }
   ],
   "source": [
    "x = np.array(range(N+1))\n",
    "m = np.mean(Distances, axis=0)\n",
    "s = np.std(Distances, axis=0)\n",
    "print(m, s , x)\n",
    "plt.plot(x, m, color='b', linewidth=1, label='mean')\n",
    "plt.plot(x, m + 3*s, color='b', linewidth=1, linestyle='--', label='mean + 3 std')\n",
    "plt.plot(x, m - 3*s, color='b', linewidth=1, linestyle='--', label='mean - 3 std')\n",
    "plt.title('Spectral Laplacian Euclidean distance on original graph')\n",
    "plt.xlabel('# Edge removal')\n",
    "plt.ylabel('Distance')\n",
    "plt.savefig('Spectral Laplacian Euclidean distance on original graph.png', dpi=200)"
   ]
  },
  {
   "cell_type": "code",
   "execution_count": 151,
   "id": "ba283c1b",
   "metadata": {},
   "outputs": [
    {
     "name": "stdout",
     "output_type": "stream",
     "text": [
      "Time: 20 s\n",
      "Graph with 1000 nodes and 2659 edges\n"
     ]
    }
   ],
   "source": [
    "start = timeit.default_timer()\n",
    "apsp_G = all_pairs_shortest_path_subgraph(G)\n",
    "print(f'Time: {timeit.default_timer() - start:.0f} s')\n",
    "print(apsp_G)"
   ]
  },
  {
   "cell_type": "code",
   "execution_count": 152,
   "id": "c462e923",
   "metadata": {},
   "outputs": [
    {
     "name": "stdout",
     "output_type": "stream",
     "text": [
      "Time: 16 s\n",
      "Graph with 1000 nodes and 2659 edges\n"
     ]
    }
   ],
   "source": [
    "start = timeit.default_timer()\n",
    "apsp_G2 = all_pairs_shortest_path_subgraph2(G)\n",
    "print(f'Time: {timeit.default_timer() - start:.0f} s')\n",
    "print(apsp_G2)"
   ]
  },
  {
   "cell_type": "code",
   "execution_count": 156,
   "id": "97004a43",
   "metadata": {},
   "outputs": [
    {
     "name": "stdout",
     "output_type": "stream",
     "text": [
      "Time: 12 s\n",
      "Graph with 1000 nodes and 2659 edges\n"
     ]
    }
   ],
   "source": [
    "start = timeit.default_timer()\n",
    "apsp_G3 = dc.metric_backbone(G, weight='weight')\n",
    "print(f'Time: {timeit.default_timer() - start:.0f} s')\n",
    "print(apsp_G3)"
   ]
  },
  {
   "cell_type": "code",
   "execution_count": 155,
   "id": "ae9628c3",
   "metadata": {},
   "outputs": [],
   "source": [
    "assert nx.utils.graphs_equal(apsp_G, apsp_G2)\n",
    "\n",
    "assert nx.utils.graphs_equal(apsp_G, apsp_G3)"
   ]
  },
  {
   "cell_type": "code",
   "execution_count": 130,
   "id": "b66f45ab",
   "metadata": {},
   "outputs": [
    {
     "data": {
      "text/plain": [
       "{(0, 1): Text(0.2983974204340721, 0.5611015940436134, '0.85'),\n",
       " (0, 2): Text(0.36071037750046914, 0.21787482757676566, '0.16'),\n",
       " (0, 3): Text(0.6239088529796306, 0.10165930153596747, '0.44'),\n",
       " (1, 4): Text(-0.4394060014529897, 0.15413257153345244, '0.61'),\n",
       " (1, 5): Text(-0.27517262222045236, -0.24778193917413932, '0.24'),\n",
       " (1, 7): Text(-0.4589934592524621, 0.6070680066438097, '0.8'),\n",
       " (2, 3): Text(0.2268778643906515, -0.29823293732277223, '0.62'),\n",
       " (2, 5): Text(-0.2128596651540553, -0.5910087056409871, '0.71'),\n",
       " (2, 6): Text(0.38871670472496994, -0.11064181888736874, '0.74'),\n",
       " (2, 7): Text(-0.39668050218606504, 0.263841240176962, '0.64'),\n",
       " (3, 4): Text(-0.11389456890743122, -0.30530972097419345, '0.45'),\n",
       " (3, 6): Text(0.6519151802041314, -0.22685734492816692, '0.94')}"
      ]
     },
     "execution_count": 130,
     "metadata": {},
     "output_type": "execute_result"
    },
    {
     "data": {
      "image/png": "[encoded data removed]",
      "text/plain": [
       "<Figure size 432x288 with 1 Axes>"
      ]
     },
     "metadata": {},
     "output_type": "display_data"
    }
   ],
   "source": [
    "#https://networkx.org/documentation/latest/auto_examples/drawing/plot_weighted_graph.html#sphx-glr-auto-examples-drawing-plot-weighted-graph-py\n",
    "    \n",
    "edge_labels = {k : round(v, 2) for (k, v) in nx.get_edge_attributes(G,'weight').items()}\n",
    "pos = nx.spring_layout(G, seed=4)\n",
    "nx.draw(G, pos=pos, with_labels=True, font_weight='bold')\n",
    "nx.draw_networkx_edge_labels(G, pos=pos, edge_labels=edge_labels)"
   ]
  }
 ],
 "metadata": {
  "kernelspec": {
   "display_name": "Python 3 (ipykernel)",
   "language": "python",
   "name": "python3"
  },
  "language_info": {
   "codemirror_mode": {
    "name": "ipython",
    "version": 3
   },
   "file_extension": ".py",
   "mimetype": "text/x-python",
   "name": "python",
   "nbconvert_exporter": "python",
   "pygments_lexer": "ipython3",
   "version": "3.7.3"
  }
 },
 "nbformat": 4,
 "nbformat_minor": 5
}
