{
 "cells": [
  {
   "cell_type": "code",
   "execution_count": 1,
   "id": "a96e2f37",
   "metadata": {},
   "outputs": [],
   "source": [
    "import pandas as pd\n",
    "from matplotlib import pyplot as plt\n",
    "\n",
    "from utils.graphs import *\n",
    "from utils.distances import *\n",
    "from utils.helper import *"
   ]
  },
  {
   "cell_type": "code",
   "execution_count": 2,
   "id": "659d56a3",
   "metadata": {},
   "outputs": [],
   "source": [
    "def apsp_vs_sigmas(G, G_str, G_description, w, sigmas, out_handling):\n",
    "    g = w(G.copy())\n",
    "    n_edges = [apsp(add_gaussian_noise(g.copy(), σ, out_handling)).number_of_edges() for σ in sigmas]\n",
    "    \n",
    "    plt.plot(sigmas, n_edges, marker='o', linestyle=\"\")\n",
    "    plt.title(f'{f_str(w)} weighted {G_description} \\n σ - Gaussian noise on the weights')\n",
    "    plt.xlabel('Sigmas')\n",
    "    plt.ylabel('#Edges of metric backbone')\n",
    "    plt.savefig(f'plots/apsp_vs_sigmas/{f_str(w)} {G_str} [{sigmas[0]}, {sigmas[-1]}].png', dpi=200)\n",
    "    plt.clf()"
   ]
  },
  {
   "cell_type": "code",
   "execution_count": 3,
   "id": "9fc0a2a1",
   "metadata": {},
   "outputs": [],
   "source": [
    "graphs = [BA(), ER(), ABCD()]\n",
    "graphs_str = [\"BA\", \"ER\", \"ABCD\"]\n",
    "graphs_description = ['BA(|V| = 1000, |E| = 4975)', 'ER(|V| = 1000, |E| = 4977)', 'ABCD(|V| = 1000, |E| = 4951)']\n",
    "weights = [uni, exp, log]\n",
    "sigmas = np.linspace(0, 0.5, 21).tolist()"
   ]
  },
  {
   "cell_type": "code",
   "execution_count": 4,
   "id": "a17048c4",
   "metadata": {},
   "outputs": [
    {
     "data": {
      "text/plain": [
       "<Figure size 432x288 with 0 Axes>"
      ]
     },
     "metadata": {},
     "output_type": "display_data"
    }
   ],
   "source": [
    "for G, G_str, G_description in zip(graphs, graphs_str, graphs_description):\n",
    "    apsp_vs_sigmas(G, G_str, G_description, uni, sigmas, 'reflecting')\n",
    "    apsp_vs_sigmas(G, G_str, G_description, exp, sigmas, 'resampling')\n",
    "    apsp_vs_sigmas(G, G_str, G_description, log, sigmas, 'resampling')"
   ]
  }
 ],
 "metadata": {
  "kernelspec": {
   "display_name": "Python 3 (ipykernel)",
   "language": "python",
   "name": "python3"
  },
  "language_info": {
   "codemirror_mode": {
    "name": "ipython",
    "version": 3
   },
   "file_extension": ".py",
   "mimetype": "text/x-python",
   "name": "python",
   "nbconvert_exporter": "python",
   "pygments_lexer": "ipython3",
   "version": "3.7.3"
  }
 },
 "nbformat": 4,
 "nbformat_minor": 5
}
