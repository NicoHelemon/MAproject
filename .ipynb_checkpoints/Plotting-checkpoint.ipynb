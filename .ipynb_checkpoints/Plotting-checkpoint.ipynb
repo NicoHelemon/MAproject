{
 "cells": [
  {
   "cell_type": "code",
   "execution_count": 1,
   "id": "6a5c3da7",
   "metadata": {},
   "outputs": [],
   "source": [
    "from matplotlib import pyplot as plt\n",
    "import pandas as pd\n",
    "import numpy as np"
   ]
  },
  {
   "cell_type": "code",
   "execution_count": 7,
   "id": "07d8c5e2",
   "metadata": {},
   "outputs": [],
   "source": [
    "df_full = pd.read_csv('results_full.csv', header = [0,1], index_col=0)\n",
    "df_apsp = pd.read_csv('results_apsp.csv', header = [0,1], index_col=0)"
   ]
  },
  {
   "cell_type": "code",
   "execution_count": 24,
   "id": "7d3108e3",
   "metadata": {},
   "outputs": [],
   "source": [
    "def plotting(df, metric_id, plot_name):\n",
    "    m = df[metric_id][1:].astype(float).to_numpy()\n",
    "    s = df[metric_id + \".1\"][1:].astype(float).to_numpy()\n",
    "    x = np.array(range(len(m)))\n",
    "    \n",
    "    plt.plot(x, m, color='b', linewidth=1, label='mean')\n",
    "    plt.plot(x, m + 3*s, color='b', linewidth=1, linestyle='--', label='mean + 3 std')\n",
    "    plt.plot(x, m - 3*s, color='b', linewidth=1, linestyle='--', label='mean - 3 std')\n",
    "    plt.title(plot_name)\n",
    "    plt.xlabel('# Edge removal')\n",
    "    plt.ylabel('Distance')\n",
    "    plt.savefig('results/' + plot_name + '.png', dpi=200)\n",
    "    plt.clf()"
   ]
  },
  {
   "cell_type": "code",
   "execution_count": 27,
   "id": "4844e77a",
   "metadata": {},
   "outputs": [
    {
     "data": {
      "text/plain": [
       "<Figure size 432x288 with 0 Axes>"
      ]
     },
     "metadata": {},
     "output_type": "display_data"
    }
   ],
   "source": [
    "for df, graph in zip([df_full, df_apsp], [\"original graph\", \"apsp subgraph\"]):\n",
    "    plotting(df, \"lap\", \"Spectral Laplacian Euclidean distance on \" + graph)\n",
    "    plotting(df, \"adj\", \"Spectral Ajdacency Euclidean distance on \" + graph)\n",
    "    plotting(df, \"nlap\", \"Spectral Normalized Laplacian Euclidean distance on \" + graph)\n",
    "    plotting(df, \"netlsd\", \"Network Laplacian Spectral descriptor on \" + graph)\n",
    "    plotting(df, \"portrait\", \"Portrait Divergence on \" + graph)"
   ]
  }
 ],
 "metadata": {
  "kernelspec": {
   "display_name": "Python 3 (ipykernel)",
   "language": "python",
   "name": "python3"
  },
  "language_info": {
   "codemirror_mode": {
    "name": "ipython",
    "version": 3
   },
   "file_extension": ".py",
   "mimetype": "text/x-python",
   "name": "python",
   "nbconvert_exporter": "python",
   "pygments_lexer": "ipython3",
   "version": "3.7.3"
  }
 },
 "nbformat": 4,
 "nbformat_minor": 5
}
