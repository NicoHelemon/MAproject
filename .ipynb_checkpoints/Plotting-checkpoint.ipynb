{
 "cells": [
  {
   "cell_type": "code",
   "execution_count": 8,
   "id": "6a5c3da7",
   "metadata": {},
   "outputs": [],
   "source": [
    "from matplotlib import pyplot as plt\n",
    "import pandas as pd\n",
    "import numpy as np"
   ]
  },
  {
   "cell_type": "code",
   "execution_count": 25,
   "id": "7d3108e3",
   "metadata": {},
   "outputs": [],
   "source": [
    "def plotting(dfs, metric_id, metric_d, perturbation):\n",
    "    for (graph, dfg), c in zip(dfs.items(), ['r', 'b', 'g']):\n",
    "        for (mode, df), ls in zip(dfg.items(), ['--', 'dotted']):\n",
    "            m = df[metric_id]['mean'].to_numpy()\n",
    "            s = 0.3*df[metric_id]['std'].to_numpy()\n",
    "            i = np.arange(len(s))\n",
    "            s[i[i % 5 != 1]] = 0\n",
    "            x = np.concatenate(([0],np.arange(1, 501, 5)))\n",
    "\n",
    "            #plt.errorbar(x, m, color = c, linestyle=ls, label = graph + \" \" + mode)\n",
    "            plt.errorbar(x, m, yerr = s, color = c, linestyle=ls, label = graph + \" \" + mode)\n",
    "            plt.legend(loc='lower right')\n",
    "        \n",
    "    plot_name = perturbation + \" \" + metric_d\n",
    "    plt.title(plot_name)\n",
    "    plt.xlabel('# ' + perturbation)\n",
    "    plt.ylabel('Distance')\n",
    "    plt.savefig('plots/' + plot_name + '.png', dpi=200)\n",
    "    plt.clf()"
   ]
  },
  {
   "cell_type": "code",
   "execution_count": 10,
   "id": "193810eb",
   "metadata": {},
   "outputs": [],
   "source": [
    "perturbations = [\"Edge removal\", \"Edge addition\", \"Rdm edge switching\", \"Deg preserving edge switching\"]\n",
    "graphs = [\"BA\", \"ER\", \"ABCD\"]\n",
    "modes = [\"full\", \"apsp\"]\n",
    "metrics = list(zip(\n",
    "    [\"lap\", \"nlap\", \"netlsd\", \"portrait\"],\n",
    "    [\"Spectral Laplacian Euclidean distance\",\n",
    "     \"Spectral Normalized Laplacian Euclidean distance\", \n",
    "     \"Network Laplacian Spectral descriptor distance\", \n",
    "     \"Portrait divergence\"],\n",
    "))"
   ]
  },
  {
   "cell_type": "code",
   "execution_count": 11,
   "id": "ff91f5b8",
   "metadata": {},
   "outputs": [],
   "source": [
    "Dfs = {}\n",
    "for perturbation in perturbations:\n",
    "    Dfs[perturbation] = {}\n",
    "    for graph in graphs:\n",
    "        Dfs[perturbation][graph] = {}\n",
    "        for mode in modes:\n",
    "            Dfs[perturbation][graph][mode] = pd.read_csv(\n",
    "                f'results/{perturbation} {graph} {mode}.csv', header = [0,1])"
   ]
  },
  {
   "cell_type": "code",
   "execution_count": 26,
   "id": "71431e4f",
   "metadata": {},
   "outputs": [
    {
     "data": {
      "text/plain": [
       "<Figure size 432x288 with 0 Axes>"
      ]
     },
     "metadata": {},
     "output_type": "display_data"
    }
   ],
   "source": [
    "for perturbation in perturbations:\n",
    "    for metric_id, metric_d in metrics:\n",
    "        plotting(Dfs[perturbation], metric_id, metric_d, perturbation)"
   ]
  }
 ],
 "metadata": {
  "kernelspec": {
   "display_name": "Python 3 (ipykernel)",
   "language": "python",
   "name": "python3"
  },
  "language_info": {
   "codemirror_mode": {
    "name": "ipython",
    "version": 3
   },
   "file_extension": ".py",
   "mimetype": "text/x-python",
   "name": "python",
   "nbconvert_exporter": "python",
   "pygments_lexer": "ipython3",
   "version": "3.7.3"
  }
 },
 "nbformat": 4,
 "nbformat_minor": 5
}
