{
 "cells": [
  {
   "cell_type": "code",
   "execution_count": 7,
   "id": "5c0e1de6",
   "metadata": {},
   "outputs": [],
   "source": [
    "import numpy as np\n",
    "import scipy as sp\n",
    "import pandas as pd\n",
    "from matplotlib import pyplot as plt\n",
    "\n",
    "import random\n",
    "import itertools\n",
    "import timeit\n",
    "\n",
    "import networkx as nx\n",
    "import netlsd\n",
    "import distanceclosure as dc\n",
    "from portrait_divergence import portrait_divergence"
   ]
  },
  {
   "cell_type": "code",
   "execution_count": 19,
   "id": "312190d4",
   "metadata": {},
   "outputs": [],
   "source": [
    "pd.set_option('display.max_rows', 500)\n",
    "pd.set_option('display.max_columns', 500)\n",
    "pd.set_option('display.width', 1000)\n",
    "pd.set_option('display.float_format', lambda x: '%.3f' % x)"
   ]
  },
  {
   "cell_type": "code",
   "execution_count": 8,
   "id": "32efa52b",
   "metadata": {},
   "outputs": [],
   "source": [
    "def weighten(G):\n",
    "    for (u, v, w) in G.edges(data=True):\n",
    "        w['weight'] = np.random.uniform()\n",
    "    return G"
   ]
  },
  {
   "cell_type": "code",
   "execution_count": 9,
   "id": "01dcff35",
   "metadata": {},
   "outputs": [],
   "source": [
    "V = 1000\n",
    "D = 0.01\n",
    "E = round(D*V*(V-1)/2)\n",
    "\n",
    "G = nx.barabasi_albert_graph(V, round(E/V))\n",
    "G = weighten(G)"
   ]
  },
  {
   "cell_type": "code",
   "execution_count": 11,
   "id": "61d616cd",
   "metadata": {},
   "outputs": [],
   "source": [
    "def removal(H):\n",
    "    H.remove_edge(*random.choice(list(H.edges)))\n",
    "\n",
    "def addition(H):\n",
    "    u, v = random.choice(list(H.nodes)), random.choice(list(H.nodes))\n",
    "    while (u, v) in H.edges:\n",
    "        u, v = random.choice(list(H.nodes)), random.choice(list(H.nodes))\n",
    "    H.add_edge(u, v, weight = np.random.uniform())\n",
    "    \n",
    "def random_switching(H):\n",
    "    removal(H)\n",
    "    addition(H)\n",
    "\n",
    "def degree_preserving_switching(H):\n",
    "    a, b = random.choice(list(H.edges))\n",
    "    c, d = random.choice(list(H.edges))\n",
    "    while (a, c) in H.edges or (b, d) in H.edges:\n",
    "        a, b = random.choice(list(H.edges))\n",
    "        c, d = random.choice(list(H.edges))\n",
    "\n",
    "    H.remove_edge(a, b)\n",
    "    H.remove_edge(c, d)\n",
    "    H.add_edge(a, c, weight = np.random.uniform())\n",
    "    H.add_edge(b, d, weight = np.random.uniform())"
   ]
  },
  {
   "cell_type": "code",
   "execution_count": 12,
   "id": "071eecfd",
   "metadata": {},
   "outputs": [],
   "source": [
    "def euc_distance(m, H, G, mG = None):\n",
    "    #if mG is None:\n",
    "    #    mG = m(G)\n",
    "    return np.linalg.norm(m(H) - mG)\n",
    "\n",
    "def lap_spec_d(H, G, mG = None):\n",
    "    return euc_distance(nx.laplacian_spectrum, H, G, mG)\n",
    "\n",
    "def adj_spec_d(H, G, mG = None):\n",
    "    return euc_distance(nx.adjacency_spectrum, H, G, mG)\n",
    "\n",
    "def nlap_spec_d(H, G, mG = None):\n",
    "    return euc_distance(nx.normalized_laplacian_spectrum, H, G, mG)\n",
    "\n",
    "def netlsd_heat_d(H, G, mG = None):\n",
    "    return euc_distance(netlsd.heat, H, G, mG)\n",
    "\n",
    "def portrait_div_d(H, G):\n",
    "    return portrait_divergence(H, G)"
   ]
  },
  {
   "cell_type": "code",
   "execution_count": 13,
   "id": "113482ca",
   "metadata": {},
   "outputs": [],
   "source": [
    "def test(G, perturbation, metrics, K, N):\n",
    "    start = timeit.default_timer()\n",
    "    apsp_G = dc.metric_backbone(G, weight='weight')\n",
    "    \n",
    "    Distances_full = {m_id : [ [] for _ in range(K) ] for m_id, _, _ in metrics}\n",
    "    Distances_apsp = {m_id : [ [] for _ in range(K) ] for m_id, _, _ in metrics}\n",
    "    \n",
    "    prec_full = {}\n",
    "    prec_apsp = {}\n",
    "    \n",
    "    for m_id, md, m in metrics:\n",
    "        if m is not None:\n",
    "            prec_full[m_id] = m(G)\n",
    "            prec_apsp[m_id] = m(apsp_G)\n",
    "            md_f = md(G, G, prec_full[m_id])\n",
    "            md_a = md(apsp_G, apsp_G, prec_apsp[m_id])\n",
    "            for i in range(K):\n",
    "                Distances_full[m_id][i].append(md_f)\n",
    "                Distances_apsp[m_id][i].append(md_a)\n",
    "        else:\n",
    "            md_f = md(G, G)\n",
    "            md_a = md(apsp_G, apsp_G)\n",
    "            for i in range(K):\n",
    "                Distances_full[m_id][i].append(md_f)\n",
    "                Distances_apsp[m_id][i].append(md_a)\n",
    "    for i in range(K):\n",
    "        print(f'K = {i}')\n",
    "        H = G.copy()\n",
    "        for j in range(N):\n",
    "            print(f'{j}\\'th perturbation')\n",
    "            perturbation(H)\n",
    "            print(f'Metric backbone start: {timeit.default_timer() - start:.2f} s')\n",
    "            apsp_H = dc.metric_backbone(H, weight='weight')\n",
    "            print(f'Metric backbone finish: {timeit.default_timer() - start:.2f} s')\n",
    "            \n",
    "            for m_id, md, m in metrics:\n",
    "                if m is not None:\n",
    "                    Distances_full[m_id][i].append(md(H, G, prec_full[m_id]))\n",
    "                    Distances_apsp[m_id][i].append(md(apsp_H, apsp_G, prec_apsp[m_id]))\n",
    "                else:\n",
    "                    print(f'Portrait start: {timeit.default_timer() - start:.2f} s')\n",
    "                    Distances_full[m_id][i].append(md(H, G))\n",
    "                    Distances_apsp[m_id][i].append(md(apsp_H, apsp_G))\n",
    "                    print(f'Portrait finish: {timeit.default_timer() - start:.2f} s')\n",
    "    \n",
    "    return Distances_full, Distances_apsp"
   ]
  },
  {
   "cell_type": "code",
   "execution_count": 14,
   "id": "005755ee",
   "metadata": {},
   "outputs": [],
   "source": [
    "metrics = [\n",
    "    (\"lap\", lap_spec_d, nx.laplacian_spectrum), \n",
    "    (\"adj\", adj_spec_d, nx.adjacency_spectrum),\n",
    "    (\"nlap\", nlap_spec_d, nx.normalized_laplacian_spectrum),\n",
    "    (\"netlsd\", netlsd_heat_d, netlsd.heat),\n",
    "    (\"portrait\", portrait_div_d, None)\n",
    "]"
   ]
  },
  {
   "cell_type": "code",
   "execution_count": 17,
   "id": "7f7101ed",
   "metadata": {},
   "outputs": [
    {
     "name": "stdout",
     "output_type": "stream",
     "text": [
      "K = 0\n",
      "0'th perturbation\n",
      "Metric backbone start: 12.30 s\n",
      "Metric backbone finish: 20.06 s\n",
      "1'th perturbation\n",
      "Metric backbone start: 24.42 s\n",
      "Metric backbone finish: 32.82 s\n",
      "K = 1\n",
      "0'th perturbation\n",
      "Metric backbone start: 36.37 s\n",
      "Metric backbone finish: 43.83 s\n",
      "1'th perturbation\n",
      "Metric backbone start: 46.94 s\n",
      "Metric backbone finish: 54.31 s\n"
     ]
    }
   ],
   "source": [
    "N = 4\n",
    "K = 1\n",
    "\n",
    "Distances_full, Distances_apsp = test(G, removal, metrics, K, N)"
   ]
  },
  {
   "cell_type": "code",
   "execution_count": 76,
   "id": "bc81582f",
   "metadata": {},
   "outputs": [
    {
     "data": {
      "text/html": [
       "<div>\n",
       "<style scoped>\n",
       "    .dataframe tbody tr th:only-of-type {\n",
       "        vertical-align: middle;\n",
       "    }\n",
       "\n",
       "    .dataframe tbody tr th {\n",
       "        vertical-align: top;\n",
       "    }\n",
       "\n",
       "    .dataframe thead tr th {\n",
       "        text-align: left;\n",
       "    }\n",
       "</style>\n",
       "<table border=\"1\" class=\"dataframe\">\n",
       "  <thead>\n",
       "    <tr>\n",
       "      <th></th>\n",
       "      <th colspan=\"2\" halign=\"left\">lap</th>\n",
       "      <th colspan=\"2\" halign=\"left\">adj</th>\n",
       "      <th colspan=\"2\" halign=\"left\">nlap</th>\n",
       "    </tr>\n",
       "    <tr>\n",
       "      <th></th>\n",
       "      <th>mean</th>\n",
       "      <th>std</th>\n",
       "      <th>mean</th>\n",
       "      <th>std</th>\n",
       "      <th>mean</th>\n",
       "      <th>std</th>\n",
       "    </tr>\n",
       "  </thead>\n",
       "  <tbody>\n",
       "    <tr>\n",
       "      <th>0</th>\n",
       "      <td>0.000</td>\n",
       "      <td>0.000</td>\n",
       "      <td>0.000</td>\n",
       "      <td>0.000</td>\n",
       "      <td>0.000</td>\n",
       "      <td>0.000</td>\n",
       "    </tr>\n",
       "    <tr>\n",
       "      <th>1</th>\n",
       "      <td>0.160</td>\n",
       "      <td>0.136</td>\n",
       "      <td>64.782</td>\n",
       "      <td>1.714</td>\n",
       "      <td>0.007</td>\n",
       "      <td>0.001</td>\n",
       "    </tr>\n",
       "    <tr>\n",
       "      <th>2</th>\n",
       "      <td>0.165</td>\n",
       "      <td>0.144</td>\n",
       "      <td>69.809</td>\n",
       "      <td>3.279</td>\n",
       "      <td>0.008</td>\n",
       "      <td>0.002</td>\n",
       "    </tr>\n",
       "  </tbody>\n",
       "</table>\n",
       "</div>"
      ],
      "text/plain": [
       "    lap          adj        nlap      \n",
       "   mean   std   mean   std  mean   std\n",
       "0 0.000 0.000  0.000 0.000 0.000 0.000\n",
       "1 0.160 0.136 64.782 1.714 0.007 0.001\n",
       "2 0.165 0.144 69.809 3.279 0.008 0.002"
      ]
     },
     "execution_count": 76,
     "metadata": {},
     "output_type": "execute_result"
    }
   ],
   "source": [
    "df = pd.concat({k : pd.DataFrame(a).T.agg(['mean', 'std'], axis=1) for k, a in Distances_full.items()}, axis=1)\n",
    "df"
   ]
  },
  {
   "cell_type": "code",
   "execution_count": 77,
   "id": "a7a47b5a",
   "metadata": {},
   "outputs": [],
   "source": [
    "df.to_csv(\"results.csv\")"
   ]
  }
 ],
 "metadata": {
  "kernelspec": {
   "display_name": "Python 3 (ipykernel)",
   "language": "python",
   "name": "python3"
  },
  "language_info": {
   "codemirror_mode": {
    "name": "ipython",
    "version": 3
   },
   "file_extension": ".py",
   "mimetype": "text/x-python",
   "name": "python",
   "nbconvert_exporter": "python",
   "pygments_lexer": "ipython3",
   "version": "3.7.3"
  }
 },
 "nbformat": 4,
 "nbformat_minor": 5
}
