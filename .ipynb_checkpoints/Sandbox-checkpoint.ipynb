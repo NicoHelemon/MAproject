{
 "cells": [
  {
   "cell_type": "code",
   "execution_count": 1,
   "id": "487ad529",
   "metadata": {},
   "outputs": [],
   "source": [
    "import pandas as pd\n",
    "import distanceclosure as dc\n",
    "from matplotlib import pyplot as plt\n",
    "\n",
    "from utils.graphs import *\n",
    "from utils.distances import *\n",
    "from utils.tests import *\n",
    "from utils.portrait_divergence import *\n",
    "from utils.perturbations import *\n",
    "from scipy.spatial.distance import squareform"
   ]
  }
 ],
 "metadata": {
  "kernelspec": {
   "display_name": "Python 3 (ipykernel)",
   "language": "python",
   "name": "python3"
  },
  "language_info": {
   "codemirror_mode": {
    "name": "ipython",
    "version": 3
   },
   "file_extension": ".py",
   "mimetype": "text/x-python",
   "name": "python",
   "nbconvert_exporter": "python",
   "pygments_lexer": "ipython3",
   "version": "3.7.3"
  }
 },
 "nbformat": 4,
 "nbformat_minor": 5
}
