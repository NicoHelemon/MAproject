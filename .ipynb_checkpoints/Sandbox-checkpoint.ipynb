{
 "cells": [
  {
   "cell_type": "code",
   "execution_count": 28,
   "id": "487ad529",
   "metadata": {},
   "outputs": [],
   "source": [
    "import pandas as pd\n",
    "import distanceclosure as dc\n",
    "\n",
    "from utils.graphs import *\n",
    "from utils.distances import *\n",
    "from utils.tests import *\n",
    "from utils.portrait_divergence import *\n",
    "from utils.perturbations import *"
   ]
  },
  {
   "cell_type": "code",
   "execution_count": 23,
   "id": "c22f2ac7",
   "metadata": {},
   "outputs": [],
   "source": [
    "G = uniform_w(BA())\n",
    "apsp_G = dc.metric_backbone(G.copy(), weight='weight')"
   ]
  },
  {
   "cell_type": "code",
   "execution_count": 29,
   "id": "5d6e2fd8",
   "metadata": {},
   "outputs": [],
   "source": [
    "sigmas = [0.01, 0.02, 0.04, 0.08, 0.16, 0.32, 0.64, 1.28]\n",
    "apsp_Hs = []\n",
    "for σ in sigmas:\n",
    "    H = add_gaussian_noise_w(G.copy(), σ)\n",
    "    apsp_H = dc.metric_backbone(H.copy(), weight='weight')\n",
    "    apsp_Hs.append(apsp_H)"
   ]
  },
  {
   "cell_type": "code",
   "execution_count": 33,
   "id": "f9f518ee",
   "metadata": {},
   "outputs": [
    {
     "name": "stdout",
     "output_type": "stream",
     "text": [
      "[0.01, 0.02, 0.03, 0.04, 0.05, 0.060000000000000005, 0.06999999999999999, 0.08, 0.09, 0.09999999999999999, 0.11]\n"
     ]
    }
   ],
   "source": [
    "import numpy as np\n",
    "print((0.01 + np.linspace(0, 0.1, 11)).tolist())"
   ]
  },
  {
   "cell_type": "code",
   "execution_count": 30,
   "id": "67f23650",
   "metadata": {},
   "outputs": [
    {
     "name": "stdout",
     "output_type": "stream",
     "text": [
      "Graph with 1000 nodes and 2685 edges\n",
      "Graph with 1000 nodes and 2671 edges\n",
      "Graph with 1000 nodes and 2646 edges\n",
      "Graph with 1000 nodes and 2682 edges\n",
      "Graph with 1000 nodes and 2309 edges\n",
      "Graph with 1000 nodes and 1588 edges\n",
      "Graph with 1000 nodes and 1184 edges\n",
      "Graph with 1000 nodes and 1346 edges\n",
      "Graph with 1000 nodes and 1781 edges\n"
     ]
    }
   ],
   "source": [
    "print(apsp_G)\n",
    "for H in apsp_Hs:\n",
    "    print(H)"
   ]
  },
  {
   "cell_type": "code",
   "execution_count": 6,
   "id": "43023aba",
   "metadata": {},
   "outputs": [
    {
     "name": "stdout",
     "output_type": "stream",
     "text": [
      "0.08451487326962685\n",
      "0.08451487326962685\n"
     ]
    }
   ],
   "source": [
    "print(portrait_div_d(H1, H2))\n",
    "print(portrait_div_d(apsp_H1, apsp_H2))"
   ]
  },
  {
   "cell_type": "code",
   "execution_count": 9,
   "id": "9143613a",
   "metadata": {},
   "outputs": [],
   "source": [
    "graphs = list(zip(\n",
    "    [\"BA\", \"ER\"],\n",
    "    [uniform_w(BA()), uniform_w(ER())]\n",
    "))\n",
    "\n",
    "metrics = list(zip(\n",
    "    [\"lap\", \"adj\", \"nlap\", \"netlsd\", \"portrait\"],\n",
    "    [lap_spec_d, adj_spec_d, nlap_spec_d, netlsd_heat_d, portrait_div_d],\n",
    "    [nx.laplacian_spectrum, nx.adjacency_spectrum, nx.normalized_laplacian_spectrum, netlsd.heat, None]\n",
    "))\n",
    "\n",
    "sigmas = np.linspace(0, 3, 3).tolist()[1:]"
   ]
  },
  {
   "cell_type": "code",
   "execution_count": 10,
   "id": "38db2598",
   "metadata": {},
   "outputs": [
    {
     "name": "stdout",
     "output_type": "stream",
     "text": [
      "Sigma nb 0, Iteration nb 0\n",
      "Time spent               = 00:00:29\n",
      "Estimated time remaining = 00:02:29\n",
      "\n",
      "Sigma nb 0, Iteration nb 1\n",
      "Time spent               = 00:01:12\n",
      "Estimated time remaining = 00:02:24\n",
      "\n",
      "Sigma nb 0, Iteration nb 2\n",
      "Time spent               = 00:01:48\n",
      "Estimated time remaining = 00:01:48\n",
      "\n",
      "Sigma nb 1, Iteration nb 0\n",
      "Time spent               = 00:02:19\n",
      "Estimated time remaining = 00:01:09\n",
      "\n",
      "Sigma nb 1, Iteration nb 1\n",
      "Time spent               = 00:02:51\n",
      "Estimated time remaining = 00:00:34\n",
      "\n",
      "Sigma nb 1, Iteration nb 2\n",
      "Time spent               = 00:03:33\n",
      "Estimated time remaining = 00:00:00\n",
      "\n"
     ]
    }
   ],
   "source": [
    "distances_full, distances_apsp = gaussian_noise_test(uniform_w(BA()), metrics, sigmas, 3)"
   ]
  },
  {
   "cell_type": "code",
   "execution_count": 132,
   "id": "1520debe",
   "metadata": {},
   "outputs": [],
   "source": [
    "df_full = pd.concat({σ : pd.DataFrame(pd.DataFrame(a).agg(['mean', 'std']).unstack()).T \n",
    "                     for σ, a in distances_full.items()}, axis=0).reset_index(level=1, drop=True)"
   ]
  },
  {
   "cell_type": "code",
   "execution_count": 133,
   "id": "c7a0b8c0",
   "metadata": {},
   "outputs": [
    {
     "data": {
      "text/html": [
       "<div>\n",
       "<style scoped>\n",
       "    .dataframe tbody tr th:only-of-type {\n",
       "        vertical-align: middle;\n",
       "    }\n",
       "\n",
       "    .dataframe tbody tr th {\n",
       "        vertical-align: top;\n",
       "    }\n",
       "\n",
       "    .dataframe thead tr th {\n",
       "        text-align: left;\n",
       "    }\n",
       "</style>\n",
       "<table border=\"1\" class=\"dataframe\">\n",
       "  <thead>\n",
       "    <tr>\n",
       "      <th></th>\n",
       "      <th colspan=\"2\" halign=\"left\">lap</th>\n",
       "      <th colspan=\"2\" halign=\"left\">adj</th>\n",
       "      <th colspan=\"2\" halign=\"left\">nlap</th>\n",
       "      <th colspan=\"2\" halign=\"left\">netlsd</th>\n",
       "      <th colspan=\"2\" halign=\"left\">portrait</th>\n",
       "    </tr>\n",
       "    <tr>\n",
       "      <th></th>\n",
       "      <th>mean</th>\n",
       "      <th>std</th>\n",
       "      <th>mean</th>\n",
       "      <th>std</th>\n",
       "      <th>mean</th>\n",
       "      <th>std</th>\n",
       "      <th>mean</th>\n",
       "      <th>std</th>\n",
       "      <th>mean</th>\n",
       "      <th>std</th>\n",
       "    </tr>\n",
       "  </thead>\n",
       "  <tbody>\n",
       "    <tr>\n",
       "      <th>1.5</th>\n",
       "      <td>25.140276</td>\n",
       "      <td>12.006029</td>\n",
       "      <td>189.117462</td>\n",
       "      <td>7.655900</td>\n",
       "      <td>0.362413</td>\n",
       "      <td>0.067109</td>\n",
       "      <td>0.020644</td>\n",
       "      <td>0.005537</td>\n",
       "      <td>0.0</td>\n",
       "      <td>0.0</td>\n",
       "    </tr>\n",
       "    <tr>\n",
       "      <th>3.0</th>\n",
       "      <td>45.092091</td>\n",
       "      <td>10.187534</td>\n",
       "      <td>337.904243</td>\n",
       "      <td>14.531678</td>\n",
       "      <td>0.352385</td>\n",
       "      <td>0.102132</td>\n",
       "      <td>0.027629</td>\n",
       "      <td>0.018588</td>\n",
       "      <td>0.0</td>\n",
       "      <td>0.0</td>\n",
       "    </tr>\n",
       "  </tbody>\n",
       "</table>\n",
       "</div>"
      ],
      "text/plain": [
       "           lap                    adj                 nlap            \\\n",
       "          mean        std        mean        std      mean       std   \n",
       "1.5  25.140276  12.006029  189.117462   7.655900  0.362413  0.067109   \n",
       "3.0  45.092091  10.187534  337.904243  14.531678  0.352385  0.102132   \n",
       "\n",
       "       netlsd           portrait       \n",
       "         mean       std     mean  std  \n",
       "1.5  0.020644  0.005537      0.0  0.0  \n",
       "3.0  0.027629  0.018588      0.0  0.0  "
      ]
     },
     "execution_count": 133,
     "metadata": {},
     "output_type": "execute_result"
    }
   ],
   "source": [
    "df_full"
   ]
  },
  {
   "cell_type": "code",
   "execution_count": 13,
   "id": "30537c09",
   "metadata": {},
   "outputs": [
    {
     "name": "stdout",
     "output_type": "stream",
     "text": [
      "{1.5: {'lap': [37.94306511308156, 23.344440268651624, 14.13332280602523], 'adj': [188.66354042313537, 196.99022424680177, 181.6986220891443], 'nlap': [0.43985551698031916, 0.32605863373646626, 0.3213247237687578], 'netlsd': [0.01693494291324574, 0.02700889496525506, 0.01798726909365207], 'portrait': [0.0, 0.0, 0.0]}, 3.0: {'lap': [54.301154782297985, 34.148734010577755, 46.826384280220786], 'adj': [351.8274262005917, 339.053038018726, 322.83226383651896], 'nlap': [0.2608338162229757, 0.46253968455144084, 0.33378140312838345], 'netlsd': [0.010727833691974649, 0.04753713704677566, 0.024622521476174948], 'portrait': [0.0, 0.0, 0.0]}}\n"
     ]
    }
   ],
   "source": [
    "print(distances_full)"
   ]
  }
 ],
 "metadata": {
  "kernelspec": {
   "display_name": "Python 3 (ipykernel)",
   "language": "python",
   "name": "python3"
  },
  "language_info": {
   "codemirror_mode": {
    "name": "ipython",
    "version": 3
   },
   "file_extension": ".py",
   "mimetype": "text/x-python",
   "name": "python",
   "nbconvert_exporter": "python",
   "pygments_lexer": "ipython3",
   "version": "3.7.3"
  }
 },
 "nbformat": 4,
 "nbformat_minor": 5
}
