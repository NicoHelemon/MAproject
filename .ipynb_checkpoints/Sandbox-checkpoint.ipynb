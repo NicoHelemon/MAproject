{
 "cells": [
  {
   "cell_type": "code",
   "execution_count": 4,
   "id": "4d8d48d0",
   "metadata": {},
   "outputs": [
    {
     "name": "stdout",
     "output_type": "stream",
     "text": [
      "er fe\n",
      "er feaabe be\n"
     ]
    }
   ],
   "source": [
    "x = ['er', 'fe']\n",
    "y = 'aa'\n",
    "z = ['be', 'be']\n",
    "\n",
    "modified_list = [\" \".join(var) if not isinstance(var, str) else var for var in [x, y, z]]\n",
    "x, y, z = modified_list\n",
    "\n",
    "print(x)\n",
    "print(x + y + z)"
   ]
  }
 ],
 "metadata": {
  "kernelspec": {
   "display_name": "Python 3 (ipykernel)",
   "language": "python",
   "name": "python3"
  },
  "language_info": {
   "codemirror_mode": {
    "name": "ipython",
    "version": 3
   },
   "file_extension": ".py",
   "mimetype": "text/x-python",
   "name": "python",
   "nbconvert_exporter": "python",
   "pygments_lexer": "ipython3",
   "version": "3.7.3"
  }
 },
 "nbformat": 4,
 "nbformat_minor": 5
}
