{
 "cells": [
  {
   "cell_type": "code",
   "execution_count": 1,
   "id": "487ad529",
   "metadata": {},
   "outputs": [],
   "source": [
    "import pandas as pd\n",
    "import distanceclosure as dc\n",
    "from matplotlib import pyplot as plt\n",
    "\n",
    "from utils.graphs import *\n",
    "from utils.distances import *\n",
    "from utils.tests import *\n",
    "from utils.portrait_divergence import *\n",
    "from utils.perturbations import *\n",
    "from scipy.spatial.distance import squareform\n",
    "from scipy.stats import expon\n",
    "from scipy.stats import lognorm"
   ]
  },
  {
   "cell_type": "code",
   "execution_count": 1,
   "id": "d531f480",
   "metadata": {},
   "outputs": [],
   "source": [
    "from utils.graphs import *"
   ]
  },
  {
   "cell_type": "code",
   "execution_count": 7,
   "id": "675c560c",
   "metadata": {},
   "outputs": [
    {
     "ename": "SyntaxError",
     "evalue": "invalid syntax (Temp/ipykernel_10060/1712230235.py, line 1)",
     "output_type": "error",
     "traceback": [
      "\u001b[1;36m  File \u001b[1;32m\"C:\\Users\\Nicol\\AppData\\Local\\Temp/ipykernel_10060/1712230235.py\"\u001b[1;36m, line \u001b[1;32m1\u001b[0m\n\u001b[1;33m    f'A {\"lol\"}{(\"lol lol\").replace('_', ' ')} test\\n'\u001b[0m\n\u001b[1;37m                                     ^\u001b[0m\n\u001b[1;31mSyntaxError\u001b[0m\u001b[1;31m:\u001b[0m invalid syntax\n"
     ]
    }
   ],
   "source": [
    "f'A {\"lol\"}{(\"lol lol\").replace('_', ' ')} test\\n'"
   ]
  },
  {
   "cell_type": "code",
   "execution_count": 2,
   "id": "e2dfa628",
   "metadata": {},
   "outputs": [],
   "source": [
    "BA = BA()"
   ]
  },
  {
   "cell_type": "code",
   "execution_count": 13,
   "id": "400def97",
   "metadata": {},
   "outputs": [
    {
     "name": "stdout",
     "output_type": "stream",
     "text": [
      "Graph with 1000 nodes and 4975 edges\n"
     ]
    }
   ],
   "source": [
    "print(BA)"
   ]
  },
  {
   "cell_type": "code",
   "execution_count": 16,
   "id": "33de170a",
   "metadata": {},
   "outputs": [],
   "source": [
    "mu = -0.5 * np.log(2)\n",
    "sigma = np.sqrt(np.log(2))\n",
    "\n",
    "A = [uni(BA.copy(), 2).size(weight=\"weight\") for _ in range(100)]\n",
    "B = [exp(BA.copy(), 1).size(weight=\"weight\") for _ in range(100)]\n",
    "C = [log(BA.copy(), mu, sigma).size(weight=\"weight\") for _ in range(100)]"
   ]
  },
  {
   "cell_type": "code",
   "execution_count": 17,
   "id": "c039446a",
   "metadata": {},
   "outputs": [
    {
     "name": "stdout",
     "output_type": "stream",
     "text": [
      "4968.746880993298\n",
      "4978.440932296766\n",
      "4971.063961978835\n"
     ]
    }
   ],
   "source": [
    "print(np.mean(A))\n",
    "print(np.mean(B))\n",
    "print(np.mean(C))"
   ]
  },
  {
   "cell_type": "code",
   "execution_count": 22,
   "id": "94dba45c",
   "metadata": {},
   "outputs": [],
   "source": [
    "BA1 = uni(BA.copy(), 2)\n",
    "BA2 = exp(BA.copy(), 1)\n",
    "BA3 = log(BA.copy(), mu, sigma)\n",
    "σ = 0.1\n",
    "\n",
    "A = [add_gaussian_noise(BA1.copy(), σ, 2).size(weight=\"weight\") for _ in range(200)]\n",
    "B = [add_gaussian_noise(BA2.copy(), σ, None).size(weight=\"weight\") for _ in range(200)]\n",
    "C = [add_gaussian_noise(BA3.copy(), σ, None).size(weight=\"weight\") for _ in range(200)]"
   ]
  },
  {
   "cell_type": "code",
   "execution_count": 23,
   "id": "ca53bace",
   "metadata": {},
   "outputs": [
    {
     "name": "stdout",
     "output_type": "stream",
     "text": [
      "5026.887034358408\n",
      "5025.997134797701\n",
      "5023.838249328069\n",
      "5045.827934608852\n",
      "4934.8762842354645\n",
      "4938.025305845533\n"
     ]
    }
   ],
   "source": [
    "print(BA1.size(weight=\"weight\"))\n",
    "print(np.mean(A))\n",
    "print(BA2.size(weight=\"weight\"))\n",
    "print(np.mean(B))\n",
    "print(BA3.size(weight=\"weight\"))\n",
    "print(np.mean(C))"
   ]
  },
  {
   "cell_type": "code",
   "execution_count": 29,
   "id": "2996e269",
   "metadata": {},
   "outputs": [],
   "source": [
    "def add_gaussian_noise2(G, σ, weight):\n",
    "    # resampling\n",
    "    if weight in [exp, log]:\n",
    "        for (_, _, w) in G.edges(data=True):\n",
    "            new_w = w['weight'] + np.random.normal(0, σ)\n",
    "            while new_w < 0:\n",
    "                new_w = w['weight'] + np.random.normal(0, σ)\n",
    "            w['weight'] = new_w\n",
    "\n",
    "    # reflecting (how about circular shift?)\n",
    "    elif weight in [uni]:\n",
    "        for (_, _, w) in G.edges(data=True):\n",
    "            new_w = w['weight'] + np.random.normal(0, σ)\n",
    "            while new_w < 0 or new_w > 2:\n",
    "                if new_w < 0:\n",
    "                    new_w = -new_w\n",
    "                else:    \n",
    "                    new_w = 4 - new_w\n",
    "            w['weight'] = new_w\n",
    "\n",
    "    return G"
   ]
  },
  {
   "cell_type": "code",
   "execution_count": 32,
   "id": "116438a5",
   "metadata": {},
   "outputs": [],
   "source": [
    "BA1 = uni(BA.copy(), 2)\n",
    "BA2 = exp(BA.copy(), 1)\n",
    "BA3 = log(BA.copy(), mu, sigma)\n",
    "σ = 0.1\n",
    "\n",
    "A = [add_gaussian_noise2(BA1.copy(), σ, uni).size(weight=\"weight\") for _ in range(200)]\n",
    "B = [add_gaussian_noise2(BA2.copy(), σ, exp).size(weight=\"weight\") for _ in range(200)]\n",
    "C = [add_gaussian_noise2(BA3.copy(), σ, log).size(weight=\"weight\") for _ in range(200)]"
   ]
  },
  {
   "cell_type": "code",
   "execution_count": 33,
   "id": "953727c1",
   "metadata": {},
   "outputs": [
    {
     "name": "stdout",
     "output_type": "stream",
     "text": [
      "4927.386315089072\n",
      "4927.745753801259\n",
      "5054.517544993759\n",
      "5085.596464979379\n",
      "4991.963647543787\n",
      "4998.070547483682\n"
     ]
    }
   ],
   "source": [
    "print(BA1.size(weight=\"weight\"))\n",
    "print(np.mean(A))\n",
    "print(BA2.size(weight=\"weight\"))\n",
    "print(np.mean(B))\n",
    "print(BA3.size(weight=\"weight\"))\n",
    "print(np.mean(C))"
   ]
  },
  {
   "cell_type": "code",
   "execution_count": 18,
   "id": "3fade11c",
   "metadata": {},
   "outputs": [
    {
     "data": {
      "text/plain": [
       "'Log'"
      ]
     },
     "execution_count": 18,
     "metadata": {},
     "output_type": "execute_result"
    }
   ],
   "source": [
    "class awesome:\n",
    "    def __init__(self, a):\n",
    "        self.a = a\n",
    "        \n",
    "    def __call__(self)\n",
    "    \n",
    "    def __str__(self):\n",
    "        return f'Log'\n",
    "    \n",
    "str(awesome(1))"
   ]
  },
  {
   "cell_type": "code",
   "execution_count": 23,
   "id": "0b043b14",
   "metadata": {},
   "outputs": [
    {
     "name": "stdout",
     "output_type": "stream",
     "text": [
      "Yes\n"
     ]
    }
   ],
   "source": [
    "if {None : None}:\n",
    "    print(\"Yes\")"
   ]
  },
  {
   "cell_type": "code",
   "execution_count": 24,
   "id": "7d03d3a6",
   "metadata": {},
   "outputs": [
    {
     "name": "stdout",
     "output_type": "stream",
     "text": [
      "lol\n"
     ]
    }
   ],
   "source": [
    "BA.name = 'lol'\n",
    "print(BA.name)"
   ]
  }
 ],
 "metadata": {
  "kernelspec": {
   "display_name": "Python 3 (ipykernel)",
   "language": "python",
   "name": "python3"
  },
  "language_info": {
   "codemirror_mode": {
    "name": "ipython",
    "version": 3
   },
   "file_extension": ".py",
   "mimetype": "text/x-python",
   "name": "python",
   "nbconvert_exporter": "python",
   "pygments_lexer": "ipython3",
   "version": "3.7.3"
  }
 },
 "nbformat": 4,
 "nbformat_minor": 5
}
