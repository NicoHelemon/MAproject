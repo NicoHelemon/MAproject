{
 "cells": [
  {
   "cell_type": "code",
   "execution_count": 1,
   "id": "4d8d48d0",
   "metadata": {},
   "outputs": [],
   "source": [
    "from pathlib import Path"
   ]
  },
  {
   "cell_type": "code",
   "execution_count": 2,
   "id": "df2ce538",
   "metadata": {},
   "outputs": [
    {
     "data": {
      "image/png": "[encoded data removed]",
      "text/plain": [
       "<Figure size 432x288 with 1 Axes>"
      ]
     },
     "metadata": {
      "needs_background": "light"
     },
     "output_type": "display_data"
    },
    {
     "name": "stdout",
     "output_type": "stream",
     "text": [
      "AUPR: 0.4932419134205641\n"
     ]
    }
   ],
   "source": [
    "import numpy as np\n",
    "import matplotlib.pyplot as plt\n",
    "from sklearn.metrics import precision_recall_curve, auc\n",
    "\n",
    "def calculate_precision_recall_curve(distances, labels, thresholds):\n",
    "    precisions = []\n",
    "    recalls = []\n",
    "    for threshold in thresholds:\n",
    "        predictions = distances < threshold\n",
    "        tp = np.sum(predictions[labels == 1])\n",
    "        fp = np.sum(predictions[labels == 0])\n",
    "        fn = np.sum(labels) - tp\n",
    "        precision = tp / (tp + fp) if (tp + fp) > 0 else 0\n",
    "        recall = tp / (tp + fn) if (tp + fn) > 0 else 0\n",
    "        precisions.append(precision)\n",
    "        recalls.append(recall)\n",
    "    return precisions, recalls\n",
    "\n",
    "def calculate_aupr(precisions, recalls):\n",
    "    return auc(recalls, precisions)\n",
    "\n",
    "# Example usage\n",
    "# distances: your matrix of pairwise distances\n",
    "# labels: binary labels indicating whether pairs belong to the same class or not\n",
    "# thresholds: range of threshold values to consider\n",
    "\n",
    "# Example data\n",
    "distances = np.random.rand(100, 100)  # Replace with your actual distance matrix\n",
    "labels = np.random.randint(0, 2, (100, 100))  # Replace with your actual labels\n",
    "thresholds = np.linspace(0, 1, 100)  # Example thresholds\n",
    "\n",
    "# Calculate Precision-Recall curve\n",
    "precisions, recalls = calculate_precision_recall_curve(distances, labels, thresholds)\n",
    "\n",
    "# Calculate AUPR\n",
    "aupr = calculate_aupr(precisions, recalls)\n",
    "\n",
    "# Plot Precision-Recall curve\n",
    "plt.plot(recalls, precisions, marker='.', label='Precision-Recall curve')\n",
    "plt.xlabel('Recall')\n",
    "plt.ylim([0, 1])\n",
    "plt.ylabel('Precision')\n",
    "plt.title('Precision-Recall Curve (AUPR = {:.2f})'.format(aupr))\n",
    "plt.legend()\n",
    "plt.grid(True)\n",
    "plt.show()\n",
    "\n",
    "print(\"AUPR:\", aupr)"
   ]
  },
  {
   "cell_type": "code",
   "execution_count": 7,
   "id": "0f13a154",
   "metadata": {},
   "outputs": [],
   "source": [
    "from utils.tests.functions import *\n",
    "from utils.graphs import *\n",
    "from utils.static import *\n",
    "import matplotlib.pyplot as plt\n",
    "import time"
   ]
  },
  {
   "cell_type": "code",
   "execution_count": 8,
   "id": "cc677185",
   "metadata": {},
   "outputs": [
    {
     "name": "stdout",
     "output_type": "stream",
     "text": [
      "BA 0 Uni 0\n",
      "BA 0 Uni 1\n",
      "BA 0 Uni 2\n",
      "BA 0 Exp 0\n",
      "BA 0 Exp 1\n",
      "BA 0 Exp 2\n",
      "BA 0 Log 0\n",
      "BA 0 Log 1\n",
      "BA 0 Log 2\n",
      "BA 1 Uni 0\n",
      "BA 1 Uni 1\n",
      "BA 1 Uni 2\n",
      "BA 1 Exp 0\n",
      "BA 1 Exp 1\n",
      "BA 1 Exp 2\n",
      "BA 1 Log 0\n",
      "BA 1 Log 1\n",
      "BA 1 Log 2\n",
      "BA 2 Uni 0\n",
      "BA 2 Uni 1\n",
      "BA 2 Uni 2\n",
      "BA 2 Exp 0\n",
      "BA 2 Exp 1\n",
      "BA 2 Exp 2\n",
      "BA 2 Log 0\n",
      "BA 2 Log 1\n",
      "BA 2 Log 2\n",
      "ER 0 Uni 0\n",
      "ER 0 Uni 1\n",
      "ER 0 Uni 2\n",
      "ER 0 Exp 0\n",
      "ER 0 Exp 1\n",
      "ER 0 Exp 2\n",
      "ER 0 Log 0\n",
      "ER 0 Log 1\n",
      "ER 0 Log 2\n",
      "ER 1 Uni 0\n",
      "ER 1 Uni 1\n",
      "ER 1 Uni 2\n",
      "ER 1 Exp 0\n",
      "ER 1 Exp 1\n",
      "ER 1 Exp 2\n",
      "ER 1 Log 0\n",
      "ER 1 Log 1\n",
      "ER 1 Log 2\n",
      "ER 2 Uni 0\n",
      "ER 2 Uni 1\n",
      "ER 2 Uni 2\n",
      "ER 2 Exp 0\n",
      "ER 2 Exp 1\n",
      "ER 2 Exp 2\n",
      "ER 2 Log 0\n",
      "ER 2 Log 1\n",
      "ER 2 Log 2\n",
      "ABCD 0 Uni 0\n",
      "ABCD 0 Uni 1\n",
      "ABCD 0 Uni 2\n",
      "ABCD 0 Exp 0\n",
      "ABCD 0 Exp 1\n",
      "ABCD 0 Exp 2\n",
      "ABCD 0 Log 0\n",
      "ABCD 0 Log 1\n",
      "ABCD 0 Log 2\n",
      "ABCD 1 Uni 0\n",
      "ABCD 1 Uni 1\n",
      "ABCD 1 Uni 2\n",
      "ABCD 1 Exp 0\n",
      "ABCD 1 Exp 1\n",
      "ABCD 1 Exp 2\n",
      "ABCD 1 Log 0\n",
      "ABCD 1 Log 1\n",
      "ABCD 1 Log 2\n",
      "ABCD 2 Uni 0\n",
      "ABCD 2 Uni 1\n",
      "ABCD 2 Uni 2\n",
      "ABCD 2 Exp 0\n",
      "ABCD 2 Exp 1\n",
      "ABCD 2 Exp 2\n",
      "ABCD 2 Log 0\n",
      "ABCD 2 Log 1\n",
      "ABCD 2 Log 2\n"
     ]
    }
   ],
   "source": [
    "Graphs = []\n",
    "\n",
    "for g in GRAPHS:\n",
    "    for i in range(3):\n",
    "        G = g(s = FIXED_SEED[g.__name__][i])\n",
    "        for w in WEIGHTS:\n",
    "            for j in range(3):\n",
    "                print(G.name, i, w.name, j)\n",
    "                Graphs.append(w(G.copy()))"
   ]
  },
  {
   "cell_type": "code",
   "execution_count": 3,
   "id": "cc7aa9b6",
   "metadata": {},
   "outputs": [
    {
     "name": "stdout",
     "output_type": "stream",
     "text": [
      "3.2241532802581787\n",
      "8.92448616027832\n",
      "7.9286205768585205\n",
      "6.075015544891357\n",
      "5.412099361419678\n"
     ]
    }
   ],
   "source": [
    "s_Graphs = {}\n",
    "S_NAME = S_NAME[:1] + S_NAME[2:]\n",
    "SPARSIFIERS = SPARSIFIERS[:1] + SPARSIFIERS[2:]\n",
    "for s_name, s in zip(S_NAME, SPARSIFIERS):\n",
    "    start_time = time.time()\n",
    "    s_Graphs[s_name] = [s(G.copy()) for G in Graphs]\n",
    "    print(time.time() - start_time)"
   ]
  },
  {
   "cell_type": "code",
   "execution_count": 4,
   "id": "457df672",
   "metadata": {},
   "outputs": [
    {
     "name": "stdout",
     "output_type": "stream",
     "text": [
      "mean size = 4982.146319018672\n",
      "mean # edges = 4977.111111111111\n"
     ]
    },
    {
     "data": {
      "image/png": "[encoded data removed]",
      "text/plain": [
       "<Figure size 432x288 with 1 Axes>"
      ]
     },
     "metadata": {
      "needs_background": "light"
     },
     "output_type": "display_data"
    },
    {
     "name": "stdout",
     "output_type": "stream",
     "text": [
      "mean size = 3495.992869749928\n",
      "mean # edges = 3489.777777777778\n"
     ]
    },
    {
     "data": {
      "image/png": "[encoded data removed]",
      "text/plain": [
       "<Figure size 432x288 with 1 Axes>"
      ]
     },
     "metadata": {
      "needs_background": "light"
     },
     "output_type": "display_data"
    },
    {
     "name": "stdout",
     "output_type": "stream",
     "text": [
      "mean size = 1976.040035144286\n",
      "mean # edges = 2890.3086419753085\n"
     ]
    },
    {
     "data": {
      "image/png": "[encoded data removed]",
      "text/plain": [
       "<Figure size 432x288 with 1 Axes>"
      ]
     },
     "metadata": {
      "needs_background": "light"
     },
     "output_type": "display_data"
    },
    {
     "name": "stdout",
     "output_type": "stream",
     "text": [
      "mean size = 2108.6851571724374\n",
      "mean # edges = 2986.3333333333335\n"
     ]
    },
    {
     "data": {
      "image/png": "[encoded data removed]",
      "text/plain": [
       "<Figure size 432x288 with 1 Axes>"
      ]
     },
     "metadata": {
      "needs_background": "light"
     },
     "output_type": "display_data"
    },
    {
     "name": "stdout",
     "output_type": "stream",
     "text": [
      "mean size = 1441.4529064083367\n",
      "mean # edges = 2950.1604938271603\n"
     ]
    },
    {
     "data": {
      "image/png": "[encoded data removed]",
      "text/plain": [
       "<Figure size 432x288 with 1 Axes>"
      ]
     },
     "metadata": {
      "needs_background": "light"
     },
     "output_type": "display_data"
    }
   ],
   "source": [
    "for s_name, s in zip(S_NAME, SPARSIFIERS):\n",
    "    print(f'mean size = ' + str(np.mean([g.size(weight='weight') for g in s_Graphs[s_name]])))\n",
    "    n_edges = [G.number_of_edges() for G in s_Graphs[s_name]]\n",
    "    print(f'mean # edges = {np.mean(n_edges)}')\n",
    "    plt.hist(n_edges,\n",
    "         bins=range(1000, 5001, 400), edgecolor='black')\n",
    "    plt.title(s_name + ' sparsifier: number of edges distribution')\n",
    "    plt.xlabel('Value')\n",
    "    plt.ylabel('Frequency')\n",
    "    plt.grid(True)\n",
    "\n",
    "    plt.axvline(x=np.mean(n_edges), color='r', linestyle='dashed', linewidth=1)\n",
    "\n",
    "    plt.show()"
   ]
  },
  {
   "cell_type": "code",
   "execution_count": 18,
   "id": "0b9061f3",
   "metadata": {},
   "outputs": [],
   "source": [
    "import networkx as nx\n",
    "import time\n",
    "import matplotlib.pyplot as plt\n",
    "import rustworkx as rx\n",
    "from utils.graphs import *\n",
    "from utils.sparsifiers import *"
   ]
  },
  {
   "cell_type": "code",
   "execution_count": 43,
   "id": "7c753744",
   "metadata": {},
   "outputs": [],
   "source": [
    "def rustworkx_apsp(G):\n",
    "    APSP = rx.all_pairs_dijkstra_shortest_paths(rx.networkx_converter(G, True)\n",
    "                                                , lambda e: e['weight'])\n",
    "    \n",
    "    H = nx.Graph()\n",
    "    for paths in APSP.values():\n",
    "        for p in paths.values():\n",
    "            nx.add_path(H,  p)\n",
    "    H.add_nodes_from(G)\n",
    "    return H"
   ]
  },
  {
   "cell_type": "code",
   "execution_count": 16,
   "id": "3316408c",
   "metadata": {},
   "outputs": [],
   "source": [
    "def networkx_apsp(G):\n",
    "    APSP = nx.all_pairs_dijkstra_path(G)\n",
    "    \n",
    "    H = nx.Graph()\n",
    "    for i, paths in APSP:\n",
    "        for j in range(i+1, 1000):\n",
    "            nx.add_path(H, paths[j])\n",
    "    H.add_nodes_from(G)\n",
    "    return H"
   ]
  },
  {
   "cell_type": "code",
   "execution_count": null,
   "id": "f0e71172",
   "metadata": {},
   "outputs": [],
   "source": [
    "num_graphs = 1\n",
    "\n",
    "# Step 2: Generate and store graphs\n",
    "graphs = [Uniform()(BA(s = i)) for i in range(num_graphs)]"
   ]
  },
  {
   "cell_type": "code",
   "execution_count": null,
   "id": "148747e1",
   "metadata": {},
   "outputs": [],
   "source": [
    "start_time = time.time()\n",
    "nx_apsp = [networkx_apsp(G) for G in graphs]\n",
    "nx_time = time.time() - start_time"
   ]
  },
  {
   "cell_type": "code",
   "execution_count": 44,
   "id": "648a483a",
   "metadata": {},
   "outputs": [],
   "source": [
    "start_time = time.time()\n",
    "rx_apsp = [rustworkx_apsp(G) for G in graphs]\n",
    "rx_time = time.time() - start_time"
   ]
  },
  {
   "cell_type": "code",
   "execution_count": 21,
   "id": "ad532359",
   "metadata": {},
   "outputs": [],
   "source": [
    "start_time = time.time()\n",
    "dc_apsp = [APSP()(G) for G in graphs]\n",
    "dc_time = time.time() - start_time"
   ]
  },
  {
   "cell_type": "code",
   "execution_count": 38,
   "id": "86ee1799",
   "metadata": {},
   "outputs": [
    {
     "name": "stdout",
     "output_type": "stream",
     "text": [
      "2771 2771 2771\n"
     ]
    }
   ],
   "source": [
    "for a, b, c in zip(nx_apsp, dc_apsp, rx_apsp):\n",
    "    print(a.number_of_edges(), b.number_of_edges(), c.number_of_edges())"
   ]
  },
  {
   "cell_type": "code",
   "execution_count": 45,
   "id": "4c1d6ee1",
   "metadata": {},
   "outputs": [
    {
     "data": {
      "image/png": "[encoded data removed]",
      "text/plain": [
       "<Figure size 432x288 with 1 Axes>"
      ]
     },
     "metadata": {
      "needs_background": "light"
     },
     "output_type": "display_data"
    }
   ],
   "source": [
    "# Step 6: Plot the Results\n",
    "functions = ['networkx', 'distanceclosure', 'rustworkx']\n",
    "running_times = [nx_time / num_graphs, dc_time / num_graphs, rx_time / num_graphs]\n",
    "\n",
    "plt.bar(functions, running_times)\n",
    "plt.xlabel('Functions')\n",
    "plt.ylabel('Average Running Time (seconds)')\n",
    "plt.title('Comparison of APSP Functions on Multiple Graphs')\n",
    "plt.show()"
   ]
  }
 ],
 "metadata": {
  "kernelspec": {
   "display_name": "Python 3 (ipykernel)",
   "language": "python",
   "name": "python3"
  },
  "language_info": {
   "codemirror_mode": {
    "name": "ipython",
    "version": 3
   },
   "file_extension": ".py",
   "mimetype": "text/x-python",
   "name": "python",
   "nbconvert_exporter": "python",
   "pygments_lexer": "ipython3",
   "version": "3.7.3"
  }
 },
 "nbformat": 4,
 "nbformat_minor": 5
}
