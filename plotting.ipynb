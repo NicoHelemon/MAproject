{
 "cells": [
  {
   "cell_type": "code",
   "execution_count": null,
   "id": "6a5c3da7",
   "metadata": {},
   "outputs": [],
   "source": [
    "import pandas as pd\n",
    "from itertools import product\n",
    "\n",
    "from utils.static import *\n",
    "from utils.plots import *"
   ]
  },
  {
   "cell_type": "code",
   "execution_count": null,
   "id": "811ab193",
   "metadata": {},
   "outputs": [],
   "source": [
    "plot = Plot()"
   ]
  },
  {
   "cell_type": "code",
   "execution_count": null,
   "id": "ff91f5b8",
   "metadata": {},
   "outputs": [],
   "source": [
    "D_p = {}\n",
    "D_p_edges = {}\n",
    "\n",
    "for p in PERTURBATIONS:\n",
    "    D_p[p] = {}\n",
    "    D_p_edges[p] = {}\n",
    "    for (g, w) in product(G_NAME, WEIGHTS):\n",
    "        D_p[p][(g, w)] = {}\n",
    "        D_p_edges[p][(g, w)] = {}\n",
    "        for m in MODES:\n",
    "            D_p[p][(g, w)][m] = pd.read_csv(\n",
    "                f'results/perturbation/{p.name}/{g}/{w.name}/{m}.csv', header = [0,1])\n",
    "            D_p_edges[p][(g, w)][m] = pd.read_csv(\n",
    "                f'results/perturbation/{p.name}/{g}/{w.name}/edges {m}.csv', header = [0,1])"
   ]
  },
  {
   "cell_type": "code",
   "execution_count": null,
   "id": "cd8ab106",
   "metadata": {},
   "outputs": [],
   "source": [
    "for w in WEIGHTS:\n",
    "    for p in PERTURBATIONS:\n",
    "        for m in METRICS:\n",
    "            plot.perturbation(D_p[p], [w], G_NAME, m, p, by = 'weight')\n",
    "\n",
    "for g in G_NAME:\n",
    "    for p in PERTURBATIONS:\n",
    "        for m in METRICS:\n",
    "            plot.perturbation(D_p[p], WEIGHTS, [g], m, p, by = 'graph')"
   ]
  },
  {
   "cell_type": "code",
   "execution_count": null,
   "id": "39f0fb13",
   "metadata": {},
   "outputs": [],
   "source": [
    "for w in WEIGHTS:\n",
    "    for p in PERTURBATIONS:\n",
    "        for e_mes in E_MES:\n",
    "            plot.perturbation_edges(D_p_edges[p], [w], G_NAME, e_mes, p, by = 'weight')\n",
    "\n",
    "\n",
    "for g in G_NAME:\n",
    "    for p in PERTURBATIONS:\n",
    "        for e_mes in E_MES:\n",
    "            plot.perturbation_edges(D_p_edges[p], WEIGHTS, [g], e_mes, p, by = 'graph')"
   ]
  },
  {
   "cell_type": "code",
   "execution_count": null,
   "id": "1b724fe4",
   "metadata": {},
   "outputs": [],
   "source": [
    "D_g = {}\n",
    "D_g_edges = {}\n",
    "\n",
    "for (g, w) in product(G_NAME, WEIGHTS):\n",
    "    D_g[(g, w)] = {}\n",
    "    D_g_edges[(g, w)] = {}\n",
    "    for m in MODES:\n",
    "        D_g[(g, w)][m] = pd.read_csv(\n",
    "            f'results/gaussian_noise/{g}/{w.name}/{m}.csv', header = [0,1], index_col=0)\n",
    "        D_g_edges[(g, w)][m] = pd.read_csv(\n",
    "            f'results/gaussian_noise/{g}/{w.name}/edges {m}.csv', header = [0,1], index_col=0)"
   ]
  },
  {
   "cell_type": "code",
   "execution_count": null,
   "id": "9e13c95e",
   "metadata": {},
   "outputs": [],
   "source": [
    "for w in WEIGHTS:\n",
    "    for m in METRICS:\n",
    "        plot.gaussian_noise(D_g, [w], G_NAME, m, by = 'weight')\n",
    "\n",
    "for g in G_NAME:\n",
    "    for m in METRICS:\n",
    "        plot.gaussian_noise(D_g, WEIGHTS, [g], m, by = 'graph')"
   ]
  },
  {
   "cell_type": "code",
   "execution_count": null,
   "id": "e4842164",
   "metadata": {},
   "outputs": [],
   "source": [
    "for w in WEIGHTS:\n",
    "    for e_mes in E_MES:\n",
    "        plot.gaussian_noise_edges(D_g_edges, [w], G_NAME, e_mes, by = 'weight')\n",
    "\n",
    "for g in G_NAME:\n",
    "    for e_mes in E_MES:\n",
    "        plot.gaussian_noise_edges(D_g_edges, WEIGHTS, [g], e_mes, by = 'graph')"
   ]
  },
  {
   "cell_type": "code",
   "execution_count": null,
   "id": "14dcd989",
   "metadata": {},
   "outputs": [],
   "source": [
    "D_gc = {}\n",
    "D_gc_labels = {}\n",
    "\n",
    "for g in G_NAME:\n",
    "    D_gc_labels[g] = pd.read_csv(\n",
    "        f'results/clustering/gaussian_noise/{g}/labels.csv')['0'].tolist()\n",
    "\n",
    "    D_gc[g] = {}\n",
    "    for m in MODES:\n",
    "        D_gc[g][m] = pd.read_csv(\n",
    "            f'results/clustering/gaussian_noise/{g}/{m}.csv')"
   ]
  },
  {
   "cell_type": "code",
   "execution_count": null,
   "id": "20866806",
   "metadata": {},
   "outputs": [],
   "source": [
    "for g in G_NAME:\n",
    "    for mode in MODES:\n",
    "        for metric in METRICS:\n",
    "            plot.clustering(D_gc[g][mode][metric.id], g, mode, metric, D_gc_labels[g])"
   ]
  }
 ],
 "metadata": {
  "kernelspec": {
   "display_name": "Python 3 (ipykernel)",
   "language": "python",
   "name": "python3"
  },
  "language_info": {
   "codemirror_mode": {
    "name": "ipython",
    "version": 3
   },
   "file_extension": ".py",
   "mimetype": "text/x-python",
   "name": "python",
   "nbconvert_exporter": "python",
   "pygments_lexer": "ipython3",
   "version": "3.7.3"
  }
 },
 "nbformat": 4,
 "nbformat_minor": 5
}
