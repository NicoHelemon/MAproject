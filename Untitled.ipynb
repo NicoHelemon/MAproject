{
 "cells": [
  {
   "cell_type": "code",
   "execution_count": 1,
   "id": "98697b9f",
   "metadata": {},
   "outputs": [],
   "source": [
    "import pandas as pd\n",
    "\n",
    "from utils.graphs import *\n",
    "from utils.distances import *\n",
    "from utils.dist_vs_pert_test import *\n",
    "from utils.portrait_divergence import *\n",
    "from utils.perturbations import *\n",
    "\n",
    "\n",
    "perturbations = zip(\n",
    "    [\"Edge removal\", \"Edge addition\", \"Rdm edge switching\", \"Deg preserving edge switching\"],\n",
    "    [edge_removal, edge_addition, random_edge_switching, degree_preserving_edge_switching]\n",
    ")\n",
    "\n",
    "graphs = zip(\n",
    "    [\"BA\", \"ER\", \"LFR\", \"CM\"],\n",
    "    [weighted_BA(), weighted_ER(), None, None]\n",
    ")\n",
    "\n",
    "metrics = list(zip(\n",
    "    [\"lap\", \"adj\", \"nlap\", \"netlsd\", \"portrait\"],\n",
    "    [lap_spec_d, adj_spec_d, nlap_spec_d, netlsd_heat_d, portrait_div_d],\n",
    "    [nx.laplacian_spectrum, nx.adjacency_spectrum, nx.normalized_laplacian_spectrum, netlsd.heat, None]\n",
    "))"
   ]
  },
  {
   "cell_type": "code",
   "execution_count": 2,
   "id": "1e28fcda",
   "metadata": {},
   "outputs": [
    {
     "name": "stdout",
     "output_type": "stream",
     "text": [
      "[('lap', <function lap_spec_d at 0x000001BE12C84A60>, <function laplacian_spectrum at 0x000001BE0BD14950>), ('adj', <function adj_spec_d at 0x000001BE12C84AE8>, <function adjacency_spectrum at 0x000001BE0BD14A60>), ('nlap', <function nlap_spec_d at 0x000001BE12C84B70>, <function normalized_laplacian_spectrum at 0x000001BE0BD149D8>), ('netlsd', <function netlsd_heat_d at 0x000001BE12C84BF8>, <function heat at 0x000001BE1226D2F0>), ('portrait', <function portrait_div_d at 0x000001BE12C84C80>, None)]\n",
      "{'lap': [[], []], 'adj': [[], []], 'nlap': [[], []], 'netlsd': [[], []], 'portrait': [[], []]}\n",
      "0.0\n",
      "{'lap': [[0.0], []], 'adj': [[], []], 'nlap': [[], []], 'netlsd': [[], []], 'portrait': [[], []]}\n",
      "{'lap': [[0.0], []], 'adj': [[], []], 'nlap': [[], []], 'netlsd': [[], []], 'portrait': [[], []]}\n",
      "0.0\n",
      "{'lap': [[0.0], [0.0]], 'adj': [[], []], 'nlap': [[], []], 'netlsd': [[], []], 'portrait': [[], []]}\n",
      "{'lap': [[0.0], [0.0]], 'adj': [[], []], 'nlap': [[], []], 'netlsd': [[], []], 'portrait': [[], []]}\n",
      "0.0\n",
      "{'lap': [[0.0], [0.0]], 'adj': [[0.0], []], 'nlap': [[], []], 'netlsd': [[], []], 'portrait': [[], []]}\n",
      "{'lap': [[0.0], [0.0]], 'adj': [[0.0], []], 'nlap': [[], []], 'netlsd': [[], []], 'portrait': [[], []]}\n",
      "0.0\n",
      "{'lap': [[0.0], [0.0]], 'adj': [[0.0], [0.0]], 'nlap': [[], []], 'netlsd': [[], []], 'portrait': [[], []]}\n",
      "{'lap': [[0.0], [0.0]], 'adj': [[0.0], [0.0]], 'nlap': [[], []], 'netlsd': [[], []], 'portrait': [[], []]}\n",
      "0.0\n",
      "{'lap': [[0.0], [0.0]], 'adj': [[0.0], [0.0]], 'nlap': [[0.0], []], 'netlsd': [[], []], 'portrait': [[], []]}\n",
      "{'lap': [[0.0], [0.0]], 'adj': [[0.0], [0.0]], 'nlap': [[0.0], []], 'netlsd': [[], []], 'portrait': [[], []]}\n",
      "0.0\n",
      "{'lap': [[0.0], [0.0]], 'adj': [[0.0], [0.0]], 'nlap': [[0.0], [0.0]], 'netlsd': [[], []], 'portrait': [[], []]}\n",
      "{'lap': [[0.0], [0.0]], 'adj': [[0.0], [0.0]], 'nlap': [[0.0], [0.0]], 'netlsd': [[], []], 'portrait': [[], []]}\n",
      "0.0\n",
      "{'lap': [[0.0], [0.0]], 'adj': [[0.0], [0.0]], 'nlap': [[0.0], [0.0]], 'netlsd': [[0.0], []], 'portrait': [[], []]}\n",
      "{'lap': [[0.0], [0.0]], 'adj': [[0.0], [0.0]], 'nlap': [[0.0], [0.0]], 'netlsd': [[0.0], []], 'portrait': [[], []]}\n",
      "0.0\n",
      "{'lap': [[0.0], [0.0]], 'adj': [[0.0], [0.0]], 'nlap': [[0.0], [0.0]], 'netlsd': [[0.0], [0.0]], 'portrait': [[], []]}\n",
      "Iteration 0, Perturbation nb 0\n",
      "Time spent               = 00:00:21\n",
      "Estimated time remaining = 00:01:19\n",
      "\n",
      "Iteration 0, Perturbation nb 5\n",
      "Time spent               = 00:00:46\n",
      "Estimated time remaining = 00:01:05\n",
      "\n",
      "Iteration 1, Perturbation nb 0\n",
      "Time spent               = 00:01:07\n",
      "Estimated time remaining = 00:00:40\n",
      "\n",
      "Iteration 1, Perturbation nb 5\n",
      "Time spent               = 00:01:27\n",
      "Estimated time remaining = 00:00:17\n",
      "\n",
      "{'lap': [[0.0, 0.8034211505996645, 1.0194072304716761], [0.0, 0.22989441816607908, 0.5265456308310338]], 'adj': [[0.0, 74.45654877219407, 78.74491059344159], [0.0, 71.83295197192189, 77.11873336917184]], 'nlap': [[0.0, 0.008457969182517669, 0.02110583220190133], [0.0, 0.0062890202768855685, 0.022964269852670957]], 'netlsd': [[0.0, 3.3805510354573265e-05, 0.0001972825304606472], [0.0, 1.1900706125903293e-05, 0.00010167833890169525]], 'portrait': [[0.0, 0.04592456177325907, 0.114621305400845], [0.0, 0.025446639041347134, 0.09992969122080234]]}\n"
     ]
    }
   ],
   "source": [
    "for graph_name, G in list(graphs)[0:1]:\n",
    "    for perturbation_name, perturbation in list(perturbations)[3:4]:\n",
    "        distances_full, distances_apsp = test(G, perturbation, metrics, K = 2, N = 10)\n",
    "\n",
    "        print(distances_full)\n",
    "        df_full = pd.concat({k : pd.DataFrame(a).T.agg(['mean', 'std'], axis=1) for k, a in distances_full.items()}, axis=1)\n",
    "        df_apsp = pd.concat({k : pd.DataFrame(a).T.agg(['mean', 'std'], axis=1) for k, a in distances_apsp.items()}, axis=1)\n",
    "\n",
    "        df_full.to_csv(\"results/\" + perturbation_name + \" \" + graph_name + \" full.csv\", index=False)\n",
    "        df_apsp.to_csv(\"results/\" + perturbation_name + \" \" + graph_name + \" apsp.csv\", index=False)"
   ]
  }
 ],
 "metadata": {
  "kernelspec": {
   "display_name": "Python 3 (ipykernel)",
   "language": "python",
   "name": "python3"
  },
  "language_info": {
   "codemirror_mode": {
    "name": "ipython",
    "version": 3
   },
   "file_extension": ".py",
   "mimetype": "text/x-python",
   "name": "python",
   "nbconvert_exporter": "python",
   "pygments_lexer": "ipython3",
   "version": "3.7.3"
  }
 },
 "nbformat": 4,
 "nbformat_minor": 5
}
