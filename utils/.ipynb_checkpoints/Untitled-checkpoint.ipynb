{
 "cells": [
  {
   "cell_type": "code",
   "execution_count": 2,
   "id": "eb986456",
   "metadata": {},
   "outputs": [],
   "source": [
    "import numpy as np\n",
    "import igraph as ig\n",
    "import os"
   ]
  },
  {
   "cell_type": "code",
   "execution_count": 3,
   "id": "a7cabced",
   "metadata": {},
   "outputs": [],
   "source": [
    "n = 1000\n",
    "beta = 1.5\n",
    "s = 50 \n",
    "tau = 3/4\n",
    "gamma = 2.5\n",
    "delta = 5\n",
    "xi = .2\n",
    "D = int(np.round(n**0.5))\n",
    "S = int(np.round(n**tau))"
   ]
  },
  {
   "cell_type": "code",
   "execution_count": 4,
   "id": "2b8e646c",
   "metadata": {},
   "outputs": [],
   "source": [
    "abcd_path = os.getcwd() + \"/utils \""
   ]
  },
  {
   "cell_type": "code",
   "execution_count": 4,
   "id": "18cd7ac9",
   "metadata": {},
   "outputs": [
    {
     "name": "stdout",
     "output_type": "stream",
     "text": [
      "julia deg_sampler.jl deg.dat 2.5 5 32 1000 1000\n"
     ]
    },
    {
     "data": {
      "text/plain": [
       "0"
      ]
     },
     "execution_count": 4,
     "metadata": {},
     "output_type": "execute_result"
    }
   ],
   "source": [
    "cmd = 'julia '+'deg_sampler.jl deg.dat '+str(gamma)+' '+str(delta)+' '+str(D)+' '+str(n)+' '+str(n)\n",
    "print(cmd)\n",
    "os.system(cmd)\n",
    "#cmd = 'julia '+abcd_path+'com_sampler.jl cs.dat '+str(beta)+' '+str(s)+' '+str(S)+' '+str(n)+' '+str(n)\n",
    "#os.system(cmd+' >/dev/null 2>&1')\n",
    "#cmd = 'julia '+abcd_path+'graph_sampler.jl net.dat comm.dat deg.dat cs.dat xi '+str(xi)+' false false'\n",
    "#os.system(cmd+' >/dev/null 2>&1')\n",
    "\n",
    "#g = ig.Graph.Read_Ncol('net.dat', directed=False)"
   ]
  }
 ],
 "metadata": {
  "kernelspec": {
   "display_name": "Python 3 (ipykernel)",
   "language": "python",
   "name": "python3"
  },
  "language_info": {
   "codemirror_mode": {
    "name": "ipython",
    "version": 3
   },
   "file_extension": ".py",
   "mimetype": "text/x-python",
   "name": "python",
   "nbconvert_exporter": "python",
   "pygments_lexer": "ipython3",
   "version": "3.7.3"
  }
 },
 "nbformat": 4,
 "nbformat_minor": 5
}
