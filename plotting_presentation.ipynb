{
 "cells": [
  {
   "cell_type": "code",
   "execution_count": 1,
   "metadata": {},
   "outputs": [],
   "source": [
    "import pandas as pd\n",
    "import json\n",
    "from itertools import product\n",
    "\n",
    "from utils.static import *\n",
    "from utils.plots import *\n",
    "plot = Plot()"
   ]
  },
  {
   "cell_type": "code",
   "execution_count": null,
   "metadata": {},
   "outputs": [],
   "source": [
    "def zoom(pos):\n",
    "    x_center = np.mean([pos[node][0] for node in pos])\n",
    "    y_center = np.mean([pos[node][1] for node in pos])\n",
    "    zoom_factor = 0.2\n",
    "    x_min = x_center - zoom_factor - 0.2\n",
    "    x_max = x_center + zoom_factor + 0.15\n",
    "    y_min = y_center - zoom_factor - 0.1\n",
    "    y_max = y_center + zoom_factor + 0.35\n",
    "    plt.xlim(x_min, x_max)\n",
    "    plt.ylim(y_min, y_max)"
   ]
  },
  {
   "cell_type": "code",
   "execution_count": 86,
   "metadata": {},
   "outputs": [],
   "source": [
    "def sparse_toy(sparse, G, pos, size = 3, alpha_background = 0.5):    \n",
    "    plt.figure(figsize=(12, 10))\n",
    "\n",
    "    edges = list(G.edges())\n",
    "\n",
    "    if sparse.name != 'Full':\n",
    "        sG = sparse(G)\n",
    "        sG_edges = list(sG.edges())\n",
    "        edges = list(set(edges) - set(sG_edges))\n",
    "\n",
    "        sG_weights = {(u, v): f'{sG[u][v][\"weight\"]:.2f}' for u, v in sG_edges}\n",
    "        nx.draw_networkx_edges(G, pos, sG_edges, width = size, \n",
    "                            edge_color=S_COLORS[sparse.name])\n",
    "        nx.draw_networkx_edge_labels(G, pos, edge_labels=sG_weights, font_size=12)\n",
    "\n",
    "    weights = {(u, v): f'{G[u][v][\"weight\"]:.2f}' for u, v in edges}\n",
    "    \n",
    "    nx.draw_networkx_edges(G, pos, edges, width = size * 0.5, \n",
    "                            edge_color='black', alpha=alpha_background)\n",
    "    nx.draw_networkx_edge_labels(G, pos, \n",
    "                                    edge_labels=weights, font_color='black', font_size=12)\n",
    "    nx.draw_networkx_nodes(G, pos, node_size=size*25, node_color='black')\n",
    "\n",
    "    zoom(pos)\n",
    "        \n",
    "    out_path = f'plots/_presentation/sparsifiers'\n",
    "    save_file(out_path, f'{sparse.name} final', no_bbox=True)\n",
    "    #plt.show()"
   ]
  },
  {
   "cell_type": "code",
   "execution_count": 116,
   "metadata": {},
   "outputs": [],
   "source": [
    "def local_degree_toy(G, pos, size = 3, alpha_background = 0.25, step = 0):\n",
    "\n",
    "    plt.figure(figsize=(12, 10))\n",
    "\n",
    "    edges = list(G.edges())\n",
    "\n",
    "    alpha = 0.65\n",
    "    sparse = LocalDegree()\n",
    "    \n",
    "    nx.draw_networkx_edges(G, pos, edges, width = size * 0.5, edge_color='black', alpha=alpha_background)\n",
    "    nx.draw_networkx_nodes(G, pos, node_size=size*25, node_color='black', alpha=alpha_background)\n",
    "\n",
    "    target_node = 3\n",
    "\n",
    "    neighbors = list(G.neighbors(target_node))\n",
    "    neighbors_width = np.array([G.degree(n, weight = 'weight') for n in neighbors])\n",
    "    neighbors_width = 1 + neighbors_width / np.max(neighbors_width)\n",
    "    neighbors_edges = [(target_node, neighbor) for neighbor in neighbors]\n",
    "    node_labels = {node: f'\\n\\n{G.degree(node, weight = \"weight\"):.2f}' for node in neighbors}\n",
    "    \n",
    "    neighbors.sort(key=lambda n : G.degree(n, weight = 'weight'), reverse=True)\n",
    "    num_edges_to_keep = int(np.floor(len(neighbors) ** alpha))\n",
    "    selected_edges = [(target_node, neighbor, G[target_node][neighbor]['weight']) for neighbor in neighbors[:num_edges_to_keep]]\n",
    "\n",
    "    nx.draw_networkx_edges(G, pos, neighbors_edges, width = size, edge_color='black')\n",
    "    if step == 1: nx.draw_networkx_edges(G, pos, selected_edges, width = size * 2, edge_color=S_COLORS[sparse.name])\n",
    "    nx.draw_networkx_nodes(G, pos, nodelist=[target_node], node_size=size*25, node_color='black')\n",
    "    nx.draw_networkx_nodes(G, pos, nodelist=neighbors, node_size=size*25*neighbors_width, node_color='black')\n",
    "    nx.draw_networkx_labels(G, pos, labels=node_labels, font_size=12)\n",
    "\n",
    "    zoom(pos)\n",
    "        \n",
    "    out_path = f'plots/_presentation/sparsifiers'\n",
    "    save_file(out_path, f'{sparse.name} {step}', no_bbox=True)\n",
    "    #plt.show()"
   ]
  },
  {
   "cell_type": "code",
   "execution_count": 115,
   "metadata": {},
   "outputs": [],
   "source": [
    "def k_neighbor_toy(G, pos, size = 3, alpha_background = 0.25, step = 0):\n",
    "    \n",
    "    plt.figure(figsize=(12, 10))\n",
    "\n",
    "    edges = list(G.edges())\n",
    "\n",
    "    sparse = kNeighbor()\n",
    "    \n",
    "    nx.draw_networkx_edges(G, pos, edges, width = size * 0.5, edge_color='black', alpha=alpha_background)\n",
    "    nx.draw_networkx_nodes(G, pos, node_size=size*25, node_color='black', alpha=alpha_background)\n",
    "\n",
    "    if step < 2:\n",
    "        target_node = 13\n",
    "\n",
    "        neighbors = list(G.neighbors(target_node))\n",
    "        neighbors_edges = [(target_node, neighbor) for neighbor in neighbors]\n",
    "        \n",
    "        selected_edges = neighbors_edges\n",
    "\n",
    "        nx.draw_networkx_edges(G, pos, neighbors_edges, width = size, edge_color='black')\n",
    "        if step == 1: nx.draw_networkx_edges(G, pos, selected_edges, width = size * 2, edge_color=S_COLORS[sparse.name])\n",
    "        nx.draw_networkx_nodes(G, pos, nodelist=[target_node], node_size=size*25, node_color='black')\n",
    "\n",
    "    else:\n",
    "        target_node = 0\n",
    "\n",
    "        neighbors = list(G.neighbors(target_node))\n",
    "        neighbors_edges = [(target_node, neighbor) for neighbor in neighbors]\n",
    "        \n",
    "        selected_edges = [(0, 3), (0, 7)]\n",
    "\n",
    "        nx.draw_networkx_edges(G, pos, neighbors_edges, width = size, edge_color='black')\n",
    "        if step == 2:\n",
    "            weights = {(0, 2): f'pₑ ∝ wₑ'}\n",
    "        if step == 3:\n",
    "            weights = {(target_node, neighbor): f'{G[target_node][neighbor][\"weight\"]:.2f}' for neighbor in neighbors}\n",
    "        if step == 4: \n",
    "            nx.draw_networkx_edges(G, pos, selected_edges, width = size * 2, edge_color=S_COLORS[sparse.name])\n",
    "            weights = {(target_node, neighbor): f'{G[target_node][neighbor][\"weight\"]:.2f}' for neighbor in neighbors}\n",
    "\n",
    "        nx.draw_networkx_edge_labels(G, pos, \n",
    "                                edge_labels=weights, font_color='black', font_size=12 + 2*(step == 2))\n",
    "        nx.draw_networkx_nodes(G, pos, nodelist=[target_node], node_size=size*25, node_color='black')\n",
    "\n",
    "    zoom(pos)\n",
    "            \n",
    "    out_path = f'plots/_presentation/sparsifiers'\n",
    "    save_file(out_path, f'{sparse.name} {step}', no_bbox=True)\n",
    "    #plt.show()"
   ]
  },
  {
   "cell_type": "code",
   "execution_count": 96,
   "metadata": {},
   "outputs": [],
   "source": [
    "def effective_resistance_toy(G, pos, size = 3, alpha_background = 0.25, step = 0):\n",
    "    \n",
    "    plt.figure(figsize=(12, 10))\n",
    "\n",
    "    edges = list(G.edges())\n",
    "\n",
    "    sparse = EffectiveResistance()\n",
    "    Re = resistance_distance(G)\n",
    "    \n",
    "    nx.draw_networkx_edges(G, pos, edges, width = size, edge_color='black')\n",
    "    nx.draw_networkx_nodes(G, pos, node_size=size*25, node_color='black', alpha=alpha_background)\n",
    "\n",
    "    weights = {e : f'{G[e[0]][e[1]][\"weight\"]*Re[i]:.2f}' for i, e in enumerate(edges)}\n",
    "\n",
    "    nx.draw_networkx_edge_labels(G, pos, edge_labels=weights, font_color='black', font_size=12)\n",
    "\n",
    "    zoom(pos)\n",
    "            \n",
    "    out_path = f'plots/_presentation/sparsifiers'\n",
    "    save_file(out_path, f'{sparse.name} {step}', no_bbox=True)\n",
    "    #plt.show()"
   ]
  },
  {
   "cell_type": "code",
   "execution_count": 109,
   "metadata": {},
   "outputs": [],
   "source": [
    "def random_toy(G, pos, size = 3, alpha_background = 0.25, step = 0):\n",
    "    \n",
    "    plt.figure(figsize=(12, 10))\n",
    "\n",
    "    edges = list(G.edges())\n",
    "\n",
    "    sparse = Random()\n",
    "    \n",
    "    nx.draw_networkx_edges(G, pos, edges, width = size, edge_color='black')\n",
    "    nx.draw_networkx_nodes(G, pos, node_size=size*25, node_color='black', alpha=alpha_background)\n",
    "\n",
    "    weights = {e : f'{G[e[0]][e[1]][\"inverse weight\"]:.2f}' for e in edges}\n",
    "\n",
    "    nx.draw_networkx_edge_labels(G, pos, edge_labels=weights, font_color='black', font_size=12)\n",
    "\n",
    "    zoom(pos)\n",
    "            \n",
    "    out_path = f'plots/_presentation/sparsifiers'\n",
    "    save_file(out_path, f'{sparse.name} {step}', no_bbox=True)\n",
    "    #plt.show()"
   ]
  },
  {
   "cell_type": "code",
   "execution_count": 103,
   "metadata": {},
   "outputs": [],
   "source": [
    "def apsp_toy(G, pos, size = 3, alpha_background = 0.25, step = 0):\n",
    "    \n",
    "    plt.figure(figsize=(12, 10))\n",
    "\n",
    "    edges = list(G.edges())\n",
    "\n",
    "    sparse = APSP()\n",
    "    \n",
    "    nx.draw_networkx_edges(G, pos, edges, width = size * 0.5, edge_color='black', alpha=alpha_background)\n",
    "    nx.draw_networkx_nodes(G, pos, node_size=size*25, node_color='black', alpha=alpha_background)\n",
    "\n",
    "\n",
    "    neighbors_edges = [(2, 3), (2, 5), (3, 5)]\n",
    "\n",
    "    selected_edges = [(2, 3), (3, 5)]\n",
    "\n",
    "    nx.draw_networkx_edges(G, pos, neighbors_edges, width = size, edge_color='black')\n",
    "    if step == 1: nx.draw_networkx_edges(G, pos, selected_edges, width = size * 2, edge_color=S_COLORS[sparse.name])\n",
    "    nx.draw_networkx_edge_labels(G, pos, edge_labels={e: f'{G[e[0]][e[1]][\"weight\"]:.2f}' for e in edges}, font_size=12)\n",
    "\n",
    "    zoom(pos)\n",
    "            \n",
    "    out_path = f'plots/_presentation/sparsifiers'\n",
    "    save_file(out_path, f'{sparse.name} {step}', no_bbox=True)\n",
    "    #plt.show()"
   ]
  },
  {
   "cell_type": "code",
   "execution_count": 28,
   "metadata": {},
   "outputs": [],
   "source": [
    "G = BA(n = 15, m = 30)\n",
    "G = Exponential(seed=1)(G)\n",
    "add_inverse_weight(G)\n",
    "\n",
    "for _, _, d in G.edges(data=True): d['exp weight'] = np.exp(d['weight'])\n",
    "\n",
    "pos = nx.kamada_kawai_layout(G, weight='exp weight')"
   ]
  },
  {
   "cell_type": "code",
   "execution_count": 63,
   "metadata": {},
   "outputs": [
    {
     "data": {
      "image/png": "[encoded data removed]",
      "text/plain": [
       "<Figure size 432x288 with 1 Axes>"
      ]
     },
     "metadata": {},
     "output_type": "display_data"
    }
   ],
   "source": [
    "nx.draw_networkx(G, pos, node_size=100, with_labels=True)\n",
    "plt.show()"
   ]
  },
  {
   "cell_type": "code",
   "execution_count": 117,
   "metadata": {},
   "outputs": [
    {
     "name": "stderr",
     "output_type": "stream",
     "text": [
      "The PostScript backend does not support transparency; partially transparent artists will be rendered opaque.\n",
      "The PostScript backend does not support transparency; partially transparent artists will be rendered opaque.\n",
      "The PostScript backend does not support transparency; partially transparent artists will be rendered opaque.\n",
      "The PostScript backend does not support transparency; partially transparent artists will be rendered opaque.\n",
      "The PostScript backend does not support transparency; partially transparent artists will be rendered opaque.\n",
      "The PostScript backend does not support transparency; partially transparent artists will be rendered opaque.\n",
      "The PostScript backend does not support transparency; partially transparent artists will be rendered opaque.\n",
      "The PostScript backend does not support transparency; partially transparent artists will be rendered opaque.\n",
      "The PostScript backend does not support transparency; partially transparent artists will be rendered opaque.\n",
      "The PostScript backend does not support transparency; partially transparent artists will be rendered opaque.\n",
      "The PostScript backend does not support transparency; partially transparent artists will be rendered opaque.\n",
      "The PostScript backend does not support transparency; partially transparent artists will be rendered opaque.\n",
      "The PostScript backend does not support transparency; partially transparent artists will be rendered opaque.\n",
      "The PostScript backend does not support transparency; partially transparent artists will be rendered opaque.\n",
      "The PostScript backend does not support transparency; partially transparent artists will be rendered opaque.\n",
      "The PostScript backend does not support transparency; partially transparent artists will be rendered opaque.\n",
      "The PostScript backend does not support transparency; partially transparent artists will be rendered opaque.\n",
      "The PostScript backend does not support transparency; partially transparent artists will be rendered opaque.\n",
      "The PostScript backend does not support transparency; partially transparent artists will be rendered opaque.\n",
      "The PostScript backend does not support transparency; partially transparent artists will be rendered opaque.\n",
      "The PostScript backend does not support transparency; partially transparent artists will be rendered opaque.\n",
      "The PostScript backend does not support transparency; partially transparent artists will be rendered opaque.\n",
      "The PostScript backend does not support transparency; partially transparent artists will be rendered opaque.\n",
      "The PostScript backend does not support transparency; partially transparent artists will be rendered opaque.\n",
      "The PostScript backend does not support transparency; partially transparent artists will be rendered opaque.\n",
      "The PostScript backend does not support transparency; partially transparent artists will be rendered opaque.\n",
      "The PostScript backend does not support transparency; partially transparent artists will be rendered opaque.\n",
      "The PostScript backend does not support transparency; partially transparent artists will be rendered opaque.\n",
      "The PostScript backend does not support transparency; partially transparent artists will be rendered opaque.\n",
      "The PostScript backend does not support transparency; partially transparent artists will be rendered opaque.\n",
      "The PostScript backend does not support transparency; partially transparent artists will be rendered opaque.\n",
      "The PostScript backend does not support transparency; partially transparent artists will be rendered opaque.\n",
      "The PostScript backend does not support transparency; partially transparent artists will be rendered opaque.\n",
      "The PostScript backend does not support transparency; partially transparent artists will be rendered opaque.\n",
      "The PostScript backend does not support transparency; partially transparent artists will be rendered opaque.\n",
      "The PostScript backend does not support transparency; partially transparent artists will be rendered opaque.\n",
      "The PostScript backend does not support transparency; partially transparent artists will be rendered opaque.\n",
      "The PostScript backend does not support transparency; partially transparent artists will be rendered opaque.\n",
      "The PostScript backend does not support transparency; partially transparent artists will be rendered opaque.\n",
      "The PostScript backend does not support transparency; partially transparent artists will be rendered opaque.\n",
      "The PostScript backend does not support transparency; partially transparent artists will be rendered opaque.\n",
      "The PostScript backend does not support transparency; partially transparent artists will be rendered opaque.\n",
      "The PostScript backend does not support transparency; partially transparent artists will be rendered opaque.\n",
      "The PostScript backend does not support transparency; partially transparent artists will be rendered opaque.\n",
      "The PostScript backend does not support transparency; partially transparent artists will be rendered opaque.\n",
      "The PostScript backend does not support transparency; partially transparent artists will be rendered opaque.\n",
      "The PostScript backend does not support transparency; partially transparent artists will be rendered opaque.\n",
      "The PostScript backend does not support transparency; partially transparent artists will be rendered opaque.\n",
      "The PostScript backend does not support transparency; partially transparent artists will be rendered opaque.\n",
      "The PostScript backend does not support transparency; partially transparent artists will be rendered opaque.\n",
      "The PostScript backend does not support transparency; partially transparent artists will be rendered opaque.\n",
      "The PostScript backend does not support transparency; partially transparent artists will be rendered opaque.\n",
      "The PostScript backend does not support transparency; partially transparent artists will be rendered opaque.\n",
      "The PostScript backend does not support transparency; partially transparent artists will be rendered opaque.\n",
      "The PostScript backend does not support transparency; partially transparent artists will be rendered opaque.\n",
      "The PostScript backend does not support transparency; partially transparent artists will be rendered opaque.\n",
      "The PostScript backend does not support transparency; partially transparent artists will be rendered opaque.\n",
      "The PostScript backend does not support transparency; partially transparent artists will be rendered opaque.\n"
     ]
    },
    {
     "data": {
      "text/plain": [
       "<Figure size 864x720 with 0 Axes>"
      ]
     },
     "metadata": {},
     "output_type": "display_data"
    },
    {
     "data": {
      "text/plain": [
       "<Figure size 864x720 with 0 Axes>"
      ]
     },
     "metadata": {},
     "output_type": "display_data"
    }
   ],
   "source": [
    "local_degree_toy(G, pos, step = 0)\n",
    "local_degree_toy(G, pos, step = 1)"
   ]
  },
  {
   "cell_type": "code",
   "execution_count": 118,
   "metadata": {},
   "outputs": [
    {
     "name": "stderr",
     "output_type": "stream",
     "text": [
      "The PostScript backend does not support transparency; partially transparent artists will be rendered opaque.\n",
      "The PostScript backend does not support transparency; partially transparent artists will be rendered opaque.\n",
      "The PostScript backend does not support transparency; partially transparent artists will be rendered opaque.\n",
      "The PostScript backend does not support transparency; partially transparent artists will be rendered opaque.\n",
      "The PostScript backend does not support transparency; partially transparent artists will be rendered opaque.\n",
      "The PostScript backend does not support transparency; partially transparent artists will be rendered opaque.\n",
      "The PostScript backend does not support transparency; partially transparent artists will be rendered opaque.\n",
      "The PostScript backend does not support transparency; partially transparent artists will be rendered opaque.\n",
      "The PostScript backend does not support transparency; partially transparent artists will be rendered opaque.\n",
      "The PostScript backend does not support transparency; partially transparent artists will be rendered opaque.\n",
      "The PostScript backend does not support transparency; partially transparent artists will be rendered opaque.\n",
      "The PostScript backend does not support transparency; partially transparent artists will be rendered opaque.\n",
      "The PostScript backend does not support transparency; partially transparent artists will be rendered opaque.\n",
      "The PostScript backend does not support transparency; partially transparent artists will be rendered opaque.\n",
      "The PostScript backend does not support transparency; partially transparent artists will be rendered opaque.\n",
      "The PostScript backend does not support transparency; partially transparent artists will be rendered opaque.\n",
      "The PostScript backend does not support transparency; partially transparent artists will be rendered opaque.\n",
      "The PostScript backend does not support transparency; partially transparent artists will be rendered opaque.\n",
      "The PostScript backend does not support transparency; partially transparent artists will be rendered opaque.\n",
      "The PostScript backend does not support transparency; partially transparent artists will be rendered opaque.\n",
      "The PostScript backend does not support transparency; partially transparent artists will be rendered opaque.\n",
      "The PostScript backend does not support transparency; partially transparent artists will be rendered opaque.\n",
      "The PostScript backend does not support transparency; partially transparent artists will be rendered opaque.\n",
      "The PostScript backend does not support transparency; partially transparent artists will be rendered opaque.\n",
      "The PostScript backend does not support transparency; partially transparent artists will be rendered opaque.\n",
      "The PostScript backend does not support transparency; partially transparent artists will be rendered opaque.\n",
      "The PostScript backend does not support transparency; partially transparent artists will be rendered opaque.\n",
      "The PostScript backend does not support transparency; partially transparent artists will be rendered opaque.\n",
      "The PostScript backend does not support transparency; partially transparent artists will be rendered opaque.\n",
      "The PostScript backend does not support transparency; partially transparent artists will be rendered opaque.\n",
      "The PostScript backend does not support transparency; partially transparent artists will be rendered opaque.\n",
      "The PostScript backend does not support transparency; partially transparent artists will be rendered opaque.\n",
      "The PostScript backend does not support transparency; partially transparent artists will be rendered opaque.\n",
      "The PostScript backend does not support transparency; partially transparent artists will be rendered opaque.\n",
      "The PostScript backend does not support transparency; partially transparent artists will be rendered opaque.\n",
      "The PostScript backend does not support transparency; partially transparent artists will be rendered opaque.\n",
      "The PostScript backend does not support transparency; partially transparent artists will be rendered opaque.\n",
      "The PostScript backend does not support transparency; partially transparent artists will be rendered opaque.\n",
      "The PostScript backend does not support transparency; partially transparent artists will be rendered opaque.\n",
      "The PostScript backend does not support transparency; partially transparent artists will be rendered opaque.\n",
      "The PostScript backend does not support transparency; partially transparent artists will be rendered opaque.\n",
      "The PostScript backend does not support transparency; partially transparent artists will be rendered opaque.\n",
      "The PostScript backend does not support transparency; partially transparent artists will be rendered opaque.\n",
      "The PostScript backend does not support transparency; partially transparent artists will be rendered opaque.\n",
      "The PostScript backend does not support transparency; partially transparent artists will be rendered opaque.\n",
      "The PostScript backend does not support transparency; partially transparent artists will be rendered opaque.\n",
      "The PostScript backend does not support transparency; partially transparent artists will be rendered opaque.\n",
      "The PostScript backend does not support transparency; partially transparent artists will be rendered opaque.\n",
      "The PostScript backend does not support transparency; partially transparent artists will be rendered opaque.\n",
      "The PostScript backend does not support transparency; partially transparent artists will be rendered opaque.\n",
      "The PostScript backend does not support transparency; partially transparent artists will be rendered opaque.\n",
      "The PostScript backend does not support transparency; partially transparent artists will be rendered opaque.\n",
      "The PostScript backend does not support transparency; partially transparent artists will be rendered opaque.\n",
      "The PostScript backend does not support transparency; partially transparent artists will be rendered opaque.\n",
      "The PostScript backend does not support transparency; partially transparent artists will be rendered opaque.\n",
      "The PostScript backend does not support transparency; partially transparent artists will be rendered opaque.\n",
      "The PostScript backend does not support transparency; partially transparent artists will be rendered opaque.\n",
      "The PostScript backend does not support transparency; partially transparent artists will be rendered opaque.\n",
      "The PostScript backend does not support transparency; partially transparent artists will be rendered opaque.\n",
      "The PostScript backend does not support transparency; partially transparent artists will be rendered opaque.\n",
      "The PostScript backend does not support transparency; partially transparent artists will be rendered opaque.\n",
      "The PostScript backend does not support transparency; partially transparent artists will be rendered opaque.\n",
      "The PostScript backend does not support transparency; partially transparent artists will be rendered opaque.\n",
      "The PostScript backend does not support transparency; partially transparent artists will be rendered opaque.\n",
      "The PostScript backend does not support transparency; partially transparent artists will be rendered opaque.\n",
      "The PostScript backend does not support transparency; partially transparent artists will be rendered opaque.\n",
      "The PostScript backend does not support transparency; partially transparent artists will be rendered opaque.\n",
      "The PostScript backend does not support transparency; partially transparent artists will be rendered opaque.\n",
      "The PostScript backend does not support transparency; partially transparent artists will be rendered opaque.\n",
      "The PostScript backend does not support transparency; partially transparent artists will be rendered opaque.\n",
      "The PostScript backend does not support transparency; partially transparent artists will be rendered opaque.\n",
      "The PostScript backend does not support transparency; partially transparent artists will be rendered opaque.\n",
      "The PostScript backend does not support transparency; partially transparent artists will be rendered opaque.\n",
      "The PostScript backend does not support transparency; partially transparent artists will be rendered opaque.\n",
      "The PostScript backend does not support transparency; partially transparent artists will be rendered opaque.\n",
      "The PostScript backend does not support transparency; partially transparent artists will be rendered opaque.\n",
      "The PostScript backend does not support transparency; partially transparent artists will be rendered opaque.\n",
      "The PostScript backend does not support transparency; partially transparent artists will be rendered opaque.\n",
      "The PostScript backend does not support transparency; partially transparent artists will be rendered opaque.\n",
      "The PostScript backend does not support transparency; partially transparent artists will be rendered opaque.\n",
      "The PostScript backend does not support transparency; partially transparent artists will be rendered opaque.\n",
      "The PostScript backend does not support transparency; partially transparent artists will be rendered opaque.\n",
      "The PostScript backend does not support transparency; partially transparent artists will be rendered opaque.\n",
      "The PostScript backend does not support transparency; partially transparent artists will be rendered opaque.\n",
      "The PostScript backend does not support transparency; partially transparent artists will be rendered opaque.\n",
      "The PostScript backend does not support transparency; partially transparent artists will be rendered opaque.\n",
      "The PostScript backend does not support transparency; partially transparent artists will be rendered opaque.\n",
      "The PostScript backend does not support transparency; partially transparent artists will be rendered opaque.\n",
      "The PostScript backend does not support transparency; partially transparent artists will be rendered opaque.\n",
      "The PostScript backend does not support transparency; partially transparent artists will be rendered opaque.\n",
      "The PostScript backend does not support transparency; partially transparent artists will be rendered opaque.\n",
      "The PostScript backend does not support transparency; partially transparent artists will be rendered opaque.\n",
      "The PostScript backend does not support transparency; partially transparent artists will be rendered opaque.\n",
      "The PostScript backend does not support transparency; partially transparent artists will be rendered opaque.\n",
      "The PostScript backend does not support transparency; partially transparent artists will be rendered opaque.\n",
      "The PostScript backend does not support transparency; partially transparent artists will be rendered opaque.\n",
      "The PostScript backend does not support transparency; partially transparent artists will be rendered opaque.\n",
      "The PostScript backend does not support transparency; partially transparent artists will be rendered opaque.\n",
      "The PostScript backend does not support transparency; partially transparent artists will be rendered opaque.\n",
      "The PostScript backend does not support transparency; partially transparent artists will be rendered opaque.\n",
      "The PostScript backend does not support transparency; partially transparent artists will be rendered opaque.\n",
      "The PostScript backend does not support transparency; partially transparent artists will be rendered opaque.\n",
      "The PostScript backend does not support transparency; partially transparent artists will be rendered opaque.\n",
      "The PostScript backend does not support transparency; partially transparent artists will be rendered opaque.\n",
      "The PostScript backend does not support transparency; partially transparent artists will be rendered opaque.\n",
      "The PostScript backend does not support transparency; partially transparent artists will be rendered opaque.\n",
      "The PostScript backend does not support transparency; partially transparent artists will be rendered opaque.\n",
      "The PostScript backend does not support transparency; partially transparent artists will be rendered opaque.\n",
      "The PostScript backend does not support transparency; partially transparent artists will be rendered opaque.\n",
      "The PostScript backend does not support transparency; partially transparent artists will be rendered opaque.\n",
      "The PostScript backend does not support transparency; partially transparent artists will be rendered opaque.\n",
      "The PostScript backend does not support transparency; partially transparent artists will be rendered opaque.\n",
      "The PostScript backend does not support transparency; partially transparent artists will be rendered opaque.\n",
      "The PostScript backend does not support transparency; partially transparent artists will be rendered opaque.\n",
      "The PostScript backend does not support transparency; partially transparent artists will be rendered opaque.\n",
      "The PostScript backend does not support transparency; partially transparent artists will be rendered opaque.\n",
      "The PostScript backend does not support transparency; partially transparent artists will be rendered opaque.\n",
      "The PostScript backend does not support transparency; partially transparent artists will be rendered opaque.\n",
      "The PostScript backend does not support transparency; partially transparent artists will be rendered opaque.\n",
      "The PostScript backend does not support transparency; partially transparent artists will be rendered opaque.\n",
      "The PostScript backend does not support transparency; partially transparent artists will be rendered opaque.\n",
      "The PostScript backend does not support transparency; partially transparent artists will be rendered opaque.\n",
      "The PostScript backend does not support transparency; partially transparent artists will be rendered opaque.\n",
      "The PostScript backend does not support transparency; partially transparent artists will be rendered opaque.\n",
      "The PostScript backend does not support transparency; partially transparent artists will be rendered opaque.\n",
      "The PostScript backend does not support transparency; partially transparent artists will be rendered opaque.\n",
      "The PostScript backend does not support transparency; partially transparent artists will be rendered opaque.\n",
      "The PostScript backend does not support transparency; partially transparent artists will be rendered opaque.\n",
      "The PostScript backend does not support transparency; partially transparent artists will be rendered opaque.\n",
      "The PostScript backend does not support transparency; partially transparent artists will be rendered opaque.\n",
      "The PostScript backend does not support transparency; partially transparent artists will be rendered opaque.\n",
      "The PostScript backend does not support transparency; partially transparent artists will be rendered opaque.\n",
      "The PostScript backend does not support transparency; partially transparent artists will be rendered opaque.\n",
      "The PostScript backend does not support transparency; partially transparent artists will be rendered opaque.\n",
      "The PostScript backend does not support transparency; partially transparent artists will be rendered opaque.\n",
      "The PostScript backend does not support transparency; partially transparent artists will be rendered opaque.\n",
      "The PostScript backend does not support transparency; partially transparent artists will be rendered opaque.\n",
      "The PostScript backend does not support transparency; partially transparent artists will be rendered opaque.\n",
      "The PostScript backend does not support transparency; partially transparent artists will be rendered opaque.\n",
      "The PostScript backend does not support transparency; partially transparent artists will be rendered opaque.\n",
      "The PostScript backend does not support transparency; partially transparent artists will be rendered opaque.\n",
      "The PostScript backend does not support transparency; partially transparent artists will be rendered opaque.\n",
      "The PostScript backend does not support transparency; partially transparent artists will be rendered opaque.\n",
      "The PostScript backend does not support transparency; partially transparent artists will be rendered opaque.\n",
      "The PostScript backend does not support transparency; partially transparent artists will be rendered opaque.\n"
     ]
    },
    {
     "data": {
      "text/plain": [
       "<Figure size 864x720 with 0 Axes>"
      ]
     },
     "metadata": {},
     "output_type": "display_data"
    },
    {
     "data": {
      "text/plain": [
       "<Figure size 864x720 with 0 Axes>"
      ]
     },
     "metadata": {},
     "output_type": "display_data"
    },
    {
     "data": {
      "text/plain": [
       "<Figure size 864x720 with 0 Axes>"
      ]
     },
     "metadata": {},
     "output_type": "display_data"
    },
    {
     "data": {
      "text/plain": [
       "<Figure size 864x720 with 0 Axes>"
      ]
     },
     "metadata": {},
     "output_type": "display_data"
    },
    {
     "data": {
      "text/plain": [
       "<Figure size 864x720 with 0 Axes>"
      ]
     },
     "metadata": {},
     "output_type": "display_data"
    }
   ],
   "source": [
    "for i in range(5):\n",
    "    k_neighbor_toy(G, pos, step = i)"
   ]
  },
  {
   "cell_type": "code",
   "execution_count": 98,
   "metadata": {},
   "outputs": [
    {
     "name": "stderr",
     "output_type": "stream",
     "text": [
      "The PostScript backend does not support transparency; partially transparent artists will be rendered opaque.\n",
      "The PostScript backend does not support transparency; partially transparent artists will be rendered opaque.\n",
      "The PostScript backend does not support transparency; partially transparent artists will be rendered opaque.\n",
      "The PostScript backend does not support transparency; partially transparent artists will be rendered opaque.\n",
      "The PostScript backend does not support transparency; partially transparent artists will be rendered opaque.\n",
      "The PostScript backend does not support transparency; partially transparent artists will be rendered opaque.\n"
     ]
    },
    {
     "data": {
      "text/plain": [
       "<Figure size 864x720 with 0 Axes>"
      ]
     },
     "metadata": {},
     "output_type": "display_data"
    },
    {
     "data": {
      "text/plain": [
       "<Figure size 864x720 with 0 Axes>"
      ]
     },
     "metadata": {},
     "output_type": "display_data"
    }
   ],
   "source": [
    "effective_resistance_toy(G, pos, step = 0)\n",
    "effective_resistance_toy(G, pos, step = 1)"
   ]
  },
  {
   "cell_type": "code",
   "execution_count": 110,
   "metadata": {},
   "outputs": [
    {
     "name": "stderr",
     "output_type": "stream",
     "text": [
      "The PostScript backend does not support transparency; partially transparent artists will be rendered opaque.\n",
      "The PostScript backend does not support transparency; partially transparent artists will be rendered opaque.\n",
      "The PostScript backend does not support transparency; partially transparent artists will be rendered opaque.\n"
     ]
    },
    {
     "data": {
      "text/plain": [
       "<Figure size 864x720 with 0 Axes>"
      ]
     },
     "metadata": {},
     "output_type": "display_data"
    }
   ],
   "source": [
    "random_toy(G, pos, step = 0)"
   ]
  },
  {
   "cell_type": "code",
   "execution_count": 104,
   "metadata": {},
   "outputs": [
    {
     "name": "stderr",
     "output_type": "stream",
     "text": [
      "The PostScript backend does not support transparency; partially transparent artists will be rendered opaque.\n",
      "The PostScript backend does not support transparency; partially transparent artists will be rendered opaque.\n",
      "The PostScript backend does not support transparency; partially transparent artists will be rendered opaque.\n",
      "The PostScript backend does not support transparency; partially transparent artists will be rendered opaque.\n",
      "The PostScript backend does not support transparency; partially transparent artists will be rendered opaque.\n",
      "The PostScript backend does not support transparency; partially transparent artists will be rendered opaque.\n",
      "The PostScript backend does not support transparency; partially transparent artists will be rendered opaque.\n",
      "The PostScript backend does not support transparency; partially transparent artists will be rendered opaque.\n",
      "The PostScript backend does not support transparency; partially transparent artists will be rendered opaque.\n",
      "The PostScript backend does not support transparency; partially transparent artists will be rendered opaque.\n",
      "The PostScript backend does not support transparency; partially transparent artists will be rendered opaque.\n",
      "The PostScript backend does not support transparency; partially transparent artists will be rendered opaque.\n",
      "The PostScript backend does not support transparency; partially transparent artists will be rendered opaque.\n",
      "The PostScript backend does not support transparency; partially transparent artists will be rendered opaque.\n",
      "The PostScript backend does not support transparency; partially transparent artists will be rendered opaque.\n",
      "The PostScript backend does not support transparency; partially transparent artists will be rendered opaque.\n",
      "The PostScript backend does not support transparency; partially transparent artists will be rendered opaque.\n",
      "The PostScript backend does not support transparency; partially transparent artists will be rendered opaque.\n",
      "The PostScript backend does not support transparency; partially transparent artists will be rendered opaque.\n",
      "The PostScript backend does not support transparency; partially transparent artists will be rendered opaque.\n",
      "The PostScript backend does not support transparency; partially transparent artists will be rendered opaque.\n",
      "The PostScript backend does not support transparency; partially transparent artists will be rendered opaque.\n",
      "The PostScript backend does not support transparency; partially transparent artists will be rendered opaque.\n",
      "The PostScript backend does not support transparency; partially transparent artists will be rendered opaque.\n",
      "The PostScript backend does not support transparency; partially transparent artists will be rendered opaque.\n",
      "The PostScript backend does not support transparency; partially transparent artists will be rendered opaque.\n",
      "The PostScript backend does not support transparency; partially transparent artists will be rendered opaque.\n",
      "The PostScript backend does not support transparency; partially transparent artists will be rendered opaque.\n",
      "The PostScript backend does not support transparency; partially transparent artists will be rendered opaque.\n",
      "The PostScript backend does not support transparency; partially transparent artists will be rendered opaque.\n",
      "The PostScript backend does not support transparency; partially transparent artists will be rendered opaque.\n",
      "The PostScript backend does not support transparency; partially transparent artists will be rendered opaque.\n",
      "The PostScript backend does not support transparency; partially transparent artists will be rendered opaque.\n",
      "The PostScript backend does not support transparency; partially transparent artists will be rendered opaque.\n",
      "The PostScript backend does not support transparency; partially transparent artists will be rendered opaque.\n",
      "The PostScript backend does not support transparency; partially transparent artists will be rendered opaque.\n",
      "The PostScript backend does not support transparency; partially transparent artists will be rendered opaque.\n",
      "The PostScript backend does not support transparency; partially transparent artists will be rendered opaque.\n",
      "The PostScript backend does not support transparency; partially transparent artists will be rendered opaque.\n",
      "The PostScript backend does not support transparency; partially transparent artists will be rendered opaque.\n",
      "The PostScript backend does not support transparency; partially transparent artists will be rendered opaque.\n",
      "The PostScript backend does not support transparency; partially transparent artists will be rendered opaque.\n",
      "The PostScript backend does not support transparency; partially transparent artists will be rendered opaque.\n",
      "The PostScript backend does not support transparency; partially transparent artists will be rendered opaque.\n",
      "The PostScript backend does not support transparency; partially transparent artists will be rendered opaque.\n",
      "The PostScript backend does not support transparency; partially transparent artists will be rendered opaque.\n",
      "The PostScript backend does not support transparency; partially transparent artists will be rendered opaque.\n",
      "The PostScript backend does not support transparency; partially transparent artists will be rendered opaque.\n",
      "The PostScript backend does not support transparency; partially transparent artists will be rendered opaque.\n",
      "The PostScript backend does not support transparency; partially transparent artists will be rendered opaque.\n",
      "The PostScript backend does not support transparency; partially transparent artists will be rendered opaque.\n",
      "The PostScript backend does not support transparency; partially transparent artists will be rendered opaque.\n",
      "The PostScript backend does not support transparency; partially transparent artists will be rendered opaque.\n",
      "The PostScript backend does not support transparency; partially transparent artists will be rendered opaque.\n",
      "The PostScript backend does not support transparency; partially transparent artists will be rendered opaque.\n",
      "The PostScript backend does not support transparency; partially transparent artists will be rendered opaque.\n",
      "The PostScript backend does not support transparency; partially transparent artists will be rendered opaque.\n",
      "The PostScript backend does not support transparency; partially transparent artists will be rendered opaque.\n"
     ]
    },
    {
     "data": {
      "text/plain": [
       "<Figure size 864x720 with 0 Axes>"
      ]
     },
     "metadata": {},
     "output_type": "display_data"
    },
    {
     "data": {
      "text/plain": [
       "<Figure size 864x720 with 0 Axes>"
      ]
     },
     "metadata": {},
     "output_type": "display_data"
    }
   ],
   "source": [
    "apsp_toy(G, pos, step = 0)\n",
    "apsp_toy(G, pos, step = 1)"
   ]
  },
  {
   "cell_type": "code",
   "execution_count": 87,
   "metadata": {},
   "outputs": [
    {
     "name": "stderr",
     "output_type": "stream",
     "text": [
      "The PostScript backend does not support transparency; partially transparent artists will be rendered opaque.\n",
      "The PostScript backend does not support transparency; partially transparent artists will be rendered opaque.\n",
      "The PostScript backend does not support transparency; partially transparent artists will be rendered opaque.\n",
      "The PostScript backend does not support transparency; partially transparent artists will be rendered opaque.\n",
      "The PostScript backend does not support transparency; partially transparent artists will be rendered opaque.\n",
      "The PostScript backend does not support transparency; partially transparent artists will be rendered opaque.\n",
      "The PostScript backend does not support transparency; partially transparent artists will be rendered opaque.\n",
      "The PostScript backend does not support transparency; partially transparent artists will be rendered opaque.\n",
      "The PostScript backend does not support transparency; partially transparent artists will be rendered opaque.\n",
      "The PostScript backend does not support transparency; partially transparent artists will be rendered opaque.\n",
      "The PostScript backend does not support transparency; partially transparent artists will be rendered opaque.\n",
      "The PostScript backend does not support transparency; partially transparent artists will be rendered opaque.\n",
      "The PostScript backend does not support transparency; partially transparent artists will be rendered opaque.\n",
      "The PostScript backend does not support transparency; partially transparent artists will be rendered opaque.\n",
      "The PostScript backend does not support transparency; partially transparent artists will be rendered opaque.\n",
      "The PostScript backend does not support transparency; partially transparent artists will be rendered opaque.\n",
      "The PostScript backend does not support transparency; partially transparent artists will be rendered opaque.\n",
      "The PostScript backend does not support transparency; partially transparent artists will be rendered opaque.\n",
      "The PostScript backend does not support transparency; partially transparent artists will be rendered opaque.\n",
      "The PostScript backend does not support transparency; partially transparent artists will be rendered opaque.\n",
      "The PostScript backend does not support transparency; partially transparent artists will be rendered opaque.\n",
      "The PostScript backend does not support transparency; partially transparent artists will be rendered opaque.\n",
      "The PostScript backend does not support transparency; partially transparent artists will be rendered opaque.\n",
      "The PostScript backend does not support transparency; partially transparent artists will be rendered opaque.\n",
      "The PostScript backend does not support transparency; partially transparent artists will be rendered opaque.\n",
      "The PostScript backend does not support transparency; partially transparent artists will be rendered opaque.\n",
      "The PostScript backend does not support transparency; partially transparent artists will be rendered opaque.\n",
      "The PostScript backend does not support transparency; partially transparent artists will be rendered opaque.\n",
      "The PostScript backend does not support transparency; partially transparent artists will be rendered opaque.\n",
      "The PostScript backend does not support transparency; partially transparent artists will be rendered opaque.\n",
      "The PostScript backend does not support transparency; partially transparent artists will be rendered opaque.\n",
      "The PostScript backend does not support transparency; partially transparent artists will be rendered opaque.\n",
      "The PostScript backend does not support transparency; partially transparent artists will be rendered opaque.\n",
      "The PostScript backend does not support transparency; partially transparent artists will be rendered opaque.\n",
      "The PostScript backend does not support transparency; partially transparent artists will be rendered opaque.\n",
      "The PostScript backend does not support transparency; partially transparent artists will be rendered opaque.\n",
      "The PostScript backend does not support transparency; partially transparent artists will be rendered opaque.\n",
      "The PostScript backend does not support transparency; partially transparent artists will be rendered opaque.\n",
      "The PostScript backend does not support transparency; partially transparent artists will be rendered opaque.\n",
      "The PostScript backend does not support transparency; partially transparent artists will be rendered opaque.\n",
      "The PostScript backend does not support transparency; partially transparent artists will be rendered opaque.\n",
      "The PostScript backend does not support transparency; partially transparent artists will be rendered opaque.\n",
      "The PostScript backend does not support transparency; partially transparent artists will be rendered opaque.\n",
      "The PostScript backend does not support transparency; partially transparent artists will be rendered opaque.\n",
      "The PostScript backend does not support transparency; partially transparent artists will be rendered opaque.\n",
      "The PostScript backend does not support transparency; partially transparent artists will be rendered opaque.\n",
      "The PostScript backend does not support transparency; partially transparent artists will be rendered opaque.\n",
      "The PostScript backend does not support transparency; partially transparent artists will be rendered opaque.\n",
      "The PostScript backend does not support transparency; partially transparent artists will be rendered opaque.\n",
      "The PostScript backend does not support transparency; partially transparent artists will be rendered opaque.\n",
      "The PostScript backend does not support transparency; partially transparent artists will be rendered opaque.\n",
      "The PostScript backend does not support transparency; partially transparent artists will be rendered opaque.\n",
      "The PostScript backend does not support transparency; partially transparent artists will be rendered opaque.\n",
      "The PostScript backend does not support transparency; partially transparent artists will be rendered opaque.\n",
      "The PostScript backend does not support transparency; partially transparent artists will be rendered opaque.\n",
      "The PostScript backend does not support transparency; partially transparent artists will be rendered opaque.\n",
      "The PostScript backend does not support transparency; partially transparent artists will be rendered opaque.\n",
      "The PostScript backend does not support transparency; partially transparent artists will be rendered opaque.\n",
      "The PostScript backend does not support transparency; partially transparent artists will be rendered opaque.\n",
      "The PostScript backend does not support transparency; partially transparent artists will be rendered opaque.\n",
      "The PostScript backend does not support transparency; partially transparent artists will be rendered opaque.\n",
      "The PostScript backend does not support transparency; partially transparent artists will be rendered opaque.\n",
      "The PostScript backend does not support transparency; partially transparent artists will be rendered opaque.\n",
      "The PostScript backend does not support transparency; partially transparent artists will be rendered opaque.\n",
      "The PostScript backend does not support transparency; partially transparent artists will be rendered opaque.\n",
      "The PostScript backend does not support transparency; partially transparent artists will be rendered opaque.\n",
      "The PostScript backend does not support transparency; partially transparent artists will be rendered opaque.\n",
      "The PostScript backend does not support transparency; partially transparent artists will be rendered opaque.\n",
      "The PostScript backend does not support transparency; partially transparent artists will be rendered opaque.\n",
      "The PostScript backend does not support transparency; partially transparent artists will be rendered opaque.\n",
      "The PostScript backend does not support transparency; partially transparent artists will be rendered opaque.\n",
      "The PostScript backend does not support transparency; partially transparent artists will be rendered opaque.\n",
      "The PostScript backend does not support transparency; partially transparent artists will be rendered opaque.\n",
      "The PostScript backend does not support transparency; partially transparent artists will be rendered opaque.\n",
      "The PostScript backend does not support transparency; partially transparent artists will be rendered opaque.\n",
      "The PostScript backend does not support transparency; partially transparent artists will be rendered opaque.\n",
      "The PostScript backend does not support transparency; partially transparent artists will be rendered opaque.\n",
      "The PostScript backend does not support transparency; partially transparent artists will be rendered opaque.\n",
      "The PostScript backend does not support transparency; partially transparent artists will be rendered opaque.\n",
      "The PostScript backend does not support transparency; partially transparent artists will be rendered opaque.\n",
      "The PostScript backend does not support transparency; partially transparent artists will be rendered opaque.\n"
     ]
    },
    {
     "data": {
      "text/plain": [
       "<Figure size 864x720 with 0 Axes>"
      ]
     },
     "metadata": {},
     "output_type": "display_data"
    },
    {
     "data": {
      "text/plain": [
       "<Figure size 864x720 with 0 Axes>"
      ]
     },
     "metadata": {},
     "output_type": "display_data"
    },
    {
     "data": {
      "text/plain": [
       "<Figure size 864x720 with 0 Axes>"
      ]
     },
     "metadata": {},
     "output_type": "display_data"
    },
    {
     "data": {
      "text/plain": [
       "<Figure size 864x720 with 0 Axes>"
      ]
     },
     "metadata": {},
     "output_type": "display_data"
    },
    {
     "data": {
      "text/plain": [
       "<Figure size 864x720 with 0 Axes>"
      ]
     },
     "metadata": {},
     "output_type": "display_data"
    },
    {
     "data": {
      "text/plain": [
       "<Figure size 864x720 with 0 Axes>"
      ]
     },
     "metadata": {},
     "output_type": "display_data"
    },
    {
     "data": {
      "text/plain": [
       "<Figure size 864x720 with 0 Axes>"
      ]
     },
     "metadata": {},
     "output_type": "display_data"
    }
   ],
   "source": [
    "for sparse in SPARSIFIERS:\n",
    "    sparse_toy(sparse, G, pos)"
   ]
  },
  {
   "cell_type": "code",
   "execution_count": 1,
   "metadata": {},
   "outputs": [],
   "source": [
    "import pandas as pd\n",
    "import json\n",
    "from itertools import product\n",
    "\n",
    "from utils.static import *\n",
    "from utils.plots import *\n",
    "plot = Plot()"
   ]
  },
  {
   "cell_type": "code",
   "execution_count": 2,
   "metadata": {},
   "outputs": [],
   "source": [
    "def perturbation_toy():\n",
    "\tG = nx.gnm_random_graph(6, 8, seed=1)\n",
    "\tw = Exponential(seed=1)\n",
    "\tG = w(G)\n",
    "\n",
    "\n",
    "\tedges = {}\n",
    "\tG1 = G.copy()\n",
    "\ta, b = EdgeRemoval()(G1, w.w())\n",
    "\tedges[1] = {'rem' : [(a, b)]}\n",
    "\tG2 = G.copy()\n",
    "\ta, b = EdgeAddition()(G2, w.w())\n",
    "\tedges[2] = {'add' : [(a, b)]}\n",
    "\tG3 = G.copy()\n",
    "\ta, b, c, d = RandomEdgeSwitching()(G3, w.w())\n",
    "\tedges[3] = {'rem': [(a, b)], 'add': [(c, d)]}\n",
    "\tG4 = G.copy()\n",
    "\ta, b, c, d = DegreePreservingEdgeSwitching()(G4, w.w())\n",
    "\tprint((a, c) in G.edges() or (b, d) in G.edges())\n",
    "\tedges[4] = {'rem': [(a, b), (c, d)], 'add': [(a, c), (b, d)]}\n",
    "\n",
    "\tG_max = G.copy()\n",
    "\tG_max.add_edges_from([e for i in [2, 3, 4] for e in edges[i]['add']])\n",
    "\n",
    "\tpos = nx.spring_layout(G_max)\n",
    "\n",
    "\tnx.draw_networkx(G_max, pos, node_size=50)\n",
    "\tplt.show()\n",
    "\tplt.clf()\n",
    "\n",
    "\tnode_size = 50\n",
    "\tedge_width = 2\n",
    "\tchanging_edge_width = 4\n",
    "\n",
    "\tnx.draw_networkx_edges(G, pos, width = edge_width, edge_color='black')\n",
    "\tnx.draw_networkx_nodes(G, pos, node_size=node_size)\n",
    "\tsave_file('plots/_presentation/perturbation_toy', 'original', no_bbox=True)\n",
    "\tplt.clf()\n",
    "\n",
    "\tnx.draw_networkx_edges(G, pos, width = edge_width, edge_color='black')\n",
    "\tnx.draw_networkx_edges(G, pos, edges[1]['rem'], width = changing_edge_width, edge_color='red')\n",
    "\tnx.draw_networkx_nodes(G, pos, node_size=node_size)\n",
    "\tsave_file('plots/_presentation/perturbation_toy', 'removal 1', no_bbox=True)\n",
    "\tplt.clf()\n",
    "\n",
    "\tnx.draw_networkx_edges(G1, pos, width = edge_width, edge_color='black')\n",
    "\tnx.draw_networkx_nodes(G1, pos, node_size=node_size)\n",
    "\tsave_file('plots/_presentation/perturbation_toy', 'removal 2', no_bbox=True)\n",
    "\tplt.clf()\n",
    "\n",
    "\tnx.draw_networkx_edges(G, pos, width = edge_width, edge_color='black')\n",
    "\tnx.draw_networkx_edges(G, pos, edges[2]['add'], width = changing_edge_width, edge_color='green')\n",
    "\tnx.draw_networkx_nodes(G, pos, node_size=node_size)\n",
    "\tsave_file('plots/_presentation/perturbation_toy', 'addition 1', no_bbox=True)\n",
    "\tplt.clf()\n",
    "\n",
    "\tnx.draw_networkx_edges(G2, pos, width = edge_width, edge_color='black')\n",
    "\tnx.draw_networkx_nodes(G2, pos, node_size=node_size)\n",
    "\tsave_file('plots/_presentation/perturbation_toy', 'addition 2', no_bbox=True)\n",
    "\tplt.clf()\n",
    "\n",
    "\tnx.draw_networkx_edges(G, pos, width = edge_width, edge_color='black')\n",
    "\tnx.draw_networkx_edges(G, pos, edges[3]['rem'], width = changing_edge_width, edge_color='red')\n",
    "\tnx.draw_networkx_nodes(G, pos, node_size=node_size)\n",
    "\tsave_file('plots/_presentation/perturbation_toy', 'switching 1', no_bbox=True)\n",
    "\tplt.clf()\n",
    "\n",
    "\tnx.draw_networkx_edges(G, pos, width = edge_width, edge_color='black')\n",
    "\tnx.draw_networkx_edges(G, pos, edges[3]['rem'], width = changing_edge_width, edge_color='red')\n",
    "\tnx.draw_networkx_edges(G, pos, edges[3]['add'], width = changing_edge_width, edge_color='green')\n",
    "\tnx.draw_networkx_nodes(G, pos, node_size=node_size)\n",
    "\tsave_file('plots/_presentation/perturbation_toy', 'switching 2', no_bbox=True)\n",
    "\tplt.clf()\n",
    "\n",
    "\tnx.draw_networkx_edges(G3, pos, width = edge_width, edge_color='black')\n",
    "\tnx.draw_networkx_nodes(G3, pos, node_size=node_size)\n",
    "\tsave_file('plots/_presentation/perturbation_toy', 'switching 3', no_bbox=True)\n",
    "\tplt.clf()\n",
    "\n",
    "\tnx.draw_networkx_edges(G, pos, width = edge_width, edge_color='black')\n",
    "\tnx.draw_networkx_edges(G, pos, edges[4]['rem'], width = changing_edge_width, edge_color='red')\n",
    "\tnx.draw_networkx_nodes(G, pos, node_size=node_size)\n",
    "\tsave_file('plots/_presentation/perturbation_toy', 'deg switching 1', no_bbox=True)\n",
    "\tplt.clf()\n",
    "\n",
    "\tnx.draw_networkx_edges(G, pos, width = edge_width, edge_color='black')\n",
    "\tnx.draw_networkx_edges(G, pos, edges[4]['rem'], width = changing_edge_width, edge_color='red')\n",
    "\tnx.draw_networkx_edges(G, pos, edges[4]['add'], width = changing_edge_width, edge_color='green')\n",
    "\tnx.draw_networkx_nodes(G, pos, node_size=node_size)\n",
    "\tsave_file('plots/_presentation/perturbation_toy', 'deg switching 2', no_bbox=True)\n",
    "\tplt.clf()\n",
    "\n",
    "\tnx.draw_networkx_edges(G4, pos, width = edge_width, edge_color='black')\n",
    "\tnx.draw_networkx_nodes(G4, pos, node_size=node_size)\n",
    "\tsave_file('plots/_presentation/perturbation_toy', 'deg switching 3', no_bbox=True)\n",
    "\tplt.clf()"
   ]
  },
  {
   "cell_type": "code",
   "execution_count": 5,
   "metadata": {},
   "outputs": [
    {
     "name": "stdout",
     "output_type": "stream",
     "text": [
      "False\n"
     ]
    },
    {
     "data": {
      "image/png": "[encoded data removed]",
      "text/plain": [
       "<Figure size 432x288 with 1 Axes>"
      ]
     },
     "metadata": {},
     "output_type": "display_data"
    },
    {
     "data": {
      "text/plain": [
       "<Figure size 432x288 with 0 Axes>"
      ]
     },
     "metadata": {},
     "output_type": "display_data"
    }
   ],
   "source": [
    "perturbation_toy()"
   ]
  },
  {
   "cell_type": "code",
   "execution_count": 9,
   "metadata": {},
   "outputs": [],
   "source": [
    "\n",
    "nec_sp = list(set([1, 2, 3]) & set([2, 5]))"
   ]
  },
  {
   "cell_type": "code",
   "execution_count": 59,
   "metadata": {},
   "outputs": [],
   "source": [
    "\n",
    "def perturbation_animation(G, weight, K, sparse, pert_color, sparse_color = None, size = 4, alpha_background = 0.3):\n",
    "    if sparse_color is None: sparse_color = S_COLORS[sparse.name]\n",
    "\n",
    "    graphs    = [G]\n",
    "    s_graphs  = [sparse(G)]\n",
    "    new_edges = []\n",
    "    new_edges_record = [[]]\n",
    "\n",
    "    H = G.copy()\n",
    "\n",
    "    for _ in range(K):\n",
    "        u,v = EdgeAddition()(H, weight.w())\n",
    "        graphs.append(H.copy())\n",
    "        s_graphs.append(sparse(H))\n",
    "        new_edges_record.append(new_edges.copy())\n",
    "        new_edges.append((u, v))\n",
    "\n",
    "    add_inverse_weight(H)\n",
    "    pos = nx.kamada_kawai_layout(H, weight='inverse weight')\n",
    "\n",
    "    for i, (g, sg, ne, nec) in enumerate(zip(graphs, s_graphs, [None] + new_edges, new_edges_record)):\n",
    "        plt.figure(figsize=(30, 24))\n",
    "\n",
    "        NE = [ne] if ne is not None else []\n",
    "\n",
    "        nx.draw_networkx_edges(G, pos, list(g.edges()), width = 1.5*size, edge_color='black', alpha=alpha_background)\n",
    "        nx.draw_networkx_edges(G, pos, nec, width = 2*size, edge_color=pert_color)\n",
    "        nx.draw_networkx_edges(G, pos, NE, width = 3.5*size, edge_color=pert_color)\n",
    "        nx.draw_networkx_nodes(G, pos, node_size=16*size, node_color='gray')\n",
    "\n",
    "        out_path = f'plots/_presentation/perturbation'\n",
    "        save_file(out_path, f'full {i}', no_bbox=True)\n",
    "        plt.clf()\n",
    "\n",
    "        plt.figure(figsize=(30, 24))\n",
    "        nec_sp = [e for e in nec if sg.has_edge(*e)]\n",
    "\n",
    "        nx.draw_networkx_edges(G, pos, list(sg.edges()), width = 1.5*size, edge_color=sparse_color, alpha=alpha_background)\n",
    "        nx.draw_networkx_edges(G, pos, nec_sp, width = 2*size, edge_color=pert_color)\n",
    "        nx.draw_networkx_edges(G, pos, NE, width = 3.5*size, edge_color=pert_color)\n",
    "        nx.draw_networkx_nodes(G, pos, node_size=16*size, node_color='gray')\n",
    "\n",
    "        out_path = f'plots/_presentation/perturbation'\n",
    "        save_file(out_path, f'{sparse.name} {i}', no_bbox=True)\n",
    "        plt.clf()"
   ]
  },
  {
   "cell_type": "code",
   "execution_count": 57,
   "metadata": {},
   "outputs": [],
   "source": [
    "G = RG(n = 50, radius=0.2, s=5)\n",
    "K = list(nx.connected_components(G))\n",
    "K.sort(key = len, reverse=True)\n",
    "G = G.subgraph(K[0])\n",
    "w = Exponential(seed=1)\n",
    "G = w(G)"
   ]
  },
  {
   "cell_type": "code",
   "execution_count": 60,
   "metadata": {},
   "outputs": [
    {
     "name": "stderr",
     "output_type": "stream",
     "text": [
      "c:\\Users\\Nicol\\Miniconda3\\lib\\site-packages\\ipykernel_launcher.py:22: RuntimeWarning: More than 20 figures have been opened. Figures created through the pyplot interface (`matplotlib.pyplot.figure`) are retained until explicitly closed and may consume too much memory. (To control this warning, see the rcParam `figure.max_open_warning`).\n"
     ]
    },
    {
     "data": {
      "text/plain": [
       "<Figure size 2160x1728 with 0 Axes>"
      ]
     },
     "metadata": {},
     "output_type": "display_data"
    },
    {
     "data": {
      "text/plain": [
       "<Figure size 2160x1728 with 0 Axes>"
      ]
     },
     "metadata": {},
     "output_type": "display_data"
    },
    {
     "data": {
      "text/plain": [
       "<Figure size 2160x1728 with 0 Axes>"
      ]
     },
     "metadata": {},
     "output_type": "display_data"
    },
    {
     "data": {
      "text/plain": [
       "<Figure size 2160x1728 with 0 Axes>"
      ]
     },
     "metadata": {},
     "output_type": "display_data"
    },
    {
     "data": {
      "text/plain": [
       "<Figure size 2160x1728 with 0 Axes>"
      ]
     },
     "metadata": {},
     "output_type": "display_data"
    },
    {
     "data": {
      "text/plain": [
       "<Figure size 2160x1728 with 0 Axes>"
      ]
     },
     "metadata": {},
     "output_type": "display_data"
    },
    {
     "data": {
      "text/plain": [
       "<Figure size 2160x1728 with 0 Axes>"
      ]
     },
     "metadata": {},
     "output_type": "display_data"
    },
    {
     "data": {
      "text/plain": [
       "<Figure size 2160x1728 with 0 Axes>"
      ]
     },
     "metadata": {},
     "output_type": "display_data"
    },
    {
     "data": {
      "text/plain": [
       "<Figure size 2160x1728 with 0 Axes>"
      ]
     },
     "metadata": {},
     "output_type": "display_data"
    },
    {
     "data": {
      "text/plain": [
       "<Figure size 2160x1728 with 0 Axes>"
      ]
     },
     "metadata": {},
     "output_type": "display_data"
    },
    {
     "data": {
      "text/plain": [
       "<Figure size 2160x1728 with 0 Axes>"
      ]
     },
     "metadata": {},
     "output_type": "display_data"
    },
    {
     "data": {
      "text/plain": [
       "<Figure size 2160x1728 with 0 Axes>"
      ]
     },
     "metadata": {},
     "output_type": "display_data"
    },
    {
     "data": {
      "text/plain": [
       "<Figure size 2160x1728 with 0 Axes>"
      ]
     },
     "metadata": {},
     "output_type": "display_data"
    },
    {
     "data": {
      "text/plain": [
       "<Figure size 2160x1728 with 0 Axes>"
      ]
     },
     "metadata": {},
     "output_type": "display_data"
    },
    {
     "data": {
      "text/plain": [
       "<Figure size 2160x1728 with 0 Axes>"
      ]
     },
     "metadata": {},
     "output_type": "display_data"
    },
    {
     "data": {
      "text/plain": [
       "<Figure size 2160x1728 with 0 Axes>"
      ]
     },
     "metadata": {},
     "output_type": "display_data"
    },
    {
     "data": {
      "text/plain": [
       "<Figure size 2160x1728 with 0 Axes>"
      ]
     },
     "metadata": {},
     "output_type": "display_data"
    },
    {
     "data": {
      "text/plain": [
       "<Figure size 2160x1728 with 0 Axes>"
      ]
     },
     "metadata": {},
     "output_type": "display_data"
    },
    {
     "data": {
      "text/plain": [
       "<Figure size 2160x1728 with 0 Axes>"
      ]
     },
     "metadata": {},
     "output_type": "display_data"
    },
    {
     "data": {
      "text/plain": [
       "<Figure size 2160x1728 with 0 Axes>"
      ]
     },
     "metadata": {},
     "output_type": "display_data"
    },
    {
     "data": {
      "text/plain": [
       "<Figure size 2160x1728 with 0 Axes>"
      ]
     },
     "metadata": {},
     "output_type": "display_data"
    },
    {
     "data": {
      "text/plain": [
       "<Figure size 2160x1728 with 0 Axes>"
      ]
     },
     "metadata": {},
     "output_type": "display_data"
    }
   ],
   "source": [
    "perturbation_animation(G, w, 10, APSP(), pert_color = 'green')"
   ]
  },
  {
   "cell_type": "code",
   "execution_count": 11,
   "metadata": {},
   "outputs": [],
   "source": [
    "import pandas as pd\n",
    "import json\n",
    "from itertools import product\n",
    "\n",
    "from utils.static import *\n",
    "from utils.plots import *\n",
    "plot = Plot()"
   ]
  },
  {
   "cell_type": "code",
   "execution_count": 6,
   "metadata": {},
   "outputs": [],
   "source": [
    "def perturbation_distances(\n",
    "            dfs, graph, weight, metric, perturbation, my_sparse = None, N = N_PERTURBATIONS):\n",
    "\t\n",
    "\tdf = dfs[(graph, weight)]\n",
    "\tfor sparse in S_NAME:\n",
    "\t\tm = df[sparse][metric.id]['mean'].to_numpy()\n",
    "\t\ts = 0.3*df[sparse][metric.id]['std'].to_numpy()\n",
    "\t\ti = np.arange(len(s))\n",
    "\t\ts[i[i % 5 != 1]] = 0\n",
    "\t\tx = np.concatenate(([0], np.arange(1, N+1, 5)))\n",
    "\n",
    "\t\tif my_sparse is None or sparse == my_sparse or sparse == 'Full':\n",
    "\t\t\tplt.errorbar(x, m, yerr = s, linestyle='-', label = sparse, color=S_COLORS[sparse])\n",
    "\t\telse:\n",
    "\t\t\tplt.errorbar(x, m, yerr = s, linestyle='-', alpha = 0)\n",
    "\n",
    "\t\t\n",
    "\tplt.title(f'{perturbation} on {weight} {graph}\\n')\n",
    "\tplt.xlabel(f'# {perturbation}\\n')\n",
    "\tplt.ylabel(f'{metric.name}\\n')\n",
    "\tplt.legend(loc='upper left', fontsize = 'x-small')\n",
    "\n",
    "\tout_path = f'plots/_presentation/perturbation'\n",
    "\tfile_name = 'distance 1' if my_sparse is None else f'distance 2'\n",
    "\tsave_file(out_path, file_name)\n",
    "\n",
    "def perturbation_deviation_by_graph(D_dd, metric, perturbation, \n",
    "\t\t\t\t\t\t\t\t\terror, ylim, graph = None, weight = None, \n",
    "\t\t\t\t\t\t\t\t\tnormalized = False, sparse = None):\n",
    "        \n",
    "\tTS = TS_NAME.copy()\n",
    "\tTS.sort(key=lambda s: abs(D_dd[s][('MAN', error.id)]))\n",
    "\n",
    "\t_, ax = plt.subplots(figsize=(6, 4))\n",
    "\n",
    "\tif graph is not None: R = 3*G_NAME.index(graph) + W_NAME.index(weight)\n",
    "\tkey = error.id if not normalized else ('normalized', error.id)\n",
    "\n",
    "\tfor s in TS:\n",
    "\t\tfor i, dev in enumerate(D_dd[s][key]):\n",
    "\t\t\tif graph is not None:\n",
    "\t\t\t\tif i == R and (sparse is None or s == sparse):\n",
    "\t\t\t\t\tax.errorbar(i, dev, fmt='o', color=S_COLORS[s], markersize=5, label = s)\n",
    "\t\t\t\telse:\n",
    "\t\t\t\t\tax.errorbar(i, dev, fmt='o', color=S_COLORS[s], markersize=5, alpha = 0)\n",
    "\t\t\telif sparse is not None:\n",
    "\t\t\t\tif s == sparse:\n",
    "\t\t\t\t\tif i == 0:\n",
    "\t\t\t\t\t\tax.errorbar(i, dev, fmt='o', color=S_COLORS[s], markersize=5, label = s)\n",
    "\t\t\t\t\telse:\n",
    "\t\t\t\t\t\tax.errorbar(i, dev, fmt='o', color=S_COLORS[s], markersize=5)\n",
    "\t\t\telse:\n",
    "\t\t\t\tif i == 0:\n",
    "\t\t\t\t\tax.errorbar(i, dev, fmt='o', color=S_COLORS[s], markersize=5, label = s)\n",
    "\t\t\t\telse:\n",
    "\t\t\t\t\tax.errorbar(i, dev, fmt='o', color=S_COLORS[s], markersize=5)\n",
    "\n",
    "\txitcks_pos = np.arange(len(G_NAME) * len(W_NAME))\n",
    "\tax.set_xticks(xitcks_pos)\n",
    "\tif graph is not None:\n",
    "\t\tlabs = [\"   \"] * 12\n",
    "\t\tlabs[R] = weight\n",
    "\t\tax.set_xticklabels(labs, fontsize=8)\n",
    "\telse:\n",
    "\t\tax.set_xticklabels(W_NAME * len(G_NAME), fontsize=8)\n",
    "\n",
    "\tfor i, g_name in enumerate(G_NAME):\n",
    "\t\tif graph is not None:\n",
    "\t\t\tif g_name == graph:\n",
    "\t\t\t\tpos = xitcks_pos[1+i*len(W_NAME)]\n",
    "\t\t\t\tax.text(pos, -0.1, g_name, ha='center', va='top', transform=ax.get_xaxis_transform(),\n",
    "\t\t\t\t\t\tfontsize=10)\n",
    "\t\telse:\n",
    "\t\t\tpos = xitcks_pos[1+i*len(W_NAME)]\n",
    "\t\t\tax.text(pos, -0.1, g_name, ha='center', va='top', transform=ax.get_xaxis_transform(),\n",
    "\t\t\t\t\tfontsize=10)\n",
    "\t\t\n",
    "\tfor i in range(len(G_NAME) - 1):\n",
    "\t\tpos = 1/2 * (xitcks_pos[1+i*len(W_NAME)] + xitcks_pos[1+(i+1)*len(W_NAME)])\n",
    "\t\tax.axvline(x=pos, color='black', linestyle='-', linewidth=0.5, alpha = 0.5)\n",
    "\n",
    "\tplt.axhline(y=0, linestyle='-', color='black')\n",
    "\n",
    "\tylim = 10 ** np.ceil(np.log10(ylim)) if not normalized else 1\n",
    "\tax.set_ylim([-ylim, ylim]) if error.negative else ax.set_ylim([0, ylim])\n",
    "\tax.set_yscale('symlog', linthresh = ylim/100, subs = list(range(2, 10, 2)))\n",
    "\tax.yaxis.set_major_formatter(FuncFormatter(custom_symlog_formatter))\n",
    "\tax.grid(axis='y', linestyle=':')\n",
    "\n",
    "\tnormalized_string = 'normalized ' if normalized else ''\n",
    "\n",
    "\tax.set_title(f'{perturbation} test\\n{normalized_string}{error.name}')\n",
    "\tax.set_ylabel(metric.name)\n",
    "\tax.set_xlabel('Graphs')\n",
    "\tax.legend(loc='lower left', fontsize='x-small')\n",
    "\n",
    "\tout_path = f'plots/_presentation/perturbation'\n",
    "\tif graph is not None and sparse is not None: nb = 5\n",
    "\telif graph is not None: nb = 2\n",
    "\telif sparse is not None: nb = 4\n",
    "\telif normalized: nb = 3\n",
    "\telse: nb = 1\n",
    "\tsave_file(out_path, f'by graph {nb}')\n",
    "\n",
    "def perturbation_deviation_by_sparsifier(D_dd, perturbation, error, my_metric = None, loc = True, my_sparse = None):\n",
    "        \n",
    "\tplt.figure(figsize=(8, 4))\n",
    "\n",
    "\tTS = TS_NAME.copy()\n",
    "\tMET = METRICS.copy()\n",
    "\n",
    "\tTS.sort(key=lambda s: sum(abs(D_dd[m.id][s][('MAN', error.id)]) for m in MET))\n",
    "\tmaximum = np.max([abs(D_dd[m][s][('MAN', error.id)]) for m, s in product(M_ID, TS)])\n",
    "\n",
    "\tfor i, sparse in enumerate(TS):\n",
    "\t\tMET.sort(key=lambda m: abs(D_dd[m.id][sparse][('MAN', error.id)]))\n",
    "\t\tfor j, metric in enumerate(MET):\n",
    "\t\t\tif my_metric is not None:\n",
    "\t\t\t\tif metric.id == my_metric.id and (my_sparse is None or sparse == my_sparse):\n",
    "\t\t\t\t\tmean = D_dd[metric.id][sparse][('MAN', error.id)] / maximum\n",
    "\t\t\t\t\toffset = -0.3 + j*(0.6/(len(MET)-1))\n",
    "\t\t\t\t\tplt.bar(i + offset, mean, hatch = M_HATCHES[metric],\n",
    "\t\t\t\t\t\t\twidth = 0.15, color = S_COLORS[sparse])\n",
    "\t\t\t\telse:\n",
    "\t\t\t\t\tmean = D_dd[metric.id][sparse][('MAN', error.id)] / maximum\n",
    "\t\t\t\t\toffset = -0.3 + j*(0.6/(len(MET)-1))\n",
    "\t\t\t\t\tplt.bar(i + offset, mean,\n",
    "\t\t\t\t\t\t\twidth = 0.15, alpha = 0)\n",
    "\t\t\telse:\n",
    "\t\t\t\tmean = D_dd[metric.id][sparse][('MAN', error.id)] / maximum\n",
    "\t\t\t\toffset = -0.3 + j*(0.6/(len(MET)-1))\n",
    "\t\t\t\tplt.bar(i + offset, mean, hatch = M_HATCHES[metric],\n",
    "\t\t\t\t\t\t\t\twidth = 0.15, color = S_COLORS[sparse])\n",
    "\t\t\t\n",
    "\tfig, ax = plt.subplots()\n",
    "\tax.axis('off')\n",
    "\tlegend_handles = []\n",
    "\tfor metric in MET:\n",
    "\t\tif my_metric is None or metric.id == my_metric.id:\n",
    "\t\t\tlegend_handles.append(ax.bar([0], [0], hatch = M_HATCHES[metric], label=metric.name, \n",
    "\t\t\t\t\t\t\t\t\t\t\tcolor = 'white', edgecolor = 'black'))\n",
    "\t\t\t\t\t\t\t\t\t\t\t\n",
    "\tplt.close(fig)\n",
    "\n",
    "\tplt.xticks(np.arange(len(TS)), labels=TS, fontsize='x-small')\n",
    "\tplt.ylim([0, 1.1])\n",
    "\n",
    "\tif loc: plt.legend(handles=legend_handles, loc='upper left', fontsize='small',  \n",
    "\t\t\thandleheight=3, handlelength=3)\n",
    "\tplt.title(f'{perturbation} test\\n')\n",
    "\tplt.ylabel(f'Average normalized {error.id}\\n')\n",
    "\n",
    "\tout_path = f'plots/_presentation/perturbation'\n",
    "\tif my_sparse is not None: file_name = f'by sparsifier 1'\n",
    "\telif my_metric is not None: file_name = f'by sparsifier 2'\n",
    "\telse: file_name = f'{perturbation} by sparsifier'\n",
    "\tsave_file(out_path, file_name)"
   ]
  },
  {
   "cell_type": "code",
   "execution_count": 18,
   "metadata": {},
   "outputs": [],
   "source": [
    "def perturbation_deviation_by_sparsifier_transparency(D_dd, perturbation, error, nb, \n",
    "\t\t\t\t\t\t\t\t\t\t my_metrics = METRICS, my_sparse = TS_NAME, loc = True):\n",
    "        \n",
    "\tplt.figure(figsize=(8, 4))\n",
    "\n",
    "\tTS = TS_NAME.copy()\n",
    "\tMET = METRICS.copy()\n",
    "\n",
    "\tTS.sort(key=lambda s: sum(abs(D_dd[m.id][s][('MAN', error.id)]) for m in MET))\n",
    "\tmaximum = np.max([abs(D_dd[m][s][('MAN', error.id)]) for m, s in product(M_ID, TS)])\n",
    "\n",
    "\tfor i, sparse in enumerate(TS):\n",
    "\t\tMET.sort(key=lambda m: abs(D_dd[m.id][sparse][('MAN', error.id)]))\n",
    "\t\tfor j, metric in enumerate(MET):\n",
    "\t\t\talpha = 1 if metric.id in my_metrics and sparse in my_sparse else 0.1\n",
    "\t\t\tedgecolor = 'black' if metric.id in my_metrics and sparse in my_sparse else 'gray'\n",
    "\t\t\tmean = D_dd[metric.id][sparse][('MAN', error.id)] / maximum\n",
    "\t\t\toffset = -0.3 + j*(0.6/(len(MET)-1))\n",
    "\t\t\tplt.bar(i + offset, mean, hatch = M_HATCHES[metric], edgecolor = edgecolor,\n",
    "\t\t\t\t\t\t\twidth = 0.15, color = S_COLORS[sparse], alpha = alpha)\n",
    "\t\t\t\n",
    "\tfig, ax = plt.subplots()\n",
    "\tax.axis('off')\n",
    "\tlegend_handles = []\n",
    "\tfor metric in MET:\n",
    "\t\tlegend_handles.append(ax.bar([0], [0], hatch = M_HATCHES[metric], label=metric.name, \n",
    "\t\t\t\t\t\t\t\t\t\tcolor = 'white', edgecolor = 'black'))\n",
    "\t\t\t\t\t\t\t\t\t\t\t\n",
    "\tplt.close(fig)\n",
    "\n",
    "\tplt.xticks(np.arange(len(TS)), labels=TS, fontsize='x-small')\n",
    "\tplt.ylim([0, 1.1])\n",
    "\n",
    "\tif loc: plt.legend(handles=legend_handles, loc='upper left', fontsize='small',  \n",
    "\t\t\thandleheight=3, handlelength=3)\n",
    "\tplt.title(f'{perturbation} test\\n')\n",
    "\tplt.ylabel(f'Average normalized {error.id}\\n')\n",
    "\n",
    "\tout_path = f'plots/_presentation/perturbation/discussion'\n",
    "\tsave_file(out_path, f'{nb} {perturbation}')\n",
    "\n",
    "def perturbation_distances_transparency(\n",
    "            dfs, graph, weight, metric, perturbation, my_sparse = TS_NAME, N = N_PERTURBATIONS):\n",
    "\t\n",
    "\tdf = dfs[(graph, weight)]\n",
    "\tfor sparse in S_NAME:\n",
    "\t\tm = df[sparse][metric.id]['mean'].to_numpy()\n",
    "\t\ts = 0.3*df[sparse][metric.id]['std'].to_numpy()\n",
    "\t\ti = np.arange(len(s))\n",
    "\t\ts[i[i % 5 != 1]] = 0\n",
    "\t\tx = np.concatenate(([0], np.arange(1, N+1, 5)))\n",
    "\n",
    "\t\tif sparse in my_sparse:\n",
    "\t\t\tplt.errorbar(x, m, yerr = s, linestyle='-', label = sparse, color=S_COLORS[sparse], linewidth = 2)\n",
    "\t\telse:\n",
    "\t\t\tplt.errorbar(x, m, yerr = s, linestyle='-', label = sparse, color=S_COLORS[sparse], alpha = 0.1)\n",
    "\n",
    "\t\t\n",
    "\tplt.title(f'{perturbation} on {weight} {graph}\\n')\n",
    "\tplt.xlabel(f'# {perturbation}\\n')\n",
    "\tplt.ylabel(f'{metric.name}\\n')\n",
    "\tplt.legend(loc='lower right', fontsize = 'x-small')\n",
    "\n",
    "\tout_path = f'plots/_presentation/perturbation'\n",
    "\tfile_name = 'distance transparency'\n",
    "\tsave_file(out_path, file_name)"
   ]
  },
  {
   "cell_type": "code",
   "execution_count": 13,
   "metadata": {},
   "outputs": [],
   "source": [
    "D_p_dists, D_p_edges, M_p_dists, M_p_edges, D_p_dd = load_perturbation_dfs(compute = True)"
   ]
  },
  {
   "cell_type": "code",
   "execution_count": 14,
   "metadata": {},
   "outputs": [],
   "source": [
    "g = 'BA'\n",
    "w = 'Exp'\n",
    "p = 'Edge removal'\n",
    "m = NormalizedLaplacianSpectrum()\n",
    "s = 'APSP'\n",
    "e = MAE()"
   ]
  },
  {
   "cell_type": "code",
   "execution_count": 33,
   "metadata": {},
   "outputs": [
    {
     "data": {
      "text/plain": [
       "<Figure size 432x288 with 0 Axes>"
      ]
     },
     "metadata": {},
     "output_type": "display_data"
    }
   ],
   "source": [
    "perturbation_distances(D_p_dists[p], g, w, m, p)\n",
    "perturbation_distances(D_p_dists[p], g, w, m, p, s)"
   ]
  },
  {
   "cell_type": "code",
   "execution_count": 20,
   "metadata": {},
   "outputs": [
    {
     "data": {
      "text/plain": [
       "<Figure size 432x288 with 0 Axes>"
      ]
     },
     "metadata": {},
     "output_type": "display_data"
    }
   ],
   "source": [
    "perturbation_distances_transparency(D_p_dists[p], g, w, m, p, ['Full', 'K-Neighbor', 'Effective Resistance', 'Random'])"
   ]
  },
  {
   "cell_type": "code",
   "execution_count": 7,
   "metadata": {},
   "outputs": [
    {
     "data": {
      "text/plain": [
       "<Figure size 432x288 with 0 Axes>"
      ]
     },
     "metadata": {},
     "output_type": "display_data"
    },
    {
     "data": {
      "text/plain": [
       "<Figure size 432x288 with 0 Axes>"
      ]
     },
     "metadata": {},
     "output_type": "display_data"
    },
    {
     "data": {
      "text/plain": [
       "<Figure size 432x288 with 0 Axes>"
      ]
     },
     "metadata": {},
     "output_type": "display_data"
    },
    {
     "data": {
      "text/plain": [
       "<Figure size 432x288 with 0 Axes>"
      ]
     },
     "metadata": {},
     "output_type": "display_data"
    },
    {
     "data": {
      "text/plain": [
       "<Figure size 432x288 with 0 Axes>"
      ]
     },
     "metadata": {},
     "output_type": "display_data"
    }
   ],
   "source": [
    "perturbation_deviation_by_graph(D_p_dd[p][m.id], m, p, e, D_p_dd[('max', e.id)][m.id])\n",
    "perturbation_deviation_by_graph(D_p_dd[p][m.id], m, p, e, D_p_dd[('max', e.id)][m.id], g, w)\n",
    "perturbation_deviation_by_graph(D_p_dd[p][m.id], m, p, e, D_p_dd[('max', e.id)][m.id], normalized=True)\n",
    "perturbation_deviation_by_graph(D_p_dd[p][m.id], m, p, e, D_p_dd[('max', e.id)][m.id], sparse=s, normalized=True)\n",
    "perturbation_deviation_by_graph(D_p_dd[p][m.id], m, p, e, D_p_dd[('max', e.id)][m.id], g, w, sparse=s)"
   ]
  },
  {
   "cell_type": "code",
   "execution_count": 40,
   "metadata": {},
   "outputs": [
    {
     "data": {
      "text/plain": [
       "<Figure size 576x288 with 0 Axes>"
      ]
     },
     "metadata": {},
     "output_type": "display_data"
    },
    {
     "data": {
      "text/plain": [
       "<Figure size 576x288 with 0 Axes>"
      ]
     },
     "metadata": {},
     "output_type": "display_data"
    }
   ],
   "source": [
    "perturbation_deviation_by_sparsifier(D_p_dd[p], p, e, m)\n",
    "perturbation_deviation_by_sparsifier(D_p_dd[p], p, e, m, my_sparse=s)"
   ]
  },
  {
   "cell_type": "code",
   "execution_count": 42,
   "metadata": {},
   "outputs": [
    {
     "data": {
      "text/plain": [
       "<Figure size 576x288 with 0 Axes>"
      ]
     },
     "metadata": {},
     "output_type": "display_data"
    },
    {
     "data": {
      "text/plain": [
       "<Figure size 576x288 with 0 Axes>"
      ]
     },
     "metadata": {},
     "output_type": "display_data"
    },
    {
     "data": {
      "text/plain": [
       "<Figure size 576x288 with 0 Axes>"
      ]
     },
     "metadata": {},
     "output_type": "display_data"
    },
    {
     "data": {
      "text/plain": [
       "<Figure size 576x288 with 0 Axes>"
      ]
     },
     "metadata": {},
     "output_type": "display_data"
    }
   ],
   "source": [
    "for i, p in enumerate(P_NAME):\n",
    "\tperturbation_deviation_by_sparsifier(D_p_dd[p], p, e, loc = i == 0)"
   ]
  },
  {
   "cell_type": "code",
   "execution_count": 6,
   "metadata": {},
   "outputs": [],
   "source": [
    "sp = ['Full', 'Random', 'Threshold', 'Local Degree', 'K-Neighbor', 'Effective Resistance', 'APSP']\n",
    "mer = [LaplacianSpectrum(), NormalizedLaplacianSpectrum(), NetlsdHeat(), PortraitDivergence()]\n",
    "me = M_ID"
   ]
  },
  {
   "cell_type": "code",
   "execution_count": 9,
   "metadata": {},
   "outputs": [],
   "source": [
    "Focus = [\n",
    "    ([sp[1], sp[4], sp[5]], me),\n",
    "    ([sp[1], sp[5]], me[1:]),\n",
    "    ([sp[1], sp[4]], me[:3]),\n",
    "    ([sp[4], sp[5]], [me[1], me[2]]),\n",
    "    ([sp[3], sp[6]], me),\n",
    "    ([sp[2], sp[6]], [me[3]]),\n",
    "    ([sp[4], sp[5]], [me[3]])\n",
    "]"
   ]
  },
  {
   "cell_type": "code",
   "execution_count": 10,
   "metadata": {},
   "outputs": [
    {
     "name": "stderr",
     "output_type": "stream",
     "text": [
      "c:\\Users\\Nicol\\Miniconda3\\lib\\site-packages\\ipykernel_launcher.py:22: RuntimeWarning: More than 20 figures have been opened. Figures created through the pyplot interface (`matplotlib.pyplot.figure`) are retained until explicitly closed and may consume too much memory. (To control this warning, see the rcParam `figure.max_open_warning`).\n",
      "c:\\Users\\Nicol\\Miniconda3\\lib\\site-packages\\ipykernel_launcher.py:4: RuntimeWarning: More than 20 figures have been opened. Figures created through the pyplot interface (`matplotlib.pyplot.figure`) are retained until explicitly closed and may consume too much memory. (To control this warning, see the rcParam `figure.max_open_warning`).\n",
      "  after removing the cwd from sys.path.\n"
     ]
    },
    {
     "data": {
      "text/plain": [
       "<Figure size 576x288 with 0 Axes>"
      ]
     },
     "metadata": {},
     "output_type": "display_data"
    },
    {
     "data": {
      "text/plain": [
       "<Figure size 576x288 with 0 Axes>"
      ]
     },
     "metadata": {},
     "output_type": "display_data"
    },
    {
     "data": {
      "text/plain": [
       "<Figure size 576x288 with 0 Axes>"
      ]
     },
     "metadata": {},
     "output_type": "display_data"
    },
    {
     "data": {
      "text/plain": [
       "<Figure size 576x288 with 0 Axes>"
      ]
     },
     "metadata": {},
     "output_type": "display_data"
    },
    {
     "data": {
      "text/plain": [
       "<Figure size 576x288 with 0 Axes>"
      ]
     },
     "metadata": {},
     "output_type": "display_data"
    },
    {
     "data": {
      "text/plain": [
       "<Figure size 576x288 with 0 Axes>"
      ]
     },
     "metadata": {},
     "output_type": "display_data"
    },
    {
     "data": {
      "text/plain": [
       "<Figure size 576x288 with 0 Axes>"
      ]
     },
     "metadata": {},
     "output_type": "display_data"
    },
    {
     "data": {
      "text/plain": [
       "<Figure size 576x288 with 0 Axes>"
      ]
     },
     "metadata": {},
     "output_type": "display_data"
    },
    {
     "data": {
      "text/plain": [
       "<Figure size 576x288 with 0 Axes>"
      ]
     },
     "metadata": {},
     "output_type": "display_data"
    },
    {
     "data": {
      "text/plain": [
       "<Figure size 576x288 with 0 Axes>"
      ]
     },
     "metadata": {},
     "output_type": "display_data"
    },
    {
     "data": {
      "text/plain": [
       "<Figure size 576x288 with 0 Axes>"
      ]
     },
     "metadata": {},
     "output_type": "display_data"
    },
    {
     "data": {
      "text/plain": [
       "<Figure size 576x288 with 0 Axes>"
      ]
     },
     "metadata": {},
     "output_type": "display_data"
    },
    {
     "data": {
      "text/plain": [
       "<Figure size 576x288 with 0 Axes>"
      ]
     },
     "metadata": {},
     "output_type": "display_data"
    },
    {
     "data": {
      "text/plain": [
       "<Figure size 576x288 with 0 Axes>"
      ]
     },
     "metadata": {},
     "output_type": "display_data"
    },
    {
     "data": {
      "text/plain": [
       "<Figure size 576x288 with 0 Axes>"
      ]
     },
     "metadata": {},
     "output_type": "display_data"
    },
    {
     "data": {
      "text/plain": [
       "<Figure size 576x288 with 0 Axes>"
      ]
     },
     "metadata": {},
     "output_type": "display_data"
    },
    {
     "data": {
      "text/plain": [
       "<Figure size 576x288 with 0 Axes>"
      ]
     },
     "metadata": {},
     "output_type": "display_data"
    },
    {
     "data": {
      "text/plain": [
       "<Figure size 576x288 with 0 Axes>"
      ]
     },
     "metadata": {},
     "output_type": "display_data"
    },
    {
     "data": {
      "text/plain": [
       "<Figure size 576x288 with 0 Axes>"
      ]
     },
     "metadata": {},
     "output_type": "display_data"
    },
    {
     "data": {
      "text/plain": [
       "<Figure size 576x288 with 0 Axes>"
      ]
     },
     "metadata": {},
     "output_type": "display_data"
    },
    {
     "data": {
      "text/plain": [
       "<Figure size 576x288 with 0 Axes>"
      ]
     },
     "metadata": {},
     "output_type": "display_data"
    },
    {
     "data": {
      "text/plain": [
       "<Figure size 576x288 with 0 Axes>"
      ]
     },
     "metadata": {},
     "output_type": "display_data"
    },
    {
     "data": {
      "text/plain": [
       "<Figure size 576x288 with 0 Axes>"
      ]
     },
     "metadata": {},
     "output_type": "display_data"
    },
    {
     "data": {
      "text/plain": [
       "<Figure size 576x288 with 0 Axes>"
      ]
     },
     "metadata": {},
     "output_type": "display_data"
    },
    {
     "data": {
      "text/plain": [
       "<Figure size 576x288 with 0 Axes>"
      ]
     },
     "metadata": {},
     "output_type": "display_data"
    },
    {
     "data": {
      "text/plain": [
       "<Figure size 576x288 with 0 Axes>"
      ]
     },
     "metadata": {},
     "output_type": "display_data"
    },
    {
     "data": {
      "text/plain": [
       "<Figure size 576x288 with 0 Axes>"
      ]
     },
     "metadata": {},
     "output_type": "display_data"
    },
    {
     "data": {
      "text/plain": [
       "<Figure size 576x288 with 0 Axes>"
      ]
     },
     "metadata": {},
     "output_type": "display_data"
    }
   ],
   "source": [
    "\n",
    "for j, (SP, ME) in enumerate(Focus):\n",
    "\tfor i, p in enumerate(P_NAME):\n",
    "\t\tperturbation_deviation_by_sparsifier_transparency(\n",
    "\t\t\tD_p_dd[p], p, e, nb = j, my_metrics = ME, my_sparse = SP, loc = i == 0)"
   ]
  },
  {
   "cell_type": "code",
   "execution_count": 22,
   "metadata": {},
   "outputs": [],
   "source": [
    "import pandas as pd\n",
    "import json\n",
    "from itertools import product\n",
    "\n",
    "from utils.static import *\n",
    "from utils.plots import *\n",
    "plot = Plot()\n",
    "\n",
    "D_g_dists, D_g_edges, M_g_dists, M_g_edges, D_g_dd = load_gaussian_noise_dfs(compute = True)"
   ]
  },
  {
   "cell_type": "code",
   "execution_count": 42,
   "metadata": {},
   "outputs": [],
   "source": [
    "def gaussian_noise_distances(dfs, graph, weight, metric):\n",
    "        \n",
    "\tdf = dfs[(graph, weight)]\n",
    "\tfor sparse in S_NAME:\n",
    "\t\tm = df[sparse][metric.id]['mean'].to_numpy()\n",
    "\t\ts = 0.3*df[sparse][metric.id]['std'].to_numpy()\n",
    "\t\tx = df[sparse].index\n",
    "\n",
    "\t\tplt.errorbar(x, m, yerr = s, linestyle='-',\n",
    "\t\t\t\t\t\tlabel = sparse, color=S_COLORS[sparse])\n",
    "\n",
    "\n",
    "\tplt.title(f'Gaussian Noise N(0,σ²) on {weight} {graph}\\n')\n",
    "\tplt.ylabel(f'{metric.name}')\n",
    "\tplt.legend(loc='upper left', fontsize = 'x-small')\n",
    "\tplt.xlabel('σ', fontsize = 12)\n",
    "\n",
    "\tout_path = f'plots/_presentation/gaussian_noise'\n",
    "\tsave_file(out_path, f'distance')\n",
    "\n",
    "def perturbation_deviation_by_sparsifier(D_dd, error, nb = None, \n",
    "\t\t\t\t\t\t\t\t\t\t my_metrics = METRICS, my_sparse = TS_NAME):\n",
    "\t\n",
    "\tplt.figure(figsize=(8, 4))\n",
    "\n",
    "\tMET = METRICS.copy()\n",
    "\tTS = TS_NAME.copy()\n",
    "\n",
    "\tTS.sort(key=lambda s: sum(abs(D_dd[m.id][s][('MAN', error.id)]) for m in MET))\n",
    "\tmaximum = max(abs(D_dd[m][s][('MAN', error.id)]) for m, s in product(M_ID, TS))\n",
    "\n",
    "\tfor i, sparse in enumerate(TS):\n",
    "\t\tMET.sort(key=lambda m: abs(D_dd[m.id][sparse][('MAN', error.id)]))\n",
    "\t\tfor j, metric in enumerate(MET):\n",
    "\t\t\tmean = D_dd[metric.id][sparse][('MAN', error.id)] / maximum\n",
    "\t\t\toffset = -0.3 + j*(0.6/(len(MET)-1))\n",
    "\n",
    "\t\t\tif nb is not None:\n",
    "\t\t\t\talpha = 1 if metric.id in my_metrics and sparse in my_sparse else 0.1\n",
    "\t\t\t\tedgecolor = 'black' if metric.id in my_metrics and sparse in my_sparse else 'gray'\n",
    "\n",
    "\t\t\t\tplt.bar(i + offset, mean, hatch = M_HATCHES[metric],\n",
    "\t\t\t\t\twidth = 0.15, color = S_COLORS[sparse], alpha = alpha, edgecolor = edgecolor)\n",
    "\t\t\telse:\n",
    "\t\t\t\n",
    "\t\t\t\tplt.bar(i + offset, mean, hatch = M_HATCHES[metric],\n",
    "\t\t\t\t\twidth = 0.15, color = S_COLORS[sparse])\n",
    "\t\t\t\n",
    "\tfig, ax = plt.subplots()\n",
    "\tax.axis('off')\n",
    "\tlegend_handles = []\n",
    "\tfor metric in MET:\n",
    "\t\tlegend_handles.append(ax.bar([0], [0], hatch = M_HATCHES[metric], label=metric.name, \n",
    "\t\t\t\t\t\t\t\t\t\tcolor = 'white', edgecolor = 'black'))\n",
    "\tplt.close(fig)\n",
    "\t\t\n",
    "\tplt.xticks(np.arange(len(TS)), labels=TS,  fontsize='x-small')\n",
    "\tplt.ylim([0, 1.1])\n",
    "\n",
    "\tplt.title(f'Gaussian noise test\\n')\n",
    "\tplt.legend(handles=legend_handles, loc='upper left', fontsize='small', \n",
    "\t\t\thandleheight=3, handlelength=3)\n",
    "\tplt.ylabel(f'Average normalized {error.id}\\n')\n",
    "\n",
    "\tif nb is not None:\n",
    "\t\tout_path = f'plots/_presentation/gaussian_noise/discussion'\n",
    "\t\tsave_file(out_path, f'{nb}')\n",
    "\telse:\n",
    "\t\tout_path = f'plots/_presentation/gaussian_noise'\n",
    "\t\tsave_file(out_path, f'by sparsifier')"
   ]
  },
  {
   "cell_type": "code",
   "execution_count": 24,
   "metadata": {},
   "outputs": [],
   "source": [
    "g = 'BA'\n",
    "w = 'Exp'\n",
    "p = 'Edge removal'\n",
    "m = NormalizedLaplacianSpectrum()\n",
    "s = 'APSP'\n",
    "e = MAE()"
   ]
  },
  {
   "cell_type": "code",
   "execution_count": 25,
   "metadata": {},
   "outputs": [],
   "source": [
    "sp = ['Full', 'Random', 'Threshold', 'Local Degree', 'K-Neighbor', 'Effective Resistance', 'APSP']\n",
    "mer = [LaplacianSpectrum(), NormalizedLaplacianSpectrum(), NetlsdHeat(), PortraitDivergence()]\n",
    "me = M_ID"
   ]
  },
  {
   "cell_type": "code",
   "execution_count": 34,
   "metadata": {},
   "outputs": [],
   "source": [
    "Focus = [\n",
    "    ([sp[1], sp[4], sp[5]], me),\n",
    "    (sp, [me[0]]),\n",
    "    ([sp[1], sp[4], sp[5]], me[1:]),\n",
    "    ([sp[3], sp[6]], me),\n",
    "]"
   ]
  },
  {
   "cell_type": "code",
   "execution_count": 43,
   "metadata": {},
   "outputs": [
    {
     "data": {
      "text/plain": [
       "<Figure size 432x288 with 0 Axes>"
      ]
     },
     "metadata": {},
     "output_type": "display_data"
    }
   ],
   "source": [
    "gaussian_noise_distances(D_g_dists, g, w, m)"
   ]
  },
  {
   "cell_type": "code",
   "execution_count": 38,
   "metadata": {},
   "outputs": [
    {
     "data": {
      "text/plain": [
       "<Figure size 576x288 with 0 Axes>"
      ]
     },
     "metadata": {},
     "output_type": "display_data"
    },
    {
     "data": {
      "text/plain": [
       "<Figure size 576x288 with 0 Axes>"
      ]
     },
     "metadata": {},
     "output_type": "display_data"
    },
    {
     "data": {
      "text/plain": [
       "<Figure size 576x288 with 0 Axes>"
      ]
     },
     "metadata": {},
     "output_type": "display_data"
    },
    {
     "data": {
      "text/plain": [
       "<Figure size 576x288 with 0 Axes>"
      ]
     },
     "metadata": {},
     "output_type": "display_data"
    }
   ],
   "source": [
    "for j, (SP, ME) in enumerate(Focus):\n",
    "\tperturbation_deviation_by_sparsifier(\n",
    "\t\tD_g_dd, e, nb = j, my_metrics = ME, my_sparse = SP)"
   ]
  },
  {
   "cell_type": "code",
   "execution_count": 39,
   "metadata": {},
   "outputs": [
    {
     "data": {
      "text/plain": [
       "<Figure size 576x288 with 0 Axes>"
      ]
     },
     "metadata": {},
     "output_type": "display_data"
    }
   ],
   "source": [
    "perturbation_deviation_by_sparsifier(D_g_dd, e)"
   ]
  },
  {
   "cell_type": "code",
   "execution_count": 2,
   "metadata": {},
   "outputs": [],
   "source": [
    "import pandas as pd\n",
    "import json\n",
    "from itertools import product\n",
    "\n",
    "from utils.static import *\n",
    "from utils.plots import *\n",
    "plot = Plot()\n",
    "\n",
    "D_c, labels, D_a, best_approx_index = load_clustering_dfs(compute = False, K = K_TEST_REP)"
   ]
  },
  {
   "cell_type": "code",
   "execution_count": 13,
   "metadata": {},
   "outputs": [],
   "source": [
    "def clustering_precision_recall_curve_3D(D_d, metric, labels, class_characterisation):\n",
    "\n",
    "\tclass_m = class_matrix(labels, class_characterisation)\n",
    "\tthresholds = np.linspace(0, 1, 10**4)\n",
    "\tk = len(class_characterisation)\n",
    "\trdm_chance = prevalence(class_m, k)\n",
    "\n",
    "\tpra = {}\n",
    "\n",
    "\tfor sparse in S_NAME:\n",
    "\t\tdistance_m = D_d[sparse][metric.id].to_numpy()\n",
    "\t\tdistance_m = distance_m / np.max(distance_m)\n",
    "\n",
    "\t\tprecisions, recalls = precisions_recalls(distance_m, class_m, thresholds, k)\n",
    "\t\taupr = auc(recalls, precisions)\n",
    "\n",
    "\t\tpra[sparse] = (precisions, recalls, aupr)\n",
    "\n",
    "\n",
    "\tfig = plt.figure()\n",
    "\tax = fig.add_subplot(111, projection='3d')\n",
    "\n",
    "\tfor sparse in S_NAME:\n",
    "\t\tprecisions, recalls, aupr = pra[sparse]\n",
    "\n",
    "\t\tax.plot(recalls, thresholds, precisions, linestyle='-', \n",
    "\t\t\t\tlabel=f'{sparse}', color=S_COLORS[sparse])\n",
    "\t\tax.plot(recalls, thresholds, np.zeros_like(precisions), \n",
    "\t\t\t\tlinestyle='-', color=S_COLORS[sparse], alpha=0.3)\n",
    "\t\t\t\n",
    "\tax.plot([0, 1], [0, 1], [rdm_chance, rdm_chance],\n",
    "\t\t\tlinestyle=':', color='black',\n",
    "\t\t\tlabel=f'Prevalence')\n",
    "\tax.plot([0, 1], [0, 1], [0, 0],\n",
    "\t\t\tlinestyle=':', color='black', alpha=0.3)\n",
    "\n",
    "\tclass_str = '(' + ', '.join(s.capitalize() for s in class_characterisation) + ')'\n",
    "\tax.set_xlabel('Recall')\n",
    "\tax.set_ylabel('Threshold')\n",
    "\tax.set_zlabel('Precision')\n",
    "\tax.set_xlim([0, 1])\n",
    "\tax.set_ylim([0, 1])\n",
    "\tax.set_zlim([0, 1])\n",
    "\tax.legend(loc='upper right', fontsize='xx-small')\n",
    "\tax.grid(True)\n",
    "\n",
    "\tplt.subplots_adjust(top=0.85)\n",
    "\tax.set_title(f'Classification by {class_str}\\n'\n",
    "\t\t+f'with {metric.name}\\n')\n",
    "\t\n",
    "\tout_path = f'plots/_presentation/clustering/Precision-Recall'\n",
    "\tsave_file(out_path, f'3D')\n",
    "\n",
    "def clustering_precision_recall_curve(D_d, metric, labels, class_characterisation, AUPR = False):\n",
    "        \n",
    "\tclass_m = class_matrix(labels, class_characterisation)\n",
    "\tthresholds = np.linspace(0, 1, 10**4)\n",
    "\tk = len(class_characterisation)\n",
    "\trdm_chance = prevalence(class_m, k)\n",
    "\n",
    "\tplt.figure(figsize=(6, 4))\n",
    "\tplt.subplots_adjust(top=0.85)\n",
    "\n",
    "\tpra = {}\n",
    "\n",
    "\tSN = S_NAME.copy()\n",
    "\t\n",
    "\tfor sparse in SN:\n",
    "\t\tdistance_m = D_d[sparse][metric.id].to_numpy()\n",
    "\t\tdistance_m = distance_m / np.max(distance_m)\n",
    "\n",
    "\t\tprecisions, recalls = precisions_recalls(distance_m, class_m, thresholds, k)\n",
    "\t\taupr = auc(recalls, precisions)\n",
    "\n",
    "\t\tpra[sparse] = (precisions, recalls, aupr)\n",
    "\n",
    "\tif AUPR: SN.sort(key=lambda s: pra[s][2], reverse=True)\n",
    "\n",
    "\tfor sparse in SN:\n",
    "\t\tprecisions, recalls, aupr = pra[sparse]\n",
    "\n",
    "\t\taupr_string = f'(AUPR = {aupr:.3f}) ' if AUPR else ''\n",
    "\n",
    "\t\tplt.plot(recalls, precisions, marker=',', \n",
    "\t\t\t\t\tlabel=f'{aupr_string}{sparse}', color=S_COLORS[sparse])\n",
    "\n",
    "\taupr_string = f'(AUPR = {rdm_chance:.3f}) ' if AUPR else ''\n",
    "\tplt.plot([0, 1], [rdm_chance, rdm_chance], \n",
    "\t\t\t\tlinestyle=':', color='black',\n",
    "\t\t\t\tlabel=f'{aupr_string}Prevalence')\n",
    "\n",
    "\tclass_str = '(' + ', '.join(s.capitalize() for s in class_characterisation) + ')'\n",
    "\tplt.xlim([0, 1])\n",
    "\tplt.ylim([0, 1])\n",
    "\tplt.grid(True)\n",
    "\n",
    "\tplt.title(f'Classification by {class_str}\\n'+f'with {metric.name}\\n')\n",
    "\tplt.xlabel('Recall', fontsize=12)\n",
    "\tplt.ylabel('Precision\\n', fontsize=12)\n",
    "\t\n",
    "\tplt.legend(loc='lower left', fontsize='x-small')\n",
    "\n",
    "\tout_path = f'plots/_presentation/clustering/Precision-Recall'\n",
    "\tsave_file(out_path, f'{class_str} {AUPR}')\n",
    "\n",
    "def clustering_aupr_by_sparsifier(D_a, class_characterisation, display_str = True,\n",
    "\t\t\t\t\t\t\t\t  \tmy_metrics = M_ID, my_sparse = S_NAME, nb = None):\n",
    "\t\n",
    "\tplt.figure(figsize=(8, 4))\n",
    "\n",
    "\n",
    "\tSN = S_NAME.copy()\n",
    "\tSN.sort(key=lambda s: sum(D_a[m.id][s]['mean'] for m in METRICS), reverse=True)\n",
    "\n",
    "\tfor i, sparse in enumerate(SN):\n",
    "\t\tMT = METRICS.copy()\n",
    "\t\tMT.sort(key=lambda m: D_a[m.id][sparse]['mean'], reverse=True)\n",
    "\t\tfor j, metric in enumerate(MT):\n",
    "\t\t\tmean = D_a[metric.id][sparse]['mean']\n",
    "\t\t\tstd = D_a[metric.id][sparse]['std'] if display_str else 0\n",
    "\t\t\toffset = -0.3 + j*(0.6/(len(MT)-1))\n",
    "\n",
    "\t\t\talpha = 1 if metric.id in my_metrics and sparse in my_sparse else 0.1\n",
    "\n",
    "\t\t\tplt.errorbar(i + offset, mean, yerr=std, fmt=M_MARKERS[metric], markersize = 4, capsize=1,\n",
    "\t\t\t\t\t\t\telinewidth=0.5, capthick=0.5, color = S_COLORS[sparse], alpha = alpha)\n",
    "\t\t\t\n",
    "\trdm_chance = plt.axhline(y=D_a['rdm_chance'], linestyle=':', label = 'Prevalence', color='black')\n",
    "\t\t\t\n",
    "\tlegend_handles = [rdm_chance]\n",
    "\tfor metric in METRICS:\n",
    "\t\tlegend_handles.append(plt.Line2D([0], [0], marker = M_MARKERS[metric], label=metric.name, color = 'black'))\n",
    "\n",
    "\n",
    "\tclass_str = '(' + ', '.join(s.capitalize() for s in class_characterisation) + ')'\n",
    "\tplt.ylim([0, 1.05])\n",
    "\tplt.grid(axis='y')\n",
    "\tplt.yticks(np.arange(0, 1.1, 0.2))\n",
    "\tplt.xticks(np.arange(len(SN)), labels=SN,  fontsize='x-small')\n",
    "\n",
    "\tif class_characterisation == '(Graph, Weight)':\n",
    "\t\tplt.legend(handles=legend_handles, loc='lower left', fontsize='x-small')\n",
    "\t\n",
    "\tplt.title(f'Classification by {class_str}\\n')\n",
    "\tplt.ylabel('AUPR\\n')\n",
    "\n",
    "\tif nb is not None:\n",
    "\t\tout_path = f'plots/_presentation/clustering/discussion'\n",
    "\t\tsave_file(out_path, f'{nb} {class_str}')\n",
    "\telse:\n",
    "\t\tout_path = f'plots/_presentation/clustering'\n",
    "\t\tsave_file(out_path, f'AUPR {class_str}')"
   ]
  },
  {
   "cell_type": "code",
   "execution_count": 64,
   "metadata": {},
   "outputs": [
    {
     "data": {
      "text/plain": [
       "<Figure size 432x288 with 0 Axes>"
      ]
     },
     "metadata": {},
     "output_type": "display_data"
    },
    {
     "data": {
      "text/plain": [
       "<Figure size 432x288 with 0 Axes>"
      ]
     },
     "metadata": {},
     "output_type": "display_data"
    }
   ],
   "source": [
    "metric = LaplacianSpectrum()\n",
    "classification_mode = CLASSIFICATION_MODES[1]\n",
    "clustering_precision_recall_curve_3D(D_c[best_approx_index], metric, labels, classification_mode)\n",
    "clustering_precision_recall_curve(D_c[best_approx_index], metric, labels, classification_mode, AUPR = False)"
   ]
  },
  {
   "cell_type": "code",
   "execution_count": 65,
   "metadata": {},
   "outputs": [
    {
     "data": {
      "text/plain": [
       "<Figure size 432x288 with 0 Axes>"
      ]
     },
     "metadata": {},
     "output_type": "display_data"
    },
    {
     "data": {
      "text/plain": [
       "<Figure size 432x288 with 0 Axes>"
      ]
     },
     "metadata": {},
     "output_type": "display_data"
    },
    {
     "data": {
      "text/plain": [
       "<Figure size 432x288 with 0 Axes>"
      ]
     },
     "metadata": {},
     "output_type": "display_data"
    }
   ],
   "source": [
    "for classification_mode in CLASSIFICATION_MODES:\n",
    "\tclustering_precision_recall_curve(D_c[best_approx_index], metric, labels, classification_mode, AUPR = True)"
   ]
  },
  {
   "cell_type": "code",
   "execution_count": 14,
   "metadata": {},
   "outputs": [
    {
     "name": "stdout",
     "output_type": "stream",
     "text": [
      "nlap Local Degree ['lap', 'nlap', 'netlsd', 'portrait'] ['Full', 'Random', 'Threshold', 'Local Degree', 'K-Neighbor', 'Effective Resistance', 'APSP']\n",
      "lap Local Degree ['lap', 'nlap', 'netlsd', 'portrait'] ['Full', 'Random', 'Threshold', 'Local Degree', 'K-Neighbor', 'Effective Resistance', 'APSP']\n",
      "portrait Local Degree ['lap', 'nlap', 'netlsd', 'portrait'] ['Full', 'Random', 'Threshold', 'Local Degree', 'K-Neighbor', 'Effective Resistance', 'APSP']\n",
      "netlsd Local Degree ['lap', 'nlap', 'netlsd', 'portrait'] ['Full', 'Random', 'Threshold', 'Local Degree', 'K-Neighbor', 'Effective Resistance', 'APSP']\n",
      "portrait K-Neighbor ['lap', 'nlap', 'netlsd', 'portrait'] ['Full', 'Random', 'Threshold', 'Local Degree', 'K-Neighbor', 'Effective Resistance', 'APSP']\n",
      "lap K-Neighbor ['lap', 'nlap', 'netlsd', 'portrait'] ['Full', 'Random', 'Threshold', 'Local Degree', 'K-Neighbor', 'Effective Resistance', 'APSP']\n",
      "nlap K-Neighbor ['lap', 'nlap', 'netlsd', 'portrait'] ['Full', 'Random', 'Threshold', 'Local Degree', 'K-Neighbor', 'Effective Resistance', 'APSP']\n",
      "netlsd K-Neighbor ['lap', 'nlap', 'netlsd', 'portrait'] ['Full', 'Random', 'Threshold', 'Local Degree', 'K-Neighbor', 'Effective Resistance', 'APSP']\n",
      "nlap Effective Resistance ['lap', 'nlap', 'netlsd', 'portrait'] ['Full', 'Random', 'Threshold', 'Local Degree', 'K-Neighbor', 'Effective Resistance', 'APSP']\n",
      "lap Effective Resistance ['lap', 'nlap', 'netlsd', 'portrait'] ['Full', 'Random', 'Threshold', 'Local Degree', 'K-Neighbor', 'Effective Resistance', 'APSP']\n",
      "netlsd Effective Resistance ['lap', 'nlap', 'netlsd', 'portrait'] ['Full', 'Random', 'Threshold', 'Local Degree', 'K-Neighbor', 'Effective Resistance', 'APSP']\n",
      "portrait Effective Resistance ['lap', 'nlap', 'netlsd', 'portrait'] ['Full', 'Random', 'Threshold', 'Local Degree', 'K-Neighbor', 'Effective Resistance', 'APSP']\n",
      "lap Full ['lap', 'nlap', 'netlsd', 'portrait'] ['Full', 'Random', 'Threshold', 'Local Degree', 'K-Neighbor', 'Effective Resistance', 'APSP']\n",
      "nlap Full ['lap', 'nlap', 'netlsd', 'portrait'] ['Full', 'Random', 'Threshold', 'Local Degree', 'K-Neighbor', 'Effective Resistance', 'APSP']\n",
      "portrait Full ['lap', 'nlap', 'netlsd', 'portrait'] ['Full', 'Random', 'Threshold', 'Local Degree', 'K-Neighbor', 'Effective Resistance', 'APSP']\n",
      "netlsd Full ['lap', 'nlap', 'netlsd', 'portrait'] ['Full', 'Random', 'Threshold', 'Local Degree', 'K-Neighbor', 'Effective Resistance', 'APSP']\n",
      "nlap Random ['lap', 'nlap', 'netlsd', 'portrait'] ['Full', 'Random', 'Threshold', 'Local Degree', 'K-Neighbor', 'Effective Resistance', 'APSP']\n",
      "lap Random ['lap', 'nlap', 'netlsd', 'portrait'] ['Full', 'Random', 'Threshold', 'Local Degree', 'K-Neighbor', 'Effective Resistance', 'APSP']\n",
      "portrait Random ['lap', 'nlap', 'netlsd', 'portrait'] ['Full', 'Random', 'Threshold', 'Local Degree', 'K-Neighbor', 'Effective Resistance', 'APSP']\n",
      "netlsd Random ['lap', 'nlap', 'netlsd', 'portrait'] ['Full', 'Random', 'Threshold', 'Local Degree', 'K-Neighbor', 'Effective Resistance', 'APSP']\n",
      "nlap Threshold ['lap', 'nlap', 'netlsd', 'portrait'] ['Full', 'Random', 'Threshold', 'Local Degree', 'K-Neighbor', 'Effective Resistance', 'APSP']\n",
      "portrait Threshold ['lap', 'nlap', 'netlsd', 'portrait'] ['Full', 'Random', 'Threshold', 'Local Degree', 'K-Neighbor', 'Effective Resistance', 'APSP']\n",
      "netlsd Threshold ['lap', 'nlap', 'netlsd', 'portrait'] ['Full', 'Random', 'Threshold', 'Local Degree', 'K-Neighbor', 'Effective Resistance', 'APSP']\n",
      "lap Threshold ['lap', 'nlap', 'netlsd', 'portrait'] ['Full', 'Random', 'Threshold', 'Local Degree', 'K-Neighbor', 'Effective Resistance', 'APSP']\n",
      "portrait APSP ['lap', 'nlap', 'netlsd', 'portrait'] ['Full', 'Random', 'Threshold', 'Local Degree', 'K-Neighbor', 'Effective Resistance', 'APSP']\n",
      "lap APSP ['lap', 'nlap', 'netlsd', 'portrait'] ['Full', 'Random', 'Threshold', 'Local Degree', 'K-Neighbor', 'Effective Resistance', 'APSP']\n",
      "nlap APSP ['lap', 'nlap', 'netlsd', 'portrait'] ['Full', 'Random', 'Threshold', 'Local Degree', 'K-Neighbor', 'Effective Resistance', 'APSP']\n",
      "netlsd APSP ['lap', 'nlap', 'netlsd', 'portrait'] ['Full', 'Random', 'Threshold', 'Local Degree', 'K-Neighbor', 'Effective Resistance', 'APSP']\n",
      "nlap Full ['lap', 'nlap', 'netlsd', 'portrait'] ['Full', 'Random', 'Threshold', 'Local Degree', 'K-Neighbor', 'Effective Resistance', 'APSP']\n",
      "lap Full ['lap', 'nlap', 'netlsd', 'portrait'] ['Full', 'Random', 'Threshold', 'Local Degree', 'K-Neighbor', 'Effective Resistance', 'APSP']\n",
      "portrait Full ['lap', 'nlap', 'netlsd', 'portrait'] ['Full', 'Random', 'Threshold', 'Local Degree', 'K-Neighbor', 'Effective Resistance', 'APSP']\n",
      "netlsd Full ['lap', 'nlap', 'netlsd', 'portrait'] ['Full', 'Random', 'Threshold', 'Local Degree', 'K-Neighbor', 'Effective Resistance', 'APSP']\n",
      "nlap Local Degree ['lap', 'nlap', 'netlsd', 'portrait'] ['Full', 'Random', 'Threshold', 'Local Degree', 'K-Neighbor', 'Effective Resistance', 'APSP']\n",
      "lap Local Degree ['lap', 'nlap', 'netlsd', 'portrait'] ['Full', 'Random', 'Threshold', 'Local Degree', 'K-Neighbor', 'Effective Resistance', 'APSP']\n",
      "portrait Local Degree ['lap', 'nlap', 'netlsd', 'portrait'] ['Full', 'Random', 'Threshold', 'Local Degree', 'K-Neighbor', 'Effective Resistance', 'APSP']\n",
      "netlsd Local Degree ['lap', 'nlap', 'netlsd', 'portrait'] ['Full', 'Random', 'Threshold', 'Local Degree', 'K-Neighbor', 'Effective Resistance', 'APSP']\n",
      "lap APSP ['lap', 'nlap', 'netlsd', 'portrait'] ['Full', 'Random', 'Threshold', 'Local Degree', 'K-Neighbor', 'Effective Resistance', 'APSP']\n",
      "portrait APSP ['lap', 'nlap', 'netlsd', 'portrait'] ['Full', 'Random', 'Threshold', 'Local Degree', 'K-Neighbor', 'Effective Resistance', 'APSP']\n",
      "nlap APSP ['lap', 'nlap', 'netlsd', 'portrait'] ['Full', 'Random', 'Threshold', 'Local Degree', 'K-Neighbor', 'Effective Resistance', 'APSP']\n",
      "netlsd APSP ['lap', 'nlap', 'netlsd', 'portrait'] ['Full', 'Random', 'Threshold', 'Local Degree', 'K-Neighbor', 'Effective Resistance', 'APSP']\n",
      "nlap K-Neighbor ['lap', 'nlap', 'netlsd', 'portrait'] ['Full', 'Random', 'Threshold', 'Local Degree', 'K-Neighbor', 'Effective Resistance', 'APSP']\n",
      "portrait K-Neighbor ['lap', 'nlap', 'netlsd', 'portrait'] ['Full', 'Random', 'Threshold', 'Local Degree', 'K-Neighbor', 'Effective Resistance', 'APSP']\n",
      "lap K-Neighbor ['lap', 'nlap', 'netlsd', 'portrait'] ['Full', 'Random', 'Threshold', 'Local Degree', 'K-Neighbor', 'Effective Resistance', 'APSP']\n",
      "netlsd K-Neighbor ['lap', 'nlap', 'netlsd', 'portrait'] ['Full', 'Random', 'Threshold', 'Local Degree', 'K-Neighbor', 'Effective Resistance', 'APSP']\n",
      "lap Threshold ['lap', 'nlap', 'netlsd', 'portrait'] ['Full', 'Random', 'Threshold', 'Local Degree', 'K-Neighbor', 'Effective Resistance', 'APSP']\n",
      "nlap Threshold ['lap', 'nlap', 'netlsd', 'portrait'] ['Full', 'Random', 'Threshold', 'Local Degree', 'K-Neighbor', 'Effective Resistance', 'APSP']\n",
      "portrait Threshold ['lap', 'nlap', 'netlsd', 'portrait'] ['Full', 'Random', 'Threshold', 'Local Degree', 'K-Neighbor', 'Effective Resistance', 'APSP']\n",
      "netlsd Threshold ['lap', 'nlap', 'netlsd', 'portrait'] ['Full', 'Random', 'Threshold', 'Local Degree', 'K-Neighbor', 'Effective Resistance', 'APSP']\n",
      "lap Random ['lap', 'nlap', 'netlsd', 'portrait'] ['Full', 'Random', 'Threshold', 'Local Degree', 'K-Neighbor', 'Effective Resistance', 'APSP']\n",
      "portrait Random ['lap', 'nlap', 'netlsd', 'portrait'] ['Full', 'Random', 'Threshold', 'Local Degree', 'K-Neighbor', 'Effective Resistance', 'APSP']\n",
      "nlap Random ['lap', 'nlap', 'netlsd', 'portrait'] ['Full', 'Random', 'Threshold', 'Local Degree', 'K-Neighbor', 'Effective Resistance', 'APSP']\n",
      "netlsd Random ['lap', 'nlap', 'netlsd', 'portrait'] ['Full', 'Random', 'Threshold', 'Local Degree', 'K-Neighbor', 'Effective Resistance', 'APSP']\n",
      "nlap Effective Resistance ['lap', 'nlap', 'netlsd', 'portrait'] ['Full', 'Random', 'Threshold', 'Local Degree', 'K-Neighbor', 'Effective Resistance', 'APSP']\n",
      "lap Effective Resistance ['lap', 'nlap', 'netlsd', 'portrait'] ['Full', 'Random', 'Threshold', 'Local Degree', 'K-Neighbor', 'Effective Resistance', 'APSP']\n",
      "portrait Effective Resistance ['lap', 'nlap', 'netlsd', 'portrait'] ['Full', 'Random', 'Threshold', 'Local Degree', 'K-Neighbor', 'Effective Resistance', 'APSP']\n",
      "netlsd Effective Resistance ['lap', 'nlap', 'netlsd', 'portrait'] ['Full', 'Random', 'Threshold', 'Local Degree', 'K-Neighbor', 'Effective Resistance', 'APSP']\n",
      "lap APSP ['lap', 'nlap', 'netlsd', 'portrait'] ['Full', 'Random', 'Threshold', 'Local Degree', 'K-Neighbor', 'Effective Resistance', 'APSP']\n",
      "nlap APSP ['lap', 'nlap', 'netlsd', 'portrait'] ['Full', 'Random', 'Threshold', 'Local Degree', 'K-Neighbor', 'Effective Resistance', 'APSP']\n",
      "portrait APSP ['lap', 'nlap', 'netlsd', 'portrait'] ['Full', 'Random', 'Threshold', 'Local Degree', 'K-Neighbor', 'Effective Resistance', 'APSP']\n",
      "netlsd APSP ['lap', 'nlap', 'netlsd', 'portrait'] ['Full', 'Random', 'Threshold', 'Local Degree', 'K-Neighbor', 'Effective Resistance', 'APSP']\n",
      "nlap Full ['lap', 'nlap', 'netlsd', 'portrait'] ['Full', 'Random', 'Threshold', 'Local Degree', 'K-Neighbor', 'Effective Resistance', 'APSP']\n",
      "portrait Full ['lap', 'nlap', 'netlsd', 'portrait'] ['Full', 'Random', 'Threshold', 'Local Degree', 'K-Neighbor', 'Effective Resistance', 'APSP']\n",
      "netlsd Full ['lap', 'nlap', 'netlsd', 'portrait'] ['Full', 'Random', 'Threshold', 'Local Degree', 'K-Neighbor', 'Effective Resistance', 'APSP']\n",
      "lap Full ['lap', 'nlap', 'netlsd', 'portrait'] ['Full', 'Random', 'Threshold', 'Local Degree', 'K-Neighbor', 'Effective Resistance', 'APSP']\n",
      "lap Threshold ['lap', 'nlap', 'netlsd', 'portrait'] ['Full', 'Random', 'Threshold', 'Local Degree', 'K-Neighbor', 'Effective Resistance', 'APSP']\n",
      "portrait Threshold ['lap', 'nlap', 'netlsd', 'portrait'] ['Full', 'Random', 'Threshold', 'Local Degree', 'K-Neighbor', 'Effective Resistance', 'APSP']\n",
      "nlap Threshold ['lap', 'nlap', 'netlsd', 'portrait'] ['Full', 'Random', 'Threshold', 'Local Degree', 'K-Neighbor', 'Effective Resistance', 'APSP']\n",
      "netlsd Threshold ['lap', 'nlap', 'netlsd', 'portrait'] ['Full', 'Random', 'Threshold', 'Local Degree', 'K-Neighbor', 'Effective Resistance', 'APSP']\n",
      "portrait Random ['lap', 'nlap', 'netlsd', 'portrait'] ['Full', 'Random', 'Threshold', 'Local Degree', 'K-Neighbor', 'Effective Resistance', 'APSP']\n",
      "lap Random ['lap', 'nlap', 'netlsd', 'portrait'] ['Full', 'Random', 'Threshold', 'Local Degree', 'K-Neighbor', 'Effective Resistance', 'APSP']\n",
      "nlap Random ['lap', 'nlap', 'netlsd', 'portrait'] ['Full', 'Random', 'Threshold', 'Local Degree', 'K-Neighbor', 'Effective Resistance', 'APSP']\n",
      "netlsd Random ['lap', 'nlap', 'netlsd', 'portrait'] ['Full', 'Random', 'Threshold', 'Local Degree', 'K-Neighbor', 'Effective Resistance', 'APSP']\n",
      "portrait Local Degree ['lap', 'nlap', 'netlsd', 'portrait'] ['Full', 'Random', 'Threshold', 'Local Degree', 'K-Neighbor', 'Effective Resistance', 'APSP']\n",
      "nlap Local Degree ['lap', 'nlap', 'netlsd', 'portrait'] ['Full', 'Random', 'Threshold', 'Local Degree', 'K-Neighbor', 'Effective Resistance', 'APSP']\n",
      "lap Local Degree ['lap', 'nlap', 'netlsd', 'portrait'] ['Full', 'Random', 'Threshold', 'Local Degree', 'K-Neighbor', 'Effective Resistance', 'APSP']\n",
      "netlsd Local Degree ['lap', 'nlap', 'netlsd', 'portrait'] ['Full', 'Random', 'Threshold', 'Local Degree', 'K-Neighbor', 'Effective Resistance', 'APSP']\n",
      "nlap K-Neighbor ['lap', 'nlap', 'netlsd', 'portrait'] ['Full', 'Random', 'Threshold', 'Local Degree', 'K-Neighbor', 'Effective Resistance', 'APSP']\n",
      "netlsd K-Neighbor ['lap', 'nlap', 'netlsd', 'portrait'] ['Full', 'Random', 'Threshold', 'Local Degree', 'K-Neighbor', 'Effective Resistance', 'APSP']\n",
      "lap K-Neighbor ['lap', 'nlap', 'netlsd', 'portrait'] ['Full', 'Random', 'Threshold', 'Local Degree', 'K-Neighbor', 'Effective Resistance', 'APSP']\n",
      "portrait K-Neighbor ['lap', 'nlap', 'netlsd', 'portrait'] ['Full', 'Random', 'Threshold', 'Local Degree', 'K-Neighbor', 'Effective Resistance', 'APSP']\n",
      "portrait Effective Resistance ['lap', 'nlap', 'netlsd', 'portrait'] ['Full', 'Random', 'Threshold', 'Local Degree', 'K-Neighbor', 'Effective Resistance', 'APSP']\n",
      "nlap Effective Resistance ['lap', 'nlap', 'netlsd', 'portrait'] ['Full', 'Random', 'Threshold', 'Local Degree', 'K-Neighbor', 'Effective Resistance', 'APSP']\n",
      "netlsd Effective Resistance ['lap', 'nlap', 'netlsd', 'portrait'] ['Full', 'Random', 'Threshold', 'Local Degree', 'K-Neighbor', 'Effective Resistance', 'APSP']\n",
      "lap Effective Resistance ['lap', 'nlap', 'netlsd', 'portrait'] ['Full', 'Random', 'Threshold', 'Local Degree', 'K-Neighbor', 'Effective Resistance', 'APSP']\n"
     ]
    },
    {
     "data": {
      "text/plain": [
       "<Figure size 576x288 with 0 Axes>"
      ]
     },
     "metadata": {},
     "output_type": "display_data"
    },
    {
     "data": {
      "text/plain": [
       "<Figure size 576x288 with 0 Axes>"
      ]
     },
     "metadata": {},
     "output_type": "display_data"
    },
    {
     "data": {
      "text/plain": [
       "<Figure size 576x288 with 0 Axes>"
      ]
     },
     "metadata": {},
     "output_type": "display_data"
    }
   ],
   "source": [
    "for classification_mode in CLASSIFICATION_MODES:\n",
    "    key = \", \".join(classification_mode)\n",
    "    clustering_aupr_by_sparsifier(D_a[key], classification_mode)"
   ]
  },
  {
   "cell_type": "code",
   "execution_count": 44,
   "metadata": {},
   "outputs": [],
   "source": [
    "import pandas as pd\n",
    "import json\n",
    "from itertools import product\n",
    "\n",
    "from utils.static import *\n",
    "from utils.plots import *\n",
    "plot = Plot()\n",
    "\n",
    "D_c, labels, D_a, best_approx_index = load_clustering_dfs(compute = False, K = K_TEST_REP)"
   ]
  },
  {
   "cell_type": "code",
   "execution_count": 54,
   "metadata": {},
   "outputs": [],
   "source": [
    "def clustering(distances_matrix, metric, labels, sparses = S_NAME):\n",
    "\tlinkage = {}\n",
    "\tfor sparse in sparses:\n",
    "\t\tlinkage[sparse] = hierarchy.linkage(distances_matrix[sparse][metric.id].to_numpy(),\n",
    "\t\t\t\t\t\t\t\t\tmethod='ward', optimal_ordering=True)\n",
    "\n",
    "\tcolors_dict = {\"Graph\" : [G_COLORS[l['graph']] for l in labels],\n",
    "\t\t\t\t\t\"Weight\": [W_COLORS[l['weight']] for l in labels]}\n",
    "\n",
    "\tfor sparse in sparses:\n",
    "\t\tplt.figure(figsize=(16, 12))\n",
    "\t\tplt.subplots_adjust(bottom=0.15, top=0.8)\n",
    "\t\tD = hierarchy.dendrogram(linkage[sparse], \n",
    "\t\t\t\t\t\t\t\tlabels = [\"\"] * len(labels), \n",
    "\t\t\t\t\t\t\t\tcolor_threshold=0.3*max(linkage[sparse][:, 2]),\n",
    "\t\t\t\t\t\t\t\tleaf_font_size=1)\n",
    "\t\trt.plot(D, colorlabels = colors_dict, colorlabels_legend = COLORS_LEGENDS)\n",
    "\t\tplt.title(f'Clustering on {sparse} graphs\\nMetric: {metric.name}\\n')\n",
    "\n",
    "\t\tout_path = f'plots/_presentation/clustering/dendrogram'\n",
    "\t\tsave_file(out_path, sparse, dpi = 400)"
   ]
  },
  {
   "cell_type": "code",
   "execution_count": 55,
   "metadata": {},
   "outputs": [
    {
     "name": "stdout",
     "output_type": "stream",
     "text": [
      "0.3\n",
      "1.3\n",
      "dict_values(['green', 'blue', 'pink', 'violet'])\n",
      "dict_values(['red', 'orange', 'yellow'])\n"
     ]
    },
    {
     "name": "stderr",
     "output_type": "stream",
     "text": [
      "c:\\Users\\Nicol\\Miniconda3\\lib\\site-packages\\radialtree.py:431: UserWarning: Matplotlib is currently using module://matplotlib_inline.backend_inline, which is a non-GUI backend, so cannot show the figure.\n",
      "  fig.show()\n"
     ]
    },
    {
     "name": "stdout",
     "output_type": "stream",
     "text": [
      "0.3\n",
      "1.3\n",
      "dict_values(['green', 'blue', 'pink', 'violet'])\n",
      "dict_values(['red', 'orange', 'yellow'])\n"
     ]
    },
    {
     "name": "stderr",
     "output_type": "stream",
     "text": [
      "c:\\Users\\Nicol\\Miniconda3\\lib\\site-packages\\radialtree.py:431: UserWarning: Matplotlib is currently using module://matplotlib_inline.backend_inline, which is a non-GUI backend, so cannot show the figure.\n",
      "  fig.show()\n"
     ]
    },
    {
     "name": "stdout",
     "output_type": "stream",
     "text": [
      "0.3\n",
      "1.3\n",
      "dict_values(['green', 'blue', 'pink', 'violet'])\n",
      "dict_values(['red', 'orange', 'yellow'])\n"
     ]
    },
    {
     "name": "stderr",
     "output_type": "stream",
     "text": [
      "c:\\Users\\Nicol\\Miniconda3\\lib\\site-packages\\radialtree.py:431: UserWarning: Matplotlib is currently using module://matplotlib_inline.backend_inline, which is a non-GUI backend, so cannot show the figure.\n",
      "  fig.show()\n"
     ]
    },
    {
     "data": {
      "image/png": "[encoded data removed]",
      "text/plain": [
       "<Figure size 1152x864 with 1 Axes>"
      ]
     },
     "metadata": {
      "needs_background": "light"
     },
     "output_type": "display_data"
    },
    {
     "data": {
      "text/plain": [
       "<Figure size 720x360 with 0 Axes>"
      ]
     },
     "metadata": {},
     "output_type": "display_data"
    },
    {
     "data": {
      "image/png": "[encoded data removed]",
      "text/plain": [
       "<Figure size 1152x864 with 1 Axes>"
      ]
     },
     "metadata": {
      "needs_background": "light"
     },
     "output_type": "display_data"
    },
    {
     "data": {
      "text/plain": [
       "<Figure size 720x360 with 0 Axes>"
      ]
     },
     "metadata": {},
     "output_type": "display_data"
    },
    {
     "data": {
      "image/png": "[encoded data removed]",
      "text/plain": [
       "<Figure size 1152x864 with 1 Axes>"
      ]
     },
     "metadata": {
      "needs_background": "light"
     },
     "output_type": "display_data"
    },
    {
     "data": {
      "text/plain": [
       "<Figure size 720x360 with 0 Axes>"
      ]
     },
     "metadata": {},
     "output_type": "display_data"
    }
   ],
   "source": [
    "metric = NormalizedLaplacianSpectrum()\n",
    "clustering(D_c[best_approx_index], metric, labels, sparses = ['Full', 'Random', 'Local Degree'])"
   ]
  }
 ],
 "metadata": {
  "kernelspec": {
   "display_name": "base",
   "language": "python",
   "name": "python3"
  },
  "language_info": {
   "codemirror_mode": {
    "name": "ipython",
    "version": 3
   },
   "file_extension": ".py",
   "mimetype": "text/x-python",
   "name": "python",
   "nbconvert_exporter": "python",
   "pygments_lexer": "ipython3",
   "version": "3.7.3"
  }
 },
 "nbformat": 4,
 "nbformat_minor": 2
}
